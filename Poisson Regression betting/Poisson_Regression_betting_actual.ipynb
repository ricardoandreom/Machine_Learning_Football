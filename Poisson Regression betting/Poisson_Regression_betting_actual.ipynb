{
  "cells": [
    {
      "cell_type": "markdown",
      "metadata": {
        "ExecuteTime": {
          "end_time": "2019-10-09T11:23:54.170987Z",
          "start_time": "2019-10-09T11:23:54.167752Z"
        },
        "id": "m-YgOO_-kM_-"
      },
      "source": [
        "# Can Poisson distribution be used for betting?"
      ]
    },
    {
      "cell_type": "raw",
      "metadata": {
        "id": "uAMqUe-9kM__"
      },
      "source": [
        "For soccer there is a huge market and you are able to bet on nearly every event which can appear in a soccer game like goals, players, cards, corners and so on.\n",
        "We will have a deeper look how we can use the Poisson distribution in Python.\n",
        "I will go deeper into details and I will review the success of the model to answer the questions if the Poisson distribution can be used for betting. "
      ]
    },
    {
      "cell_type": "raw",
      "metadata": {
        "id": "ONd3DY31kNAA"
      },
      "source": [
        "Before we create models, predict results and check these for correctness, we need some data. So let´s get the last Premier League (PL) season:"
      ]
    },
    {
      "cell_type": "code",
      "execution_count": 50,
      "metadata": {
        "ExecuteTime": {
          "end_time": "2019-10-18T14:33:21.065537Z",
          "start_time": "2019-10-18T14:33:13.078446Z"
        },
        "id": "bGzhZ_-QkNAA"
      },
      "outputs": [],
      "source": [
        "import pandas as pd\n",
        "import numpy as np\n",
        "import matplotlib.pyplot as plt\n",
        "import math\n",
        "import seaborn\n",
        "from scipy.stats import poisson,skellam\n",
        "\n",
        "#https://www.football-data.co.uk/portugalm.php\n",
        "league = pd.read_csv('P1.csv')\n",
        "league = league[['HomeTeam','AwayTeam','FTHG','FTAG']].rename(columns={'FTHG': 'Home goals', 'FTAG': 'Away goals', 'AwayTeam': 'Away team', 'HomeTeam': 'Home team' })"
      ]
    },
    {
      "cell_type": "code",
      "source": [
        "league"
      ],
      "metadata": {
        "colab": {
          "base_uri": "https://localhost:8080/",
          "height": 424
        },
        "id": "Lk40OE-irOjW",
        "outputId": "cc2c62a7-12f6-4ea3-e524-339a6237b510"
      },
      "execution_count": 71,
      "outputs": [
        {
          "output_type": "execute_result",
          "data": {
            "text/plain": [
              "         Home team  Away team  Home goals  Away goals\n",
              "0          Benfica     Arouca           4           0\n",
              "1          Rio Ave     Vizela           0           1\n",
              "2          Estoril  Famalicao           2           0\n",
              "3            Porto   Maritimo           5           1\n",
              "4      Santa Clara   Casa Pia           0           0\n",
              "..             ...        ...         ...         ...\n",
              "76  Pacos Ferreira  Guimaraes           0           1\n",
              "77        Boavista   Maritimo           1           1\n",
              "78        Casa Pia     Vizela           0           1\n",
              "79        Sp Braga     Chaves           0           1\n",
              "80          Arouca  Famalicao           4           1\n",
              "\n",
              "[81 rows x 4 columns]"
            ],
            "text/html": [
              "\n",
              "  <div id=\"df-7b90c3e9-96b2-4ea6-8c8b-d24f9a142cbd\">\n",
              "    <div class=\"colab-df-container\">\n",
              "      <div>\n",
              "<style scoped>\n",
              "    .dataframe tbody tr th:only-of-type {\n",
              "        vertical-align: middle;\n",
              "    }\n",
              "\n",
              "    .dataframe tbody tr th {\n",
              "        vertical-align: top;\n",
              "    }\n",
              "\n",
              "    .dataframe thead th {\n",
              "        text-align: right;\n",
              "    }\n",
              "</style>\n",
              "<table border=\"1\" class=\"dataframe\">\n",
              "  <thead>\n",
              "    <tr style=\"text-align: right;\">\n",
              "      <th></th>\n",
              "      <th>Home team</th>\n",
              "      <th>Away team</th>\n",
              "      <th>Home goals</th>\n",
              "      <th>Away goals</th>\n",
              "    </tr>\n",
              "  </thead>\n",
              "  <tbody>\n",
              "    <tr>\n",
              "      <th>0</th>\n",
              "      <td>Benfica</td>\n",
              "      <td>Arouca</td>\n",
              "      <td>4</td>\n",
              "      <td>0</td>\n",
              "    </tr>\n",
              "    <tr>\n",
              "      <th>1</th>\n",
              "      <td>Rio Ave</td>\n",
              "      <td>Vizela</td>\n",
              "      <td>0</td>\n",
              "      <td>1</td>\n",
              "    </tr>\n",
              "    <tr>\n",
              "      <th>2</th>\n",
              "      <td>Estoril</td>\n",
              "      <td>Famalicao</td>\n",
              "      <td>2</td>\n",
              "      <td>0</td>\n",
              "    </tr>\n",
              "    <tr>\n",
              "      <th>3</th>\n",
              "      <td>Porto</td>\n",
              "      <td>Maritimo</td>\n",
              "      <td>5</td>\n",
              "      <td>1</td>\n",
              "    </tr>\n",
              "    <tr>\n",
              "      <th>4</th>\n",
              "      <td>Santa Clara</td>\n",
              "      <td>Casa Pia</td>\n",
              "      <td>0</td>\n",
              "      <td>0</td>\n",
              "    </tr>\n",
              "    <tr>\n",
              "      <th>...</th>\n",
              "      <td>...</td>\n",
              "      <td>...</td>\n",
              "      <td>...</td>\n",
              "      <td>...</td>\n",
              "    </tr>\n",
              "    <tr>\n",
              "      <th>76</th>\n",
              "      <td>Pacos Ferreira</td>\n",
              "      <td>Guimaraes</td>\n",
              "      <td>0</td>\n",
              "      <td>1</td>\n",
              "    </tr>\n",
              "    <tr>\n",
              "      <th>77</th>\n",
              "      <td>Boavista</td>\n",
              "      <td>Maritimo</td>\n",
              "      <td>1</td>\n",
              "      <td>1</td>\n",
              "    </tr>\n",
              "    <tr>\n",
              "      <th>78</th>\n",
              "      <td>Casa Pia</td>\n",
              "      <td>Vizela</td>\n",
              "      <td>0</td>\n",
              "      <td>1</td>\n",
              "    </tr>\n",
              "    <tr>\n",
              "      <th>79</th>\n",
              "      <td>Sp Braga</td>\n",
              "      <td>Chaves</td>\n",
              "      <td>0</td>\n",
              "      <td>1</td>\n",
              "    </tr>\n",
              "    <tr>\n",
              "      <th>80</th>\n",
              "      <td>Arouca</td>\n",
              "      <td>Famalicao</td>\n",
              "      <td>4</td>\n",
              "      <td>1</td>\n",
              "    </tr>\n",
              "  </tbody>\n",
              "</table>\n",
              "<p>81 rows × 4 columns</p>\n",
              "</div>\n",
              "      <button class=\"colab-df-convert\" onclick=\"convertToInteractive('df-7b90c3e9-96b2-4ea6-8c8b-d24f9a142cbd')\"\n",
              "              title=\"Convert this dataframe to an interactive table.\"\n",
              "              style=\"display:none;\">\n",
              "        \n",
              "  <svg xmlns=\"http://www.w3.org/2000/svg\" height=\"24px\"viewBox=\"0 0 24 24\"\n",
              "       width=\"24px\">\n",
              "    <path d=\"M0 0h24v24H0V0z\" fill=\"none\"/>\n",
              "    <path d=\"M18.56 5.44l.94 2.06.94-2.06 2.06-.94-2.06-.94-.94-2.06-.94 2.06-2.06.94zm-11 1L8.5 8.5l.94-2.06 2.06-.94-2.06-.94L8.5 2.5l-.94 2.06-2.06.94zm10 10l.94 2.06.94-2.06 2.06-.94-2.06-.94-.94-2.06-.94 2.06-2.06.94z\"/><path d=\"M17.41 7.96l-1.37-1.37c-.4-.4-.92-.59-1.43-.59-.52 0-1.04.2-1.43.59L10.3 9.45l-7.72 7.72c-.78.78-.78 2.05 0 2.83L4 21.41c.39.39.9.59 1.41.59.51 0 1.02-.2 1.41-.59l7.78-7.78 2.81-2.81c.8-.78.8-2.07 0-2.86zM5.41 20L4 18.59l7.72-7.72 1.47 1.35L5.41 20z\"/>\n",
              "  </svg>\n",
              "      </button>\n",
              "      \n",
              "  <style>\n",
              "    .colab-df-container {\n",
              "      display:flex;\n",
              "      flex-wrap:wrap;\n",
              "      gap: 12px;\n",
              "    }\n",
              "\n",
              "    .colab-df-convert {\n",
              "      background-color: #E8F0FE;\n",
              "      border: none;\n",
              "      border-radius: 50%;\n",
              "      cursor: pointer;\n",
              "      display: none;\n",
              "      fill: #1967D2;\n",
              "      height: 32px;\n",
              "      padding: 0 0 0 0;\n",
              "      width: 32px;\n",
              "    }\n",
              "\n",
              "    .colab-df-convert:hover {\n",
              "      background-color: #E2EBFA;\n",
              "      box-shadow: 0px 1px 2px rgba(60, 64, 67, 0.3), 0px 1px 3px 1px rgba(60, 64, 67, 0.15);\n",
              "      fill: #174EA6;\n",
              "    }\n",
              "\n",
              "    [theme=dark] .colab-df-convert {\n",
              "      background-color: #3B4455;\n",
              "      fill: #D2E3FC;\n",
              "    }\n",
              "\n",
              "    [theme=dark] .colab-df-convert:hover {\n",
              "      background-color: #434B5C;\n",
              "      box-shadow: 0px 1px 3px 1px rgba(0, 0, 0, 0.15);\n",
              "      filter: drop-shadow(0px 1px 2px rgba(0, 0, 0, 0.3));\n",
              "      fill: #FFFFFF;\n",
              "    }\n",
              "  </style>\n",
              "\n",
              "      <script>\n",
              "        const buttonEl =\n",
              "          document.querySelector('#df-7b90c3e9-96b2-4ea6-8c8b-d24f9a142cbd button.colab-df-convert');\n",
              "        buttonEl.style.display =\n",
              "          google.colab.kernel.accessAllowed ? 'block' : 'none';\n",
              "\n",
              "        async function convertToInteractive(key) {\n",
              "          const element = document.querySelector('#df-7b90c3e9-96b2-4ea6-8c8b-d24f9a142cbd');\n",
              "          const dataTable =\n",
              "            await google.colab.kernel.invokeFunction('convertToInteractive',\n",
              "                                                     [key], {});\n",
              "          if (!dataTable) return;\n",
              "\n",
              "          const docLinkHtml = 'Like what you see? Visit the ' +\n",
              "            '<a target=\"_blank\" href=https://colab.research.google.com/notebooks/data_table.ipynb>data table notebook</a>'\n",
              "            + ' to learn more about interactive tables.';\n",
              "          element.innerHTML = '';\n",
              "          dataTable['output_type'] = 'display_data';\n",
              "          await google.colab.output.renderOutput(dataTable, element);\n",
              "          const docLink = document.createElement('div');\n",
              "          docLink.innerHTML = docLinkHtml;\n",
              "          element.appendChild(docLink);\n",
              "        }\n",
              "      </script>\n",
              "    </div>\n",
              "  </div>\n",
              "  "
            ]
          },
          "metadata": {},
          "execution_count": 71
        }
      ]
    },
    {
      "cell_type": "raw",
      "metadata": {
        "id": "3KAR06QjkNAB"
      },
      "source": [
        "20 Teams are playing in the PL, so we remove the last 10 rows and try to predict the results for the last matchday. After we are looking for the average home and away goals."
      ]
    },
    {
      "cell_type": "code",
      "execution_count": 52,
      "metadata": {
        "ExecuteTime": {
          "end_time": "2019-10-18T14:33:21.097313Z",
          "start_time": "2019-10-18T14:33:21.069356Z"
        },
        "scrolled": false,
        "colab": {
          "base_uri": "https://localhost:8080/"
        },
        "id": "jzDcCmkzkNAB",
        "outputId": "895efadf-c03f-42ea-c16f-c2ddc32e6234"
      },
      "outputs": [
        {
          "output_type": "stream",
          "name": "stderr",
          "text": [
            "/usr/local/lib/python3.7/dist-packages/ipykernel_launcher.py:4: FutureWarning:\n",
            "\n",
            "Dropping of nuisance columns in DataFrame reductions (with 'numeric_only=None') is deprecated; in a future version this will raise TypeError.  Select only valid columns before calling the reduction.\n",
            "\n"
          ]
        },
        {
          "output_type": "execute_result",
          "data": {
            "text/plain": [
              "Home goals    1.395062\n",
              "Away goals    1.098765\n",
              "dtype: float64"
            ]
          },
          "metadata": {},
          "execution_count": 52
        }
      ],
      "source": [
        "#original_league = league\n",
        "#league_till_last_round = league[-9:]\n",
        "#league = league[:-9]\n",
        "league.mean()"
      ]
    },
    {
      "cell_type": "code",
      "source": [
        "league_till_last_round = pd.read_excel('/content/Jornada_10_ligapt.xlsx')\n",
        "league_till_last_round.info()"
      ],
      "metadata": {
        "colab": {
          "base_uri": "https://localhost:8080/"
        },
        "id": "v4opuPCSn3ow",
        "outputId": "eefc19b1-24ea-458a-85d1-d8b017aff440"
      },
      "execution_count": 72,
      "outputs": [
        {
          "output_type": "stream",
          "name": "stdout",
          "text": [
            "<class 'pandas.core.frame.DataFrame'>\n",
            "RangeIndex: 9 entries, 0 to 8\n",
            "Data columns (total 4 columns):\n",
            " #   Column      Non-Null Count  Dtype  \n",
            "---  ------      --------------  -----  \n",
            " 0   Home team   9 non-null      object \n",
            " 1   Away team   9 non-null      object \n",
            " 2   Home goals  0 non-null      float64\n",
            " 3   Away goals  0 non-null      float64\n",
            "dtypes: float64(2), object(2)\n",
            "memory usage: 416.0+ bytes\n"
          ]
        }
      ]
    },
    {
      "cell_type": "raw",
      "metadata": {
        "id": "6sa8vtkikNAC"
      },
      "source": [
        "For soccer fans this result is not suprising. The home teams score more goals in average than the away teams. "
      ]
    },
    {
      "cell_type": "code",
      "execution_count": 54,
      "metadata": {
        "ExecuteTime": {
          "end_time": "2019-10-18T14:33:21.111263Z",
          "start_time": "2019-10-18T14:33:21.099277Z"
        },
        "colab": {
          "base_uri": "https://localhost:8080/"
        },
        "id": "ESu1cBFckNAC",
        "outputId": "c1445b83-35a8-4c28-b57f-8540b42618de"
      },
      "outputs": [
        {
          "output_type": "execute_result",
          "data": {
            "text/plain": [
              "Home goals    5\n",
              "Away goals    6\n",
              "dtype: int64"
            ]
          },
          "metadata": {},
          "execution_count": 54
        }
      ],
      "source": [
        "league[['Home goals','Away goals']].max()"
      ]
    },
    {
      "cell_type": "raw",
      "metadata": {
        "id": "CPoAxxyMkNAC"
      },
      "source": [
        "The highest amount of goals by one team in a single match was 7. Basically we have now all required parameter for our Poisson distribution. In a first step we can predict the probability that the home team scores 3 goal for example:"
      ]
    },
    {
      "cell_type": "code",
      "execution_count": 55,
      "metadata": {
        "ExecuteTime": {
          "end_time": "2019-10-18T14:33:21.129196Z",
          "start_time": "2019-10-18T14:33:21.118223Z"
        },
        "colab": {
          "base_uri": "https://localhost:8080/"
        },
        "id": "XZItfobskNAC",
        "outputId": "f973f195-a9b0-4433-d19d-fdec38826322"
      },
      "outputs": [
        {
          "output_type": "execute_result",
          "data": {
            "text/plain": [
              "11.214025738951833"
            ]
          },
          "metadata": {},
          "execution_count": 55
        }
      ],
      "source": [
        "poisson.pmf(3,1.395062)*100"
      ]
    },
    {
      "cell_type": "raw",
      "metadata": {
        "id": "Ta3OaI0mkNAC"
      },
      "source": [
        "The chance that the home teams scores 3 goals is 11,37%. Let´s visualize the values for an amount of goals between 0 and 7 and for the home and away side:"
      ]
    },
    {
      "cell_type": "code",
      "execution_count": 56,
      "metadata": {
        "ExecuteTime": {
          "end_time": "2019-10-18T15:52:54.153105Z",
          "start_time": "2019-10-18T15:52:52.266167Z"
        },
        "scrolled": false,
        "colab": {
          "base_uri": "https://localhost:8080/",
          "height": 701
        },
        "id": "GgE22lPRkNAD",
        "outputId": "96ed34c0-eb2c-4659-cf04-4fc10022f231"
      },
      "outputs": [
        {
          "output_type": "stream",
          "name": "stderr",
          "text": [
            "/usr/local/lib/python3.7/dist-packages/ipykernel_launcher.py:14: FutureWarning:\n",
            "\n",
            "Dropping of nuisance columns in DataFrame reductions (with 'numeric_only=None') is deprecated; in a future version this will raise TypeError.  Select only valid columns before calling the reduction.\n",
            "\n",
            "/usr/local/lib/python3.7/dist-packages/ipykernel_launcher.py:15: FutureWarning:\n",
            "\n",
            "Dropping of nuisance columns in DataFrame reductions (with 'numeric_only=None') is deprecated; in a future version this will raise TypeError.  Select only valid columns before calling the reduction.\n",
            "\n"
          ]
        },
        {
          "output_type": "display_data",
          "data": {
            "text/html": [
              "<html>\n",
              "<head><meta charset=\"utf-8\" /></head>\n",
              "<body>\n",
              "    <div>            <script src=\"https://cdnjs.cloudflare.com/ajax/libs/mathjax/2.7.5/MathJax.js?config=TeX-AMS-MML_SVG\"></script><script type=\"text/javascript\">if (window.MathJax) {MathJax.Hub.Config({SVG: {font: \"STIX-Web\"}});}</script>                <script type=\"text/javascript\">window.PlotlyConfig = {MathJaxConfig: 'local'};</script>\n",
              "        <script src=\"https://cdn.plot.ly/plotly-2.8.3.min.js\"></script>                <div id=\"e197a2ad-7abb-45e6-8014-0563eea7a391\" class=\"plotly-graph-div\" style=\"height:525px; width:100%;\"></div>            <script type=\"text/javascript\">                                    window.PLOTLYENV=window.PLOTLYENV || {};                                    if (document.getElementById(\"e197a2ad-7abb-45e6-8014-0563eea7a391\")) {                    Plotly.newPlot(                        \"e197a2ad-7abb-45e6-8014-0563eea7a391\",                        [{\"histnorm\":\"percent\",\"marker\":{\"color\":\"#E13C3C\"},\"name\":\"Home goals\",\"opacity\":0.65,\"x\":[4,0,2,5,0,3,0,0,1,0,0,3,2,0,1,1,1,0,2,1,1,3,2,5,2,0,0,0,0,0,1,0,3,0,2,3,2,0,1,0,0,2,1,1,1,1,0,4,3,2,1,1,2,0,1,2,1,1,2,2,5,1,2,3,4,1,1,0,1,1,4,1,0,1,4,0,0,1,0,0,4],\"type\":\"histogram\"},{\"histnorm\":\"percent\",\"marker\":{\"color\":\"#4C3CE1\"},\"name\":\"Away goals\",\"opacity\":0.65,\"x\":[0,1,0,1,0,3,1,1,0,3,1,0,1,1,0,2,0,3,2,2,1,0,0,0,1,0,3,1,3,2,0,6,1,1,2,2,1,2,0,2,0,1,0,0,1,0,1,0,0,3,2,2,3,1,0,2,1,1,1,2,0,0,0,1,1,0,1,0,0,1,0,2,1,2,2,2,1,1,1,1,1],\"type\":\"histogram\"},{\"line\":{\"color\":\"#E13C3C\",\"dash\":\"dash\",\"width\":4},\"mode\":\"lines+markers\",\"name\":\"Home goals - Poisson\",\"x\":[\"0\",\"1\",\"2\",\"3\",\"4\",\"5\",\"6\"],\"y\":[24.781773850381168,34.572104260408295,24.115109761889737,11.214022234952841,3.9110633103384904,1.091234948316665,0.2537233521806238],\"type\":\"scatter\"},{\"line\":{\"color\":\"#4C3CE1\",\"dash\":\"dash\",\"width\":4},\"mode\":\"lines+markers\",\"name\":\"Away goals - Poisson\",\"x\":[\"0\",\"1\",\"2\",\"3\",\"4\",\"5\",\"6\"],\"y\":[33.32822894317336,36.61990587583245,20.118343351537586,7.368446741921174,2.024048642070939,0.4447909361587993,0.0814534841936895],\"type\":\"scatter\"}],                        {\"template\":{\"data\":{\"bar\":[{\"error_x\":{\"color\":\"#2a3f5f\"},\"error_y\":{\"color\":\"#2a3f5f\"},\"marker\":{\"line\":{\"color\":\"#E5ECF6\",\"width\":0.5},\"pattern\":{\"fillmode\":\"overlay\",\"size\":10,\"solidity\":0.2}},\"type\":\"bar\"}],\"barpolar\":[{\"marker\":{\"line\":{\"color\":\"#E5ECF6\",\"width\":0.5},\"pattern\":{\"fillmode\":\"overlay\",\"size\":10,\"solidity\":0.2}},\"type\":\"barpolar\"}],\"carpet\":[{\"aaxis\":{\"endlinecolor\":\"#2a3f5f\",\"gridcolor\":\"white\",\"linecolor\":\"white\",\"minorgridcolor\":\"white\",\"startlinecolor\":\"#2a3f5f\"},\"baxis\":{\"endlinecolor\":\"#2a3f5f\",\"gridcolor\":\"white\",\"linecolor\":\"white\",\"minorgridcolor\":\"white\",\"startlinecolor\":\"#2a3f5f\"},\"type\":\"carpet\"}],\"choropleth\":[{\"colorbar\":{\"outlinewidth\":0,\"ticks\":\"\"},\"type\":\"choropleth\"}],\"contour\":[{\"colorbar\":{\"outlinewidth\":0,\"ticks\":\"\"},\"colorscale\":[[0.0,\"#0d0887\"],[0.1111111111111111,\"#46039f\"],[0.2222222222222222,\"#7201a8\"],[0.3333333333333333,\"#9c179e\"],[0.4444444444444444,\"#bd3786\"],[0.5555555555555556,\"#d8576b\"],[0.6666666666666666,\"#ed7953\"],[0.7777777777777778,\"#fb9f3a\"],[0.8888888888888888,\"#fdca26\"],[1.0,\"#f0f921\"]],\"type\":\"contour\"}],\"contourcarpet\":[{\"colorbar\":{\"outlinewidth\":0,\"ticks\":\"\"},\"type\":\"contourcarpet\"}],\"heatmap\":[{\"colorbar\":{\"outlinewidth\":0,\"ticks\":\"\"},\"colorscale\":[[0.0,\"#0d0887\"],[0.1111111111111111,\"#46039f\"],[0.2222222222222222,\"#7201a8\"],[0.3333333333333333,\"#9c179e\"],[0.4444444444444444,\"#bd3786\"],[0.5555555555555556,\"#d8576b\"],[0.6666666666666666,\"#ed7953\"],[0.7777777777777778,\"#fb9f3a\"],[0.8888888888888888,\"#fdca26\"],[1.0,\"#f0f921\"]],\"type\":\"heatmap\"}],\"heatmapgl\":[{\"colorbar\":{\"outlinewidth\":0,\"ticks\":\"\"},\"colorscale\":[[0.0,\"#0d0887\"],[0.1111111111111111,\"#46039f\"],[0.2222222222222222,\"#7201a8\"],[0.3333333333333333,\"#9c179e\"],[0.4444444444444444,\"#bd3786\"],[0.5555555555555556,\"#d8576b\"],[0.6666666666666666,\"#ed7953\"],[0.7777777777777778,\"#fb9f3a\"],[0.8888888888888888,\"#fdca26\"],[1.0,\"#f0f921\"]],\"type\":\"heatmapgl\"}],\"histogram\":[{\"marker\":{\"pattern\":{\"fillmode\":\"overlay\",\"size\":10,\"solidity\":0.2}},\"type\":\"histogram\"}],\"histogram2d\":[{\"colorbar\":{\"outlinewidth\":0,\"ticks\":\"\"},\"colorscale\":[[0.0,\"#0d0887\"],[0.1111111111111111,\"#46039f\"],[0.2222222222222222,\"#7201a8\"],[0.3333333333333333,\"#9c179e\"],[0.4444444444444444,\"#bd3786\"],[0.5555555555555556,\"#d8576b\"],[0.6666666666666666,\"#ed7953\"],[0.7777777777777778,\"#fb9f3a\"],[0.8888888888888888,\"#fdca26\"],[1.0,\"#f0f921\"]],\"type\":\"histogram2d\"}],\"histogram2dcontour\":[{\"colorbar\":{\"outlinewidth\":0,\"ticks\":\"\"},\"colorscale\":[[0.0,\"#0d0887\"],[0.1111111111111111,\"#46039f\"],[0.2222222222222222,\"#7201a8\"],[0.3333333333333333,\"#9c179e\"],[0.4444444444444444,\"#bd3786\"],[0.5555555555555556,\"#d8576b\"],[0.6666666666666666,\"#ed7953\"],[0.7777777777777778,\"#fb9f3a\"],[0.8888888888888888,\"#fdca26\"],[1.0,\"#f0f921\"]],\"type\":\"histogram2dcontour\"}],\"mesh3d\":[{\"colorbar\":{\"outlinewidth\":0,\"ticks\":\"\"},\"type\":\"mesh3d\"}],\"parcoords\":[{\"line\":{\"colorbar\":{\"outlinewidth\":0,\"ticks\":\"\"}},\"type\":\"parcoords\"}],\"pie\":[{\"automargin\":true,\"type\":\"pie\"}],\"scatter\":[{\"marker\":{\"colorbar\":{\"outlinewidth\":0,\"ticks\":\"\"}},\"type\":\"scatter\"}],\"scatter3d\":[{\"line\":{\"colorbar\":{\"outlinewidth\":0,\"ticks\":\"\"}},\"marker\":{\"colorbar\":{\"outlinewidth\":0,\"ticks\":\"\"}},\"type\":\"scatter3d\"}],\"scattercarpet\":[{\"marker\":{\"colorbar\":{\"outlinewidth\":0,\"ticks\":\"\"}},\"type\":\"scattercarpet\"}],\"scattergeo\":[{\"marker\":{\"colorbar\":{\"outlinewidth\":0,\"ticks\":\"\"}},\"type\":\"scattergeo\"}],\"scattergl\":[{\"marker\":{\"colorbar\":{\"outlinewidth\":0,\"ticks\":\"\"}},\"type\":\"scattergl\"}],\"scattermapbox\":[{\"marker\":{\"colorbar\":{\"outlinewidth\":0,\"ticks\":\"\"}},\"type\":\"scattermapbox\"}],\"scatterpolar\":[{\"marker\":{\"colorbar\":{\"outlinewidth\":0,\"ticks\":\"\"}},\"type\":\"scatterpolar\"}],\"scatterpolargl\":[{\"marker\":{\"colorbar\":{\"outlinewidth\":0,\"ticks\":\"\"}},\"type\":\"scatterpolargl\"}],\"scatterternary\":[{\"marker\":{\"colorbar\":{\"outlinewidth\":0,\"ticks\":\"\"}},\"type\":\"scatterternary\"}],\"surface\":[{\"colorbar\":{\"outlinewidth\":0,\"ticks\":\"\"},\"colorscale\":[[0.0,\"#0d0887\"],[0.1111111111111111,\"#46039f\"],[0.2222222222222222,\"#7201a8\"],[0.3333333333333333,\"#9c179e\"],[0.4444444444444444,\"#bd3786\"],[0.5555555555555556,\"#d8576b\"],[0.6666666666666666,\"#ed7953\"],[0.7777777777777778,\"#fb9f3a\"],[0.8888888888888888,\"#fdca26\"],[1.0,\"#f0f921\"]],\"type\":\"surface\"}],\"table\":[{\"cells\":{\"fill\":{\"color\":\"#EBF0F8\"},\"line\":{\"color\":\"white\"}},\"header\":{\"fill\":{\"color\":\"#C8D4E3\"},\"line\":{\"color\":\"white\"}},\"type\":\"table\"}]},\"layout\":{\"annotationdefaults\":{\"arrowcolor\":\"#2a3f5f\",\"arrowhead\":0,\"arrowwidth\":1},\"autotypenumbers\":\"strict\",\"coloraxis\":{\"colorbar\":{\"outlinewidth\":0,\"ticks\":\"\"}},\"colorscale\":{\"diverging\":[[0,\"#8e0152\"],[0.1,\"#c51b7d\"],[0.2,\"#de77ae\"],[0.3,\"#f1b6da\"],[0.4,\"#fde0ef\"],[0.5,\"#f7f7f7\"],[0.6,\"#e6f5d0\"],[0.7,\"#b8e186\"],[0.8,\"#7fbc41\"],[0.9,\"#4d9221\"],[1,\"#276419\"]],\"sequential\":[[0.0,\"#0d0887\"],[0.1111111111111111,\"#46039f\"],[0.2222222222222222,\"#7201a8\"],[0.3333333333333333,\"#9c179e\"],[0.4444444444444444,\"#bd3786\"],[0.5555555555555556,\"#d8576b\"],[0.6666666666666666,\"#ed7953\"],[0.7777777777777778,\"#fb9f3a\"],[0.8888888888888888,\"#fdca26\"],[1.0,\"#f0f921\"]],\"sequentialminus\":[[0.0,\"#0d0887\"],[0.1111111111111111,\"#46039f\"],[0.2222222222222222,\"#7201a8\"],[0.3333333333333333,\"#9c179e\"],[0.4444444444444444,\"#bd3786\"],[0.5555555555555556,\"#d8576b\"],[0.6666666666666666,\"#ed7953\"],[0.7777777777777778,\"#fb9f3a\"],[0.8888888888888888,\"#fdca26\"],[1.0,\"#f0f921\"]]},\"colorway\":[\"#636efa\",\"#EF553B\",\"#00cc96\",\"#ab63fa\",\"#FFA15A\",\"#19d3f3\",\"#FF6692\",\"#B6E880\",\"#FF97FF\",\"#FECB52\"],\"font\":{\"color\":\"#2a3f5f\"},\"geo\":{\"bgcolor\":\"white\",\"lakecolor\":\"white\",\"landcolor\":\"#E5ECF6\",\"showlakes\":true,\"showland\":true,\"subunitcolor\":\"white\"},\"hoverlabel\":{\"align\":\"left\"},\"hovermode\":\"closest\",\"mapbox\":{\"style\":\"light\"},\"paper_bgcolor\":\"white\",\"plot_bgcolor\":\"#E5ECF6\",\"polar\":{\"angularaxis\":{\"gridcolor\":\"white\",\"linecolor\":\"white\",\"ticks\":\"\"},\"bgcolor\":\"#E5ECF6\",\"radialaxis\":{\"gridcolor\":\"white\",\"linecolor\":\"white\",\"ticks\":\"\"}},\"scene\":{\"xaxis\":{\"backgroundcolor\":\"#E5ECF6\",\"gridcolor\":\"white\",\"gridwidth\":2,\"linecolor\":\"white\",\"showbackground\":true,\"ticks\":\"\",\"zerolinecolor\":\"white\"},\"yaxis\":{\"backgroundcolor\":\"#E5ECF6\",\"gridcolor\":\"white\",\"gridwidth\":2,\"linecolor\":\"white\",\"showbackground\":true,\"ticks\":\"\",\"zerolinecolor\":\"white\"},\"zaxis\":{\"backgroundcolor\":\"#E5ECF6\",\"gridcolor\":\"white\",\"gridwidth\":2,\"linecolor\":\"white\",\"showbackground\":true,\"ticks\":\"\",\"zerolinecolor\":\"white\"}},\"shapedefaults\":{\"line\":{\"color\":\"#2a3f5f\"}},\"ternary\":{\"aaxis\":{\"gridcolor\":\"white\",\"linecolor\":\"white\",\"ticks\":\"\"},\"baxis\":{\"gridcolor\":\"white\",\"linecolor\":\"white\",\"ticks\":\"\"},\"bgcolor\":\"#E5ECF6\",\"caxis\":{\"gridcolor\":\"white\",\"linecolor\":\"white\",\"ticks\":\"\"}},\"title\":{\"x\":0.05},\"xaxis\":{\"automargin\":true,\"gridcolor\":\"white\",\"linecolor\":\"white\",\"ticks\":\"\",\"title\":{\"standoff\":15},\"zerolinecolor\":\"white\",\"zerolinewidth\":2},\"yaxis\":{\"automargin\":true,\"gridcolor\":\"white\",\"linecolor\":\"white\",\"ticks\":\"\",\"title\":{\"standoff\":15},\"zerolinecolor\":\"white\",\"zerolinewidth\":2}}},\"title\":{\"text\":\"Real n\\u00ba goals per match vs Poisson prediction\\n         Liga Portugal 2021/22\",\"font\":{\"family\":\"Calibri\",\"color\":\"black\"}},\"xaxis\":{\"title\":{\"text\":\"Goals in a match\"}},\"yaxis\":{\"title\":{\"text\":\"% Probability\"}},\"barmode\":\"group\",\"plot_bgcolor\":\"rgba(255,250,250 250)\",\"paper_bgcolor\":\"rgba(255,250,250,250)\"},                        {\"responsive\": true}                    ).then(function(){\n",
              "                            \n",
              "var gd = document.getElementById('e197a2ad-7abb-45e6-8014-0563eea7a391');\n",
              "var x = new MutationObserver(function (mutations, observer) {{\n",
              "        var display = window.getComputedStyle(gd).display;\n",
              "        if (!display || display === 'none') {{\n",
              "            console.log([gd, 'removed!']);\n",
              "            Plotly.purge(gd);\n",
              "            observer.disconnect();\n",
              "        }}\n",
              "}});\n",
              "\n",
              "// Listen for the removal of the full notebook cells\n",
              "var notebookContainer = gd.closest('#notebook-container');\n",
              "if (notebookContainer) {{\n",
              "    x.observe(notebookContainer, {childList: true});\n",
              "}}\n",
              "\n",
              "// Listen for the clearing of the current output cell\n",
              "var outputEl = gd.closest('.output');\n",
              "if (outputEl) {{\n",
              "    x.observe(outputEl, {childList: true});\n",
              "}}\n",
              "\n",
              "                        })                };                            </script>        </div>\n",
              "</body>\n",
              "</html>"
            ]
          },
          "metadata": {}
        }
      ],
      "source": [
        "import plotly.graph_objects as go\n",
        "\n",
        "#Y-Axis ticks for the line\n",
        "max_goals = max(league[['Home goals','Away goals']].max())+1\n",
        "goals = []\n",
        "for i in range(max_goals):\n",
        "  goals.append(i)\n",
        "  goals[i] = str(goals[i])\n",
        "\n",
        "#Poisson predictions as percentage\n",
        "prob_poisson_home = []\n",
        "prob_poisson_away = []\n",
        "for i in range(max_goals):\n",
        "    prob_poisson_home.append(poisson.pmf(i, league.mean().to_list()[0])*100)\n",
        "    prob_poisson_away.append(poisson.pmf(i, league.mean().to_list()[1])*100)\n",
        "\n",
        "fig = go.Figure()\n",
        "fig.add_trace(go.Histogram(\n",
        "    x=league['Home goals'],\n",
        "    histnorm='percent',\n",
        "    name='Home goals',\n",
        "    marker_color='#E13C3C',\n",
        "    opacity=0.65\n",
        "))\n",
        "fig.add_trace(go.Histogram(\n",
        "    x=league['Away goals'],\n",
        "    histnorm='percent',\n",
        "    name='Away goals',\n",
        "    marker_color='#4C3CE1',\n",
        "    opacity=0.65\n",
        "))\n",
        "\n",
        "fig.add_trace(go.Scatter(x=goals, y=prob_poisson_home,\n",
        "                    mode='lines+markers',\n",
        "                    line = dict(color='#E13C3C', width=4, dash='dash'),\n",
        "                    name='Home goals - Poisson', ))\n",
        "\n",
        "fig.add_trace(go.Scatter(x=goals, y=prob_poisson_away,\n",
        "                    mode='lines+markers',\n",
        "                    line = dict(color='#4C3CE1', width=4, dash='dash'),\n",
        "                    name='Away goals - Poisson'))\n",
        "\n",
        "fig.update_layout(title='Real nº goals per match vs Poisson prediction\\n         Liga Portugal 2021/22',\n",
        "                    title_font_family=\"Calibri\",\n",
        "                    title_font_color=\"black\",\n",
        "                   xaxis_title='Goals in a match',\n",
        "                   yaxis_title='% Probability',\n",
        "                    barmode='group')\n",
        "\n",
        "fig.update_layout({\n",
        "'plot_bgcolor': 'rgba(255,250,250 250)',\n",
        "'paper_bgcolor': 'rgba(255,250,250,250)',\n",
        "})\n",
        "\n"
      ]
    },
    {
      "cell_type": "raw",
      "metadata": {
        "id": "kAM3xmrPkNAD"
      },
      "source": [
        "The bars show the real amount of goals in the season 2021/22. The lines show our Poisson calculated values which seem to fit the real distribution pretty well."
      ]
    },
    {
      "cell_type": "markdown",
      "metadata": {
        "id": "Tr15PvFNkNAD"
      },
      "source": [
        "## Predict a match of the Premier League"
      ]
    },
    {
      "cell_type": "raw",
      "metadata": {
        "id": "VTWQkoPokNAD"
      },
      "source": [
        "We saw that the calculated amount of goals in average fits the real distribution. But how can we predict the amount of goals for a match between Liverpool and Chelsea? The answer is a Poission Regression:"
      ]
    },
    {
      "cell_type": "code",
      "execution_count": 57,
      "metadata": {
        "ExecuteTime": {
          "end_time": "2019-10-18T15:54:28.352681Z",
          "start_time": "2019-10-18T15:54:21.326469Z"
        },
        "scrolled": false,
        "colab": {
          "base_uri": "https://localhost:8080/",
          "height": 1000
        },
        "id": "BjQvj-7rkNAD",
        "outputId": "9a995d09-91ef-4cf1-ea4d-f8c9b5ff743b"
      },
      "outputs": [
        {
          "output_type": "execute_result",
          "data": {
            "text/plain": [
              "<class 'statsmodels.iolib.summary.Summary'>\n",
              "\"\"\"\n",
              "                 Generalized Linear Model Regression Results                  \n",
              "==============================================================================\n",
              "Dep. Variable:                  goals   No. Observations:                  162\n",
              "Model:                            GLM   Df Residuals:                      126\n",
              "Model Family:                 Poisson   Df Model:                           35\n",
              "Link Function:                    log   Scale:                          1.0000\n",
              "Method:                          IRLS   Log-Likelihood:                -198.56\n",
              "Date:                Mon, 17 Oct 2022   Deviance:                       133.13\n",
              "Time:                        20:50:46   Pearson chi2:                     116.\n",
              "No. Iterations:                     5                                         \n",
              "Covariance Type:            nonrobust                                         \n",
              "==============================================================================================\n",
              "                                 coef    std err          z      P>|z|      [0.025      0.975]\n",
              "----------------------------------------------------------------------------------------------\n",
              "Intercept                      0.6546      0.419      1.561      0.119      -0.168       1.477\n",
              "team[T.Benfica]                0.4853      0.383      1.268      0.205      -0.265       1.236\n",
              "team[T.Boavista]              -0.4116      0.462     -0.892      0.373      -1.316       0.493\n",
              "team[T.Casa Pia]              -0.4002      0.459     -0.872      0.383      -1.299       0.499\n",
              "team[T.Chaves]                -0.1723      0.491     -0.351      0.726      -1.134       0.790\n",
              "team[T.Estoril]                0.0869      0.442      0.197      0.844      -0.780       0.954\n",
              "team[T.Famalicao]             -0.5499      0.517     -1.064      0.287      -1.563       0.463\n",
              "team[T.Gil Vicente]           -0.4860      0.482     -1.008      0.313      -1.431       0.459\n",
              "team[T.Guimaraes]             -0.3883      0.496     -0.783      0.434      -1.361       0.584\n",
              "team[T.Maritimo]              -0.3772      0.518     -0.728      0.467      -1.393       0.639\n",
              "team[T.Pacos Ferreira]        -0.5379      0.519     -1.037      0.300      -1.555       0.479\n",
              "team[T.Portimonense]          -0.3606      0.477     -0.756      0.450      -1.296       0.574\n",
              "team[T.Porto]                  0.7386      0.398      1.856      0.063      -0.041       1.519\n",
              "team[T.Rio Ave]                0.4745      0.431      1.102      0.271      -0.370       1.319\n",
              "team[T.Santa Clara]           -0.8756      0.519     -1.687      0.092      -1.893       0.142\n",
              "team[T.Sp Braga]               0.7460      0.393      1.897      0.058      -0.025       1.517\n",
              "team[T.Sp Lisbon]              0.6286      0.401      1.567      0.117      -0.158       1.415\n",
              "team[T.Vizela]                -0.1356      0.503     -0.269      0.788      -1.122       0.851\n",
              "opponent[T.Benfica]           -1.1299      0.527     -2.144      0.032      -2.163      -0.097\n",
              "opponent[T.Boavista]          -0.2793      0.387     -0.722      0.470      -1.038       0.479\n",
              "opponent[T.Casa Pia]          -1.0923      0.521     -2.097      0.036      -2.113      -0.071\n",
              "opponent[T.Chaves]            -1.0777      0.437     -2.464      0.014      -1.935      -0.220\n",
              "opponent[T.Estoril]           -1.0810      0.472     -2.288      0.022      -2.007      -0.155\n",
              "opponent[T.Famalicao]         -0.4717      0.388     -1.216      0.224      -1.232       0.288\n",
              "opponent[T.Gil Vicente]       -0.6201      0.410     -1.513      0.130      -1.423       0.183\n",
              "opponent[T.Guimaraes]         -1.2102      0.485     -2.496      0.013      -2.160      -0.260\n",
              "opponent[T.Maritimo]           0.1125      0.331      0.340      0.734      -0.536       0.761\n",
              "opponent[T.Pacos Ferreira]     0.0553      0.356      0.155      0.877      -0.642       0.753\n",
              "opponent[T.Portimonense]      -0.7564      0.440     -1.720      0.085      -1.618       0.105\n",
              "opponent[T.Porto]             -1.3245      0.496     -2.668      0.008      -2.298      -0.351\n",
              "opponent[T.Rio Ave]           -0.4005      0.363     -1.104      0.270      -1.112       0.311\n",
              "opponent[T.Santa Clara]       -0.4867      0.412     -1.180      0.238      -1.295       0.322\n",
              "opponent[T.Sp Braga]          -0.8088      0.431     -1.878      0.060      -1.653       0.035\n",
              "opponent[T.Sp Lisbon]         -0.6435      0.400     -1.610      0.107      -1.427       0.140\n",
              "opponent[T.Vizela]            -1.0386      0.428     -2.428      0.015      -1.877      -0.200\n",
              "home                           0.2407      0.149      1.620      0.105      -0.050       0.532\n",
              "==============================================================================================\n",
              "\"\"\""
            ],
            "text/html": [
              "<table class=\"simpletable\">\n",
              "<caption>Generalized Linear Model Regression Results</caption>\n",
              "<tr>\n",
              "  <th>Dep. Variable:</th>         <td>goals</td>      <th>  No. Observations:  </th>  <td>   162</td> \n",
              "</tr>\n",
              "<tr>\n",
              "  <th>Model:</th>                  <td>GLM</td>       <th>  Df Residuals:      </th>  <td>   126</td> \n",
              "</tr>\n",
              "<tr>\n",
              "  <th>Model Family:</th>         <td>Poisson</td>     <th>  Df Model:          </th>  <td>    35</td> \n",
              "</tr>\n",
              "<tr>\n",
              "  <th>Link Function:</th>          <td>log</td>       <th>  Scale:             </th> <td>  1.0000</td>\n",
              "</tr>\n",
              "<tr>\n",
              "  <th>Method:</th>                <td>IRLS</td>       <th>  Log-Likelihood:    </th> <td> -198.56</td>\n",
              "</tr>\n",
              "<tr>\n",
              "  <th>Date:</th>            <td>Mon, 17 Oct 2022</td> <th>  Deviance:          </th> <td>  133.13</td>\n",
              "</tr>\n",
              "<tr>\n",
              "  <th>Time:</th>                <td>20:50:46</td>     <th>  Pearson chi2:      </th>  <td>  116.</td> \n",
              "</tr>\n",
              "<tr>\n",
              "  <th>No. Iterations:</th>          <td>5</td>        <th>                     </th>     <td> </td>   \n",
              "</tr>\n",
              "<tr>\n",
              "  <th>Covariance Type:</th>     <td>nonrobust</td>    <th>                     </th>     <td> </td>   \n",
              "</tr>\n",
              "</table>\n",
              "<table class=\"simpletable\">\n",
              "<tr>\n",
              "               <td></td>                 <th>coef</th>     <th>std err</th>      <th>z</th>      <th>P>|z|</th>  <th>[0.025</th>    <th>0.975]</th>  \n",
              "</tr>\n",
              "<tr>\n",
              "  <th>Intercept</th>                  <td>    0.6546</td> <td>    0.419</td> <td>    1.561</td> <td> 0.119</td> <td>   -0.168</td> <td>    1.477</td>\n",
              "</tr>\n",
              "<tr>\n",
              "  <th>team[T.Benfica]</th>            <td>    0.4853</td> <td>    0.383</td> <td>    1.268</td> <td> 0.205</td> <td>   -0.265</td> <td>    1.236</td>\n",
              "</tr>\n",
              "<tr>\n",
              "  <th>team[T.Boavista]</th>           <td>   -0.4116</td> <td>    0.462</td> <td>   -0.892</td> <td> 0.373</td> <td>   -1.316</td> <td>    0.493</td>\n",
              "</tr>\n",
              "<tr>\n",
              "  <th>team[T.Casa Pia]</th>           <td>   -0.4002</td> <td>    0.459</td> <td>   -0.872</td> <td> 0.383</td> <td>   -1.299</td> <td>    0.499</td>\n",
              "</tr>\n",
              "<tr>\n",
              "  <th>team[T.Chaves]</th>             <td>   -0.1723</td> <td>    0.491</td> <td>   -0.351</td> <td> 0.726</td> <td>   -1.134</td> <td>    0.790</td>\n",
              "</tr>\n",
              "<tr>\n",
              "  <th>team[T.Estoril]</th>            <td>    0.0869</td> <td>    0.442</td> <td>    0.197</td> <td> 0.844</td> <td>   -0.780</td> <td>    0.954</td>\n",
              "</tr>\n",
              "<tr>\n",
              "  <th>team[T.Famalicao]</th>          <td>   -0.5499</td> <td>    0.517</td> <td>   -1.064</td> <td> 0.287</td> <td>   -1.563</td> <td>    0.463</td>\n",
              "</tr>\n",
              "<tr>\n",
              "  <th>team[T.Gil Vicente]</th>        <td>   -0.4860</td> <td>    0.482</td> <td>   -1.008</td> <td> 0.313</td> <td>   -1.431</td> <td>    0.459</td>\n",
              "</tr>\n",
              "<tr>\n",
              "  <th>team[T.Guimaraes]</th>          <td>   -0.3883</td> <td>    0.496</td> <td>   -0.783</td> <td> 0.434</td> <td>   -1.361</td> <td>    0.584</td>\n",
              "</tr>\n",
              "<tr>\n",
              "  <th>team[T.Maritimo]</th>           <td>   -0.3772</td> <td>    0.518</td> <td>   -0.728</td> <td> 0.467</td> <td>   -1.393</td> <td>    0.639</td>\n",
              "</tr>\n",
              "<tr>\n",
              "  <th>team[T.Pacos Ferreira]</th>     <td>   -0.5379</td> <td>    0.519</td> <td>   -1.037</td> <td> 0.300</td> <td>   -1.555</td> <td>    0.479</td>\n",
              "</tr>\n",
              "<tr>\n",
              "  <th>team[T.Portimonense]</th>       <td>   -0.3606</td> <td>    0.477</td> <td>   -0.756</td> <td> 0.450</td> <td>   -1.296</td> <td>    0.574</td>\n",
              "</tr>\n",
              "<tr>\n",
              "  <th>team[T.Porto]</th>              <td>    0.7386</td> <td>    0.398</td> <td>    1.856</td> <td> 0.063</td> <td>   -0.041</td> <td>    1.519</td>\n",
              "</tr>\n",
              "<tr>\n",
              "  <th>team[T.Rio Ave]</th>            <td>    0.4745</td> <td>    0.431</td> <td>    1.102</td> <td> 0.271</td> <td>   -0.370</td> <td>    1.319</td>\n",
              "</tr>\n",
              "<tr>\n",
              "  <th>team[T.Santa Clara]</th>        <td>   -0.8756</td> <td>    0.519</td> <td>   -1.687</td> <td> 0.092</td> <td>   -1.893</td> <td>    0.142</td>\n",
              "</tr>\n",
              "<tr>\n",
              "  <th>team[T.Sp Braga]</th>           <td>    0.7460</td> <td>    0.393</td> <td>    1.897</td> <td> 0.058</td> <td>   -0.025</td> <td>    1.517</td>\n",
              "</tr>\n",
              "<tr>\n",
              "  <th>team[T.Sp Lisbon]</th>          <td>    0.6286</td> <td>    0.401</td> <td>    1.567</td> <td> 0.117</td> <td>   -0.158</td> <td>    1.415</td>\n",
              "</tr>\n",
              "<tr>\n",
              "  <th>team[T.Vizela]</th>             <td>   -0.1356</td> <td>    0.503</td> <td>   -0.269</td> <td> 0.788</td> <td>   -1.122</td> <td>    0.851</td>\n",
              "</tr>\n",
              "<tr>\n",
              "  <th>opponent[T.Benfica]</th>        <td>   -1.1299</td> <td>    0.527</td> <td>   -2.144</td> <td> 0.032</td> <td>   -2.163</td> <td>   -0.097</td>\n",
              "</tr>\n",
              "<tr>\n",
              "  <th>opponent[T.Boavista]</th>       <td>   -0.2793</td> <td>    0.387</td> <td>   -0.722</td> <td> 0.470</td> <td>   -1.038</td> <td>    0.479</td>\n",
              "</tr>\n",
              "<tr>\n",
              "  <th>opponent[T.Casa Pia]</th>       <td>   -1.0923</td> <td>    0.521</td> <td>   -2.097</td> <td> 0.036</td> <td>   -2.113</td> <td>   -0.071</td>\n",
              "</tr>\n",
              "<tr>\n",
              "  <th>opponent[T.Chaves]</th>         <td>   -1.0777</td> <td>    0.437</td> <td>   -2.464</td> <td> 0.014</td> <td>   -1.935</td> <td>   -0.220</td>\n",
              "</tr>\n",
              "<tr>\n",
              "  <th>opponent[T.Estoril]</th>        <td>   -1.0810</td> <td>    0.472</td> <td>   -2.288</td> <td> 0.022</td> <td>   -2.007</td> <td>   -0.155</td>\n",
              "</tr>\n",
              "<tr>\n",
              "  <th>opponent[T.Famalicao]</th>      <td>   -0.4717</td> <td>    0.388</td> <td>   -1.216</td> <td> 0.224</td> <td>   -1.232</td> <td>    0.288</td>\n",
              "</tr>\n",
              "<tr>\n",
              "  <th>opponent[T.Gil Vicente]</th>    <td>   -0.6201</td> <td>    0.410</td> <td>   -1.513</td> <td> 0.130</td> <td>   -1.423</td> <td>    0.183</td>\n",
              "</tr>\n",
              "<tr>\n",
              "  <th>opponent[T.Guimaraes]</th>      <td>   -1.2102</td> <td>    0.485</td> <td>   -2.496</td> <td> 0.013</td> <td>   -2.160</td> <td>   -0.260</td>\n",
              "</tr>\n",
              "<tr>\n",
              "  <th>opponent[T.Maritimo]</th>       <td>    0.1125</td> <td>    0.331</td> <td>    0.340</td> <td> 0.734</td> <td>   -0.536</td> <td>    0.761</td>\n",
              "</tr>\n",
              "<tr>\n",
              "  <th>opponent[T.Pacos Ferreira]</th> <td>    0.0553</td> <td>    0.356</td> <td>    0.155</td> <td> 0.877</td> <td>   -0.642</td> <td>    0.753</td>\n",
              "</tr>\n",
              "<tr>\n",
              "  <th>opponent[T.Portimonense]</th>   <td>   -0.7564</td> <td>    0.440</td> <td>   -1.720</td> <td> 0.085</td> <td>   -1.618</td> <td>    0.105</td>\n",
              "</tr>\n",
              "<tr>\n",
              "  <th>opponent[T.Porto]</th>          <td>   -1.3245</td> <td>    0.496</td> <td>   -2.668</td> <td> 0.008</td> <td>   -2.298</td> <td>   -0.351</td>\n",
              "</tr>\n",
              "<tr>\n",
              "  <th>opponent[T.Rio Ave]</th>        <td>   -0.4005</td> <td>    0.363</td> <td>   -1.104</td> <td> 0.270</td> <td>   -1.112</td> <td>    0.311</td>\n",
              "</tr>\n",
              "<tr>\n",
              "  <th>opponent[T.Santa Clara]</th>    <td>   -0.4867</td> <td>    0.412</td> <td>   -1.180</td> <td> 0.238</td> <td>   -1.295</td> <td>    0.322</td>\n",
              "</tr>\n",
              "<tr>\n",
              "  <th>opponent[T.Sp Braga]</th>       <td>   -0.8088</td> <td>    0.431</td> <td>   -1.878</td> <td> 0.060</td> <td>   -1.653</td> <td>    0.035</td>\n",
              "</tr>\n",
              "<tr>\n",
              "  <th>opponent[T.Sp Lisbon]</th>      <td>   -0.6435</td> <td>    0.400</td> <td>   -1.610</td> <td> 0.107</td> <td>   -1.427</td> <td>    0.140</td>\n",
              "</tr>\n",
              "<tr>\n",
              "  <th>opponent[T.Vizela]</th>         <td>   -1.0386</td> <td>    0.428</td> <td>   -2.428</td> <td> 0.015</td> <td>   -1.877</td> <td>   -0.200</td>\n",
              "</tr>\n",
              "<tr>\n",
              "  <th>home</th>                       <td>    0.2407</td> <td>    0.149</td> <td>    1.620</td> <td> 0.105</td> <td>   -0.050</td> <td>    0.532</td>\n",
              "</tr>\n",
              "</table>"
            ]
          },
          "metadata": {},
          "execution_count": 57
        }
      ],
      "source": [
        "import statsmodels.api as sm\n",
        "import statsmodels.formula.api as smf\n",
        "\n",
        "model_data = pd.concat([league[['Home team','Away team','Home goals']].assign(home=1).rename(\n",
        "            columns={'Home team':'team', 'Away team':'opponent','Home goals':'goals'}),\n",
        "           league[['Away team','Home team','Away goals']].assign(home=0).rename(\n",
        "            columns={'Away team':'team', 'Home team':'opponent','Away goals':'goals'})])\n",
        "\n",
        "poisson_model = smf.glm(formula=\"goals ~ home + team + opponent\", data=model_data, \n",
        "                        family=sm.families.Poisson()).fit()\n",
        "poisson_model.summary()"
      ]
    },
    {
      "cell_type": "raw",
      "metadata": {
        "id": "ayCWworqkNAE"
      },
      "source": [
        "We will focus on the main aspects of this regression. The number of observations is 740 (37 matchdays for 20 teams). In the first line we see an entry named \"Intercept\". This is the baseline rate and all other eastimations are relative to it. The team coefficient for Liverpool is 0.1849 which means that Liverpool scores more goals than average teams. The lower the coefficient, the fewer goals a team shoots on average.\n",
        "The opponent coefficient for Chelsea is -0.2537. Chelsea receives less goals than an average team. The lower the coefficient, the fewer goals a teams receives on average. The last row \"home 0.2526\" is the expression of home advantage: home teams score more goals in average.\n",
        "To calculate the estimated amount of goals for Liverpool we use the following formula:"
      ]
    },
    {
      "cell_type": "raw",
      "metadata": {
        "id": "FzkH8ZZFkNAE"
      },
      "source": [
        "exp(Intercept+Coefficients)"
      ]
    },
    {
      "cell_type": "raw",
      "metadata": {
        "id": "wTVaJFqakNAE"
      },
      "source": [
        "So let´s fill our formula for a) Liverpool and b) Chelsea:"
      ]
    },
    {
      "cell_type": "code",
      "execution_count": 28,
      "metadata": {
        "ExecuteTime": {
          "end_time": "2019-10-18T14:33:28.463898Z",
          "start_time": "2019-10-18T14:33:28.452928Z"
        },
        "colab": {
          "base_uri": "https://localhost:8080/",
          "height": 52
        },
        "id": "9feVHU_YkNAE",
        "outputId": "016fb8c2-7b6e-4ae5-d4bc-5f769f62d6ac"
      },
      "outputs": [
        {
          "output_type": "display_data",
          "data": {
            "text/plain": [
              "1.7515480554167886"
            ]
          },
          "metadata": {}
        },
        {
          "output_type": "display_data",
          "data": {
            "text/plain": [
              "1.2287532039953122"
            ]
          },
          "metadata": {}
        }
      ],
      "source": [
        "import math\n",
        "benfica_home_goals = math.exp(0.0436+0.8868-0.5195+0.1496)\n",
        "porto_away_goals = math.exp(0.0436+0.9801-0.8177)\n",
        "\n",
        "display(benfica_home_goals, porto_away_goals)"
      ]
    },
    {
      "cell_type": "raw",
      "metadata": {
        "id": "SgteoyDGkNAE"
      },
      "source": [
        "Notice that we add the \"home\"-coeffienct (0.2526) just for Liverpool. The prediction would be 2:1, so we expect Liverpool to win. Now let´s compare our prediction with the last matchday:"
      ]
    },
    {
      "cell_type": "markdown",
      "metadata": {
        "id": "CUvuGlvZkNAE"
      },
      "source": [
        "## Testing the last matchday"
      ]
    },
    {
      "cell_type": "code",
      "execution_count": 66,
      "metadata": {
        "ExecuteTime": {
          "end_time": "2019-10-18T14:33:28.496810Z",
          "start_time": "2019-10-18T14:33:28.466893Z"
        },
        "id": "-s6pW8EFkNAF"
      },
      "outputs": [],
      "source": [
        "league_till_last_round = league_till_last_round.reset_index()"
      ]
    },
    {
      "cell_type": "code",
      "execution_count": 73,
      "metadata": {
        "ExecuteTime": {
          "end_time": "2019-10-18T14:33:28.513768Z",
          "start_time": "2019-10-18T14:33:28.500800Z"
        },
        "id": "p7jMbytTkNAF"
      },
      "outputs": [],
      "source": [
        "def simulate_match(foot_model, homeTeam, awayTeam, max_goals=10):\n",
        "    home_goals_avg = foot_model.predict(pd.DataFrame(data={'team': homeTeam, \n",
        "                                                            'opponent': awayTeam,'home':1},\n",
        "                                                      index=[1])).values[0]\n",
        "    away_goals_avg = foot_model.predict(pd.DataFrame(data={'team': awayTeam, \n",
        "                                                            'opponent': homeTeam,'home':0},\n",
        "                                                      index=[1])).values[0]\n",
        "    team_pred = [[poisson.pmf(i, team_avg) for i in range(0, max_goals+1)] for team_avg in [home_goals_avg, away_goals_avg]]\n",
        "    return(np.outer(np.array(team_pred[0]), np.array(team_pred[1])))\n"
      ]
    },
    {
      "cell_type": "code",
      "execution_count": 74,
      "metadata": {
        "ExecuteTime": {
          "end_time": "2019-10-18T14:33:28.690358Z",
          "start_time": "2019-10-18T14:33:28.517763Z"
        },
        "id": "m6n_zWZFkNAF"
      },
      "outputs": [],
      "source": [
        "from numpy import unravel_index\n",
        "\n",
        "home_match = []\n",
        "away_match = []\n",
        "home_goals = []\n",
        "away_goals = []\n",
        "pred_list_home = []\n",
        "pred_list_away = []\n",
        "\n",
        "for n in range(0,len(league_till_last_round['Home team'])):\n",
        "\n",
        "    a = simulate_match(poisson_model, league_till_last_round['Home team'].loc[n], league_till_last_round['Away team'].loc[n], max_goals=7)\n",
        "    b = unravel_index(a.argmax(), a.shape)\n",
        "    \n",
        "    home_match.append(league_till_last_round['Home team'].loc[n])\n",
        "    away_match.append(league_till_last_round['Away team'].loc[n])\n",
        "    home_goals.append(league_till_last_round['Home goals'].loc[n])\n",
        "    away_goals.append(league_till_last_round['Away goals'].loc[n])\n",
        "    pred_list_home.append(b[0])\n",
        "    pred_list_away.append(b[1])\n",
        "    \n",
        "\n",
        "final_df = pd.DataFrame({'Home': home_match, 'Away': away_match,\n",
        "                         'Home Goals': home_goals, 'Away Goals': away_goals,\n",
        "                         'Home Prediction': pred_list_home, 'Away Prediction': pred_list_away})"
      ]
    },
    {
      "cell_type": "code",
      "source": [
        "league_till_last_round"
      ],
      "metadata": {
        "colab": {
          "base_uri": "https://localhost:8080/",
          "height": 332
        },
        "id": "1zdbPLJJt2G7",
        "outputId": "bf352c38-ead6-4927-b555-c5d3fcfb1f91"
      },
      "execution_count": 75,
      "outputs": [
        {
          "output_type": "execute_result",
          "data": {
            "text/plain": [
              "   Home team       Away team  Home goals  Away goals\n",
              "0      Porto         Benfica         NaN         NaN\n",
              "1  Famalicao  Pacos Ferreira         NaN         NaN\n",
              "2    Estoril        Sp Braga         NaN         NaN\n",
              "3  Sp Lisbon        Casa Pia         NaN         NaN\n",
              "4     Vizela     Santa Clara         NaN         NaN\n",
              "5   Maritimo          Arouca         NaN         NaN\n",
              "6     Chaves     Gil Vicente         NaN         NaN\n",
              "7  Guimaraes        Boavista         NaN         NaN\n",
              "8    Rio Ave    Portimonense         NaN         NaN"
            ],
            "text/html": [
              "\n",
              "  <div id=\"df-a5865844-a698-4739-8e84-4a6328be8078\">\n",
              "    <div class=\"colab-df-container\">\n",
              "      <div>\n",
              "<style scoped>\n",
              "    .dataframe tbody tr th:only-of-type {\n",
              "        vertical-align: middle;\n",
              "    }\n",
              "\n",
              "    .dataframe tbody tr th {\n",
              "        vertical-align: top;\n",
              "    }\n",
              "\n",
              "    .dataframe thead th {\n",
              "        text-align: right;\n",
              "    }\n",
              "</style>\n",
              "<table border=\"1\" class=\"dataframe\">\n",
              "  <thead>\n",
              "    <tr style=\"text-align: right;\">\n",
              "      <th></th>\n",
              "      <th>Home team</th>\n",
              "      <th>Away team</th>\n",
              "      <th>Home goals</th>\n",
              "      <th>Away goals</th>\n",
              "    </tr>\n",
              "  </thead>\n",
              "  <tbody>\n",
              "    <tr>\n",
              "      <th>0</th>\n",
              "      <td>Porto</td>\n",
              "      <td>Benfica</td>\n",
              "      <td>NaN</td>\n",
              "      <td>NaN</td>\n",
              "    </tr>\n",
              "    <tr>\n",
              "      <th>1</th>\n",
              "      <td>Famalicao</td>\n",
              "      <td>Pacos Ferreira</td>\n",
              "      <td>NaN</td>\n",
              "      <td>NaN</td>\n",
              "    </tr>\n",
              "    <tr>\n",
              "      <th>2</th>\n",
              "      <td>Estoril</td>\n",
              "      <td>Sp Braga</td>\n",
              "      <td>NaN</td>\n",
              "      <td>NaN</td>\n",
              "    </tr>\n",
              "    <tr>\n",
              "      <th>3</th>\n",
              "      <td>Sp Lisbon</td>\n",
              "      <td>Casa Pia</td>\n",
              "      <td>NaN</td>\n",
              "      <td>NaN</td>\n",
              "    </tr>\n",
              "    <tr>\n",
              "      <th>4</th>\n",
              "      <td>Vizela</td>\n",
              "      <td>Santa Clara</td>\n",
              "      <td>NaN</td>\n",
              "      <td>NaN</td>\n",
              "    </tr>\n",
              "    <tr>\n",
              "      <th>5</th>\n",
              "      <td>Maritimo</td>\n",
              "      <td>Arouca</td>\n",
              "      <td>NaN</td>\n",
              "      <td>NaN</td>\n",
              "    </tr>\n",
              "    <tr>\n",
              "      <th>6</th>\n",
              "      <td>Chaves</td>\n",
              "      <td>Gil Vicente</td>\n",
              "      <td>NaN</td>\n",
              "      <td>NaN</td>\n",
              "    </tr>\n",
              "    <tr>\n",
              "      <th>7</th>\n",
              "      <td>Guimaraes</td>\n",
              "      <td>Boavista</td>\n",
              "      <td>NaN</td>\n",
              "      <td>NaN</td>\n",
              "    </tr>\n",
              "    <tr>\n",
              "      <th>8</th>\n",
              "      <td>Rio Ave</td>\n",
              "      <td>Portimonense</td>\n",
              "      <td>NaN</td>\n",
              "      <td>NaN</td>\n",
              "    </tr>\n",
              "  </tbody>\n",
              "</table>\n",
              "</div>\n",
              "      <button class=\"colab-df-convert\" onclick=\"convertToInteractive('df-a5865844-a698-4739-8e84-4a6328be8078')\"\n",
              "              title=\"Convert this dataframe to an interactive table.\"\n",
              "              style=\"display:none;\">\n",
              "        \n",
              "  <svg xmlns=\"http://www.w3.org/2000/svg\" height=\"24px\"viewBox=\"0 0 24 24\"\n",
              "       width=\"24px\">\n",
              "    <path d=\"M0 0h24v24H0V0z\" fill=\"none\"/>\n",
              "    <path d=\"M18.56 5.44l.94 2.06.94-2.06 2.06-.94-2.06-.94-.94-2.06-.94 2.06-2.06.94zm-11 1L8.5 8.5l.94-2.06 2.06-.94-2.06-.94L8.5 2.5l-.94 2.06-2.06.94zm10 10l.94 2.06.94-2.06 2.06-.94-2.06-.94-.94-2.06-.94 2.06-2.06.94z\"/><path d=\"M17.41 7.96l-1.37-1.37c-.4-.4-.92-.59-1.43-.59-.52 0-1.04.2-1.43.59L10.3 9.45l-7.72 7.72c-.78.78-.78 2.05 0 2.83L4 21.41c.39.39.9.59 1.41.59.51 0 1.02-.2 1.41-.59l7.78-7.78 2.81-2.81c.8-.78.8-2.07 0-2.86zM5.41 20L4 18.59l7.72-7.72 1.47 1.35L5.41 20z\"/>\n",
              "  </svg>\n",
              "      </button>\n",
              "      \n",
              "  <style>\n",
              "    .colab-df-container {\n",
              "      display:flex;\n",
              "      flex-wrap:wrap;\n",
              "      gap: 12px;\n",
              "    }\n",
              "\n",
              "    .colab-df-convert {\n",
              "      background-color: #E8F0FE;\n",
              "      border: none;\n",
              "      border-radius: 50%;\n",
              "      cursor: pointer;\n",
              "      display: none;\n",
              "      fill: #1967D2;\n",
              "      height: 32px;\n",
              "      padding: 0 0 0 0;\n",
              "      width: 32px;\n",
              "    }\n",
              "\n",
              "    .colab-df-convert:hover {\n",
              "      background-color: #E2EBFA;\n",
              "      box-shadow: 0px 1px 2px rgba(60, 64, 67, 0.3), 0px 1px 3px 1px rgba(60, 64, 67, 0.15);\n",
              "      fill: #174EA6;\n",
              "    }\n",
              "\n",
              "    [theme=dark] .colab-df-convert {\n",
              "      background-color: #3B4455;\n",
              "      fill: #D2E3FC;\n",
              "    }\n",
              "\n",
              "    [theme=dark] .colab-df-convert:hover {\n",
              "      background-color: #434B5C;\n",
              "      box-shadow: 0px 1px 3px 1px rgba(0, 0, 0, 0.15);\n",
              "      filter: drop-shadow(0px 1px 2px rgba(0, 0, 0, 0.3));\n",
              "      fill: #FFFFFF;\n",
              "    }\n",
              "  </style>\n",
              "\n",
              "      <script>\n",
              "        const buttonEl =\n",
              "          document.querySelector('#df-a5865844-a698-4739-8e84-4a6328be8078 button.colab-df-convert');\n",
              "        buttonEl.style.display =\n",
              "          google.colab.kernel.accessAllowed ? 'block' : 'none';\n",
              "\n",
              "        async function convertToInteractive(key) {\n",
              "          const element = document.querySelector('#df-a5865844-a698-4739-8e84-4a6328be8078');\n",
              "          const dataTable =\n",
              "            await google.colab.kernel.invokeFunction('convertToInteractive',\n",
              "                                                     [key], {});\n",
              "          if (!dataTable) return;\n",
              "\n",
              "          const docLinkHtml = 'Like what you see? Visit the ' +\n",
              "            '<a target=\"_blank\" href=https://colab.research.google.com/notebooks/data_table.ipynb>data table notebook</a>'\n",
              "            + ' to learn more about interactive tables.';\n",
              "          element.innerHTML = '';\n",
              "          dataTable['output_type'] = 'display_data';\n",
              "          await google.colab.output.renderOutput(dataTable, element);\n",
              "          const docLink = document.createElement('div');\n",
              "          docLink.innerHTML = docLinkHtml;\n",
              "          element.appendChild(docLink);\n",
              "        }\n",
              "      </script>\n",
              "    </div>\n",
              "  </div>\n",
              "  "
            ]
          },
          "metadata": {},
          "execution_count": 75
        }
      ]
    },
    {
      "cell_type": "code",
      "execution_count": 76,
      "metadata": {
        "ExecuteTime": {
          "end_time": "2019-10-18T14:33:28.705284Z",
          "start_time": "2019-10-18T14:33:28.692329Z"
        },
        "id": "i-3c7uackNAF"
      },
      "outputs": [],
      "source": [
        "def transform_df(mod_df):\n",
        "    mod_df.loc[(mod_df['Home Goals'] > mod_df['Away Goals']), '1x2'] = '1'\n",
        "    mod_df.loc[(mod_df['Home Goals'] == mod_df['Away Goals']), '1x2'] = 'X'\n",
        "    mod_df.loc[(mod_df['Home Goals'] < mod_df['Away Goals']), '1x2'] = '2'\n",
        "    \n",
        "    mod_df['Home Prediction Int'] = mod_df['Home Prediction'].round(0).astype(int)\n",
        "    mod_df['Away Prediction Int'] = mod_df['Away Prediction'].round(0).astype(int)\n",
        "    mod_df.loc[(mod_df['Home Prediction Int'] > mod_df['Away Prediction Int']), '1x2_Pred'] = '1'\n",
        "    mod_df.loc[(mod_df['Home Prediction Int'] == mod_df['Away Prediction Int']), '1x2_Pred'] = 'X'\n",
        "    mod_df.loc[(mod_df['Home Prediction Int'] < mod_df['Away Prediction Int']), '1x2_Pred'] = '2'\n",
        "    \n",
        "    mod_df['Exact_Res'] = 'NO'\n",
        "    mod_df.loc[(mod_df['Home Goals'] == mod_df['Home Prediction Int']) & \n",
        "               (mod_df['Away Goals'] == mod_df['Away Prediction Int']), 'Exact_Res'] = 'YES'\n",
        "    \n",
        "    mod_df.loc[mod_df['1x2'] == mod_df['1x2_Pred'], 'Match'] = 'Yes'\n",
        "    mod_df.loc[mod_df['1x2'] != mod_df['1x2_Pred'], 'Match'] = 'No'\n",
        "    return mod_df"
      ]
    },
    {
      "cell_type": "code",
      "execution_count": 77,
      "metadata": {
        "ExecuteTime": {
          "end_time": "2019-10-18T14:33:28.774104Z",
          "start_time": "2019-10-18T14:33:28.708244Z"
        },
        "scrolled": false,
        "colab": {
          "base_uri": "https://localhost:8080/",
          "height": 332
        },
        "id": "jH_MemLakNAG",
        "outputId": "f06df82f-7c51-46c3-acd2-7679f3eb1a33"
      },
      "outputs": [
        {
          "output_type": "execute_result",
          "data": {
            "text/plain": [
              "        Home            Away  Home Prediction  Away Prediction 1x2_Pred\n",
              "0      Porto         Benfica                1                0        1\n",
              "1  Famalicao  Pacos Ferreira                1                0        1\n",
              "2    Estoril        Sp Braga                1                1        X\n",
              "3  Sp Lisbon        Casa Pia                1                0        1\n",
              "4     Vizela     Santa Clara                1                0        1\n",
              "5   Maritimo          Arouca                1                2        2\n",
              "6     Chaves     Gil Vicente                1                0        1\n",
              "7  Guimaraes        Boavista                1                0        1\n",
              "8    Rio Ave    Portimonense                1                0        1"
            ],
            "text/html": [
              "\n",
              "  <div id=\"df-2d5de38a-179e-49e2-a31f-15af931af876\">\n",
              "    <div class=\"colab-df-container\">\n",
              "      <div>\n",
              "<style scoped>\n",
              "    .dataframe tbody tr th:only-of-type {\n",
              "        vertical-align: middle;\n",
              "    }\n",
              "\n",
              "    .dataframe tbody tr th {\n",
              "        vertical-align: top;\n",
              "    }\n",
              "\n",
              "    .dataframe thead th {\n",
              "        text-align: right;\n",
              "    }\n",
              "</style>\n",
              "<table border=\"1\" class=\"dataframe\">\n",
              "  <thead>\n",
              "    <tr style=\"text-align: right;\">\n",
              "      <th></th>\n",
              "      <th>Home</th>\n",
              "      <th>Away</th>\n",
              "      <th>Home Prediction</th>\n",
              "      <th>Away Prediction</th>\n",
              "      <th>1x2_Pred</th>\n",
              "    </tr>\n",
              "  </thead>\n",
              "  <tbody>\n",
              "    <tr>\n",
              "      <th>0</th>\n",
              "      <td>Porto</td>\n",
              "      <td>Benfica</td>\n",
              "      <td>1</td>\n",
              "      <td>0</td>\n",
              "      <td>1</td>\n",
              "    </tr>\n",
              "    <tr>\n",
              "      <th>1</th>\n",
              "      <td>Famalicao</td>\n",
              "      <td>Pacos Ferreira</td>\n",
              "      <td>1</td>\n",
              "      <td>0</td>\n",
              "      <td>1</td>\n",
              "    </tr>\n",
              "    <tr>\n",
              "      <th>2</th>\n",
              "      <td>Estoril</td>\n",
              "      <td>Sp Braga</td>\n",
              "      <td>1</td>\n",
              "      <td>1</td>\n",
              "      <td>X</td>\n",
              "    </tr>\n",
              "    <tr>\n",
              "      <th>3</th>\n",
              "      <td>Sp Lisbon</td>\n",
              "      <td>Casa Pia</td>\n",
              "      <td>1</td>\n",
              "      <td>0</td>\n",
              "      <td>1</td>\n",
              "    </tr>\n",
              "    <tr>\n",
              "      <th>4</th>\n",
              "      <td>Vizela</td>\n",
              "      <td>Santa Clara</td>\n",
              "      <td>1</td>\n",
              "      <td>0</td>\n",
              "      <td>1</td>\n",
              "    </tr>\n",
              "    <tr>\n",
              "      <th>5</th>\n",
              "      <td>Maritimo</td>\n",
              "      <td>Arouca</td>\n",
              "      <td>1</td>\n",
              "      <td>2</td>\n",
              "      <td>2</td>\n",
              "    </tr>\n",
              "    <tr>\n",
              "      <th>6</th>\n",
              "      <td>Chaves</td>\n",
              "      <td>Gil Vicente</td>\n",
              "      <td>1</td>\n",
              "      <td>0</td>\n",
              "      <td>1</td>\n",
              "    </tr>\n",
              "    <tr>\n",
              "      <th>7</th>\n",
              "      <td>Guimaraes</td>\n",
              "      <td>Boavista</td>\n",
              "      <td>1</td>\n",
              "      <td>0</td>\n",
              "      <td>1</td>\n",
              "    </tr>\n",
              "    <tr>\n",
              "      <th>8</th>\n",
              "      <td>Rio Ave</td>\n",
              "      <td>Portimonense</td>\n",
              "      <td>1</td>\n",
              "      <td>0</td>\n",
              "      <td>1</td>\n",
              "    </tr>\n",
              "  </tbody>\n",
              "</table>\n",
              "</div>\n",
              "      <button class=\"colab-df-convert\" onclick=\"convertToInteractive('df-2d5de38a-179e-49e2-a31f-15af931af876')\"\n",
              "              title=\"Convert this dataframe to an interactive table.\"\n",
              "              style=\"display:none;\">\n",
              "        \n",
              "  <svg xmlns=\"http://www.w3.org/2000/svg\" height=\"24px\"viewBox=\"0 0 24 24\"\n",
              "       width=\"24px\">\n",
              "    <path d=\"M0 0h24v24H0V0z\" fill=\"none\"/>\n",
              "    <path d=\"M18.56 5.44l.94 2.06.94-2.06 2.06-.94-2.06-.94-.94-2.06-.94 2.06-2.06.94zm-11 1L8.5 8.5l.94-2.06 2.06-.94-2.06-.94L8.5 2.5l-.94 2.06-2.06.94zm10 10l.94 2.06.94-2.06 2.06-.94-2.06-.94-.94-2.06-.94 2.06-2.06.94z\"/><path d=\"M17.41 7.96l-1.37-1.37c-.4-.4-.92-.59-1.43-.59-.52 0-1.04.2-1.43.59L10.3 9.45l-7.72 7.72c-.78.78-.78 2.05 0 2.83L4 21.41c.39.39.9.59 1.41.59.51 0 1.02-.2 1.41-.59l7.78-7.78 2.81-2.81c.8-.78.8-2.07 0-2.86zM5.41 20L4 18.59l7.72-7.72 1.47 1.35L5.41 20z\"/>\n",
              "  </svg>\n",
              "      </button>\n",
              "      \n",
              "  <style>\n",
              "    .colab-df-container {\n",
              "      display:flex;\n",
              "      flex-wrap:wrap;\n",
              "      gap: 12px;\n",
              "    }\n",
              "\n",
              "    .colab-df-convert {\n",
              "      background-color: #E8F0FE;\n",
              "      border: none;\n",
              "      border-radius: 50%;\n",
              "      cursor: pointer;\n",
              "      display: none;\n",
              "      fill: #1967D2;\n",
              "      height: 32px;\n",
              "      padding: 0 0 0 0;\n",
              "      width: 32px;\n",
              "    }\n",
              "\n",
              "    .colab-df-convert:hover {\n",
              "      background-color: #E2EBFA;\n",
              "      box-shadow: 0px 1px 2px rgba(60, 64, 67, 0.3), 0px 1px 3px 1px rgba(60, 64, 67, 0.15);\n",
              "      fill: #174EA6;\n",
              "    }\n",
              "\n",
              "    [theme=dark] .colab-df-convert {\n",
              "      background-color: #3B4455;\n",
              "      fill: #D2E3FC;\n",
              "    }\n",
              "\n",
              "    [theme=dark] .colab-df-convert:hover {\n",
              "      background-color: #434B5C;\n",
              "      box-shadow: 0px 1px 3px 1px rgba(0, 0, 0, 0.15);\n",
              "      filter: drop-shadow(0px 1px 2px rgba(0, 0, 0, 0.3));\n",
              "      fill: #FFFFFF;\n",
              "    }\n",
              "  </style>\n",
              "\n",
              "      <script>\n",
              "        const buttonEl =\n",
              "          document.querySelector('#df-2d5de38a-179e-49e2-a31f-15af931af876 button.colab-df-convert');\n",
              "        buttonEl.style.display =\n",
              "          google.colab.kernel.accessAllowed ? 'block' : 'none';\n",
              "\n",
              "        async function convertToInteractive(key) {\n",
              "          const element = document.querySelector('#df-2d5de38a-179e-49e2-a31f-15af931af876');\n",
              "          const dataTable =\n",
              "            await google.colab.kernel.invokeFunction('convertToInteractive',\n",
              "                                                     [key], {});\n",
              "          if (!dataTable) return;\n",
              "\n",
              "          const docLinkHtml = 'Like what you see? Visit the ' +\n",
              "            '<a target=\"_blank\" href=https://colab.research.google.com/notebooks/data_table.ipynb>data table notebook</a>'\n",
              "            + ' to learn more about interactive tables.';\n",
              "          element.innerHTML = '';\n",
              "          dataTable['output_type'] = 'display_data';\n",
              "          await google.colab.output.renderOutput(dataTable, element);\n",
              "          const docLink = document.createElement('div');\n",
              "          docLink.innerHTML = docLinkHtml;\n",
              "          element.appendChild(docLink);\n",
              "        }\n",
              "      </script>\n",
              "    </div>\n",
              "  </div>\n",
              "  "
            ]
          },
          "metadata": {},
          "execution_count": 77
        }
      ],
      "source": [
        "transform_df(final_df)[['Home','Away','Home Prediction','Away Prediction','1x2_Pred']]"
      ]
    },
    {
      "cell_type": "code",
      "execution_count": null,
      "metadata": {
        "ExecuteTime": {
          "end_time": "2019-10-18T14:33:28.844879Z",
          "start_time": "2019-10-18T14:33:28.834905Z"
        },
        "scrolled": true,
        "colab": {
          "base_uri": "https://localhost:8080/"
        },
        "id": "K7JKSCSrkNAG",
        "outputId": "7f44a8ca-ecfa-4be2-b1a3-081b23a41c9c"
      },
      "outputs": [
        {
          "output_type": "stream",
          "name": "stdout",
          "text": [
            "Winning game accuracy: 55.55555555555556% \n",
            "Exact result accuracy: 22.22222222222222%\n"
          ]
        }
      ],
      "source": [
        "matching_results = final_df.groupby('Match')['Match'].count()\n",
        "# accuracy\n",
        "accuracy = matching_results[0]*100/(matching_results[0] + matching_results[1])\n",
        "accuracy_exact_result = len(final_df[final_df['Exact_Res'] == 'YES'])*100 / len(final_df)\n",
        "\n",
        "print(f'Winning game accuracy: {accuracy}% \\nExact result accuracy: {accuracy_exact_result}%')\n"
      ]
    },
    {
      "cell_type": "raw",
      "metadata": {
        "id": "zIngUt-ckNAH"
      },
      "source": [
        "Okay, we predicted half of the match correct and half of the match wrong. For such an easy model, it isn´t bad or? But we just predicted one single match and it was the last matchday which should be less predictable. Some teams can´t change their position on the last matchday and therefore they have nothing to lose which results in weaker performances. In a next step we take a look at the top five european leagues (regarding to the uefa-coefficient) and predict the last 10 matchdays for each."
      ]
    }
  ],
  "metadata": {
    "hide_input": false,
    "kernelspec": {
      "display_name": "Python 3",
      "language": "python",
      "name": "python3"
    },
    "language_info": {
      "codemirror_mode": {
        "name": "ipython",
        "version": 3
      },
      "file_extension": ".py",
      "mimetype": "text/x-python",
      "name": "python",
      "nbconvert_exporter": "python",
      "pygments_lexer": "ipython3",
      "version": "3.7.1"
    },
    "varInspector": {
      "cols": {
        "lenName": 16,
        "lenType": 16,
        "lenVar": 40
      },
      "kernels_config": {
        "python": {
          "delete_cmd_postfix": "",
          "delete_cmd_prefix": "del ",
          "library": "var_list.py",
          "varRefreshCmd": "print(var_dic_list())"
        },
        "r": {
          "delete_cmd_postfix": ") ",
          "delete_cmd_prefix": "rm(",
          "library": "var_list.r",
          "varRefreshCmd": "cat(var_dic_list()) "
        }
      },
      "types_to_exclude": [
        "module",
        "function",
        "builtin_function_or_method",
        "instance",
        "_Feature"
      ],
      "window_display": false
    },
    "colab": {
      "provenance": []
    }
  },
  "nbformat": 4,
  "nbformat_minor": 0
}