{
  "cells": [
    {
      "cell_type": "markdown",
      "metadata": {
        "ExecuteTime": {
          "end_time": "2019-10-09T11:23:54.170987Z",
          "start_time": "2019-10-09T11:23:54.167752Z"
        },
        "id": "m-YgOO_-kM_-"
      },
      "source": [
        "# Can Poisson distribution be used for betting?"
      ]
    },
    {
      "cell_type": "raw",
      "metadata": {
        "id": "uAMqUe-9kM__"
      },
      "source": [
        "For soccer there is a huge market and you are able to bet on nearly every event which can appear in a soccer game like goals, players, cards, corners and so on.\n",
        "We will have a deeper look how we can use the Poisson distribution in Python.\n",
        "I will go deeper into details and I will review the success of the model to answer the questions if the Poisson distribution can be used for betting. "
      ]
    },
    {
      "cell_type": "raw",
      "metadata": {
        "id": "ONd3DY31kNAA"
      },
      "source": [
        "Before we create models, predict results and check these for correctness, we need some data. So let´s get the last Premier League (PL) season:"
      ]
    },
    {
      "cell_type": "code",
      "execution_count": 183,
      "metadata": {
        "ExecuteTime": {
          "end_time": "2019-10-18T14:33:21.065537Z",
          "start_time": "2019-10-18T14:33:13.078446Z"
        },
        "id": "bGzhZ_-QkNAA"
      },
      "outputs": [],
      "source": [
        "import pandas as pd\n",
        "import numpy as np\n",
        "import matplotlib.pyplot as plt\n",
        "import math\n",
        "import seaborn\n",
        "from scipy.stats import poisson,skellam\n",
        "\n",
        "league = pd.read_csv('liga_pt_bet.csv')\n",
        "league = league[['HomeTeam','AwayTeam','FTHG','FTAG']].rename(columns={'FTHG': 'Home goals', 'FTAG': 'Away goals', 'AwayTeam': 'Away team', 'HomeTeam': 'Home team' })"
      ]
    },
    {
      "cell_type": "raw",
      "metadata": {
        "id": "3KAR06QjkNAB"
      },
      "source": [
        "20 Teams are playing in the PL, so we remove the last 10 rows and try to predict the results for the last matchday. After we are looking for the average home and away goals."
      ]
    },
    {
      "cell_type": "code",
      "execution_count": 184,
      "metadata": {
        "ExecuteTime": {
          "end_time": "2019-10-18T14:33:21.097313Z",
          "start_time": "2019-10-18T14:33:21.069356Z"
        },
        "scrolled": false,
        "colab": {
          "base_uri": "https://localhost:8080/"
        },
        "id": "jzDcCmkzkNAB",
        "outputId": "90abd5cd-b32f-4573-d27b-def786c7643a"
      },
      "outputs": [
        {
          "output_type": "stream",
          "name": "stderr",
          "text": [
            "/usr/local/lib/python3.7/dist-packages/ipykernel_launcher.py:4: FutureWarning:\n",
            "\n",
            "Dropping of nuisance columns in DataFrame reductions (with 'numeric_only=None') is deprecated; in a future version this will raise TypeError.  Select only valid columns before calling the reduction.\n",
            "\n"
          ]
        },
        {
          "output_type": "execute_result",
          "data": {
            "text/plain": [
              "Home goals    1.407407\n",
              "Away goals    1.215488\n",
              "dtype: float64"
            ]
          },
          "metadata": {},
          "execution_count": 184
        }
      ],
      "source": [
        "original_league = league\n",
        "league_till_last_round = league[-9:]\n",
        "league = league[:-9]\n",
        "league.mean()"
      ]
    },
    {
      "cell_type": "raw",
      "metadata": {
        "id": "6sa8vtkikNAC"
      },
      "source": [
        "For soccer fans this result is not suprising. The home teams score more goals in average than the away teams. "
      ]
    },
    {
      "cell_type": "code",
      "execution_count": 185,
      "metadata": {
        "ExecuteTime": {
          "end_time": "2019-10-18T14:33:21.111263Z",
          "start_time": "2019-10-18T14:33:21.099277Z"
        },
        "colab": {
          "base_uri": "https://localhost:8080/"
        },
        "id": "ESu1cBFckNAC",
        "outputId": "0f9b4e9f-3905-4d08-818d-2f3f71dbbfeb"
      },
      "outputs": [
        {
          "output_type": "execute_result",
          "data": {
            "text/plain": [
              "Home goals    7\n",
              "Away goals    7\n",
              "dtype: int64"
            ]
          },
          "metadata": {},
          "execution_count": 185
        }
      ],
      "source": [
        "league[['Home goals','Away goals']].max()"
      ]
    },
    {
      "cell_type": "raw",
      "metadata": {
        "id": "CPoAxxyMkNAC"
      },
      "source": [
        "The highest amount of goals by one team in a single match was 7. Basically we have now all required parameter for our Poisson distribution. In a first step we can predict the probability that the home team scores 1 goal for example:"
      ]
    },
    {
      "cell_type": "code",
      "execution_count": 186,
      "metadata": {
        "ExecuteTime": {
          "end_time": "2019-10-18T14:33:21.129196Z",
          "start_time": "2019-10-18T14:33:21.118223Z"
        },
        "colab": {
          "base_uri": "https://localhost:8080/"
        },
        "id": "XZItfobskNAC",
        "outputId": "4c2c8364-0cd7-4ac3-f6f5-59ca98ca308b"
      },
      "outputs": [
        {
          "output_type": "execute_result",
          "data": {
            "text/plain": [
              "11.37309785715584"
            ]
          },
          "metadata": {},
          "execution_count": 186
        }
      ],
      "source": [
        "poisson.pmf(3,1.407407)*100"
      ]
    },
    {
      "cell_type": "raw",
      "metadata": {
        "id": "Ta3OaI0mkNAC"
      },
      "source": [
        "The chance that the home teams scores 3 goals is 11,37%. Let´s visualize the values for an amount of goals between 0 and 7 and for the home and away side:"
      ]
    },
    {
      "cell_type": "code",
      "execution_count": 188,
      "metadata": {
        "ExecuteTime": {
          "end_time": "2019-10-18T15:52:54.153105Z",
          "start_time": "2019-10-18T15:52:52.266167Z"
        },
        "scrolled": false,
        "colab": {
          "base_uri": "https://localhost:8080/",
          "height": 701
        },
        "id": "GgE22lPRkNAD",
        "outputId": "abbd388e-a231-4c0d-c6b8-04bfcaa2da5b"
      },
      "outputs": [
        {
          "output_type": "stream",
          "name": "stderr",
          "text": [
            "/usr/local/lib/python3.7/dist-packages/ipykernel_launcher.py:14: FutureWarning:\n",
            "\n",
            "Dropping of nuisance columns in DataFrame reductions (with 'numeric_only=None') is deprecated; in a future version this will raise TypeError.  Select only valid columns before calling the reduction.\n",
            "\n",
            "/usr/local/lib/python3.7/dist-packages/ipykernel_launcher.py:15: FutureWarning:\n",
            "\n",
            "Dropping of nuisance columns in DataFrame reductions (with 'numeric_only=None') is deprecated; in a future version this will raise TypeError.  Select only valid columns before calling the reduction.\n",
            "\n"
          ]
        },
        {
          "output_type": "display_data",
          "data": {
            "text/html": [
              "<html>\n",
              "<head><meta charset=\"utf-8\" /></head>\n",
              "<body>\n",
              "    <div>            <script src=\"https://cdnjs.cloudflare.com/ajax/libs/mathjax/2.7.5/MathJax.js?config=TeX-AMS-MML_SVG\"></script><script type=\"text/javascript\">if (window.MathJax) {MathJax.Hub.Config({SVG: {font: \"STIX-Web\"}});}</script>                <script type=\"text/javascript\">window.PlotlyConfig = {MathJaxConfig: 'local'};</script>\n",
              "        <script src=\"https://cdn.plot.ly/plotly-2.8.3.min.js\"></script>                <div id=\"77bf2094-97a6-4021-9809-15c982bcca4c\" class=\"plotly-graph-div\" style=\"height:525px; width:100%;\"></div>            <script type=\"text/javascript\">                                    window.PLOTLYENV=window.PLOTLYENV || {};                                    if (document.getElementById(\"77bf2094-97a6-4021-9809-15c982bcca4c\")) {                    Plotly.newPlot(                        \"77bf2094-97a6-4021-9809-15c982bcca4c\",                        [{\"histnorm\":\"percent\",\"marker\":{\"color\":\"#E13C3C\"},\"name\":\"Home goals\",\"opacity\":0.65,\"x\":[3,0,1,0,0,3,2,2,3,0,2,2,1,0,1,2,3,1,2,2,0,2,0,1,4,1,2,1,2,1,3,1,2,0,0,1,0,0,1,2,1,2,0,2,1,2,0,1,2,1,5,0,3,3,1,1,2,1,3,1,0,2,1,0,1,1,2,1,0,0,2,2,2,0,1,1,0,0,0,0,0,2,4,1,1,1,2,1,3,1,1,2,1,2,2,4,0,0,6,2,0,2,0,2,2,2,2,4,0,1,1,1,2,4,2,0,4,5,2,0,0,1,1,1,1,2,1,0,0,7,1,0,1,0,2,1,1,3,2,0,3,2,2,3,0,2,1,1,2,2,2,3,1,1,1,0,2,0,0,1,1,0,1,0,2,1,3,1,1,3,1,1,3,2,2,0,0,2,1,1,0,1,2,2,2,0,2,1,4,2,2,2,1,1,5,1,0,0,2,2,2,1,0,3,0,0,1,0,2,1,1,1,3,2,1,0,0,1,1,2,0,2,2,3,1,1,2,0,0,0,0,4,0,0,1,2,0,1,1,2,2,1,0,3,2,2,1,1,1,0,2,3,1,2,3,1,1,1,2,0,0,1,2,4,2,1,4,7,0,0,2,1,0,2,1,2,1,1,0,3,1,0,4,0,1,1,4,1,1,1,0,2,3,1,1,2,2],\"type\":\"histogram\"},{\"histnorm\":\"percent\",\"marker\":{\"color\":\"#4C3CE1\"},\"name\":\"Away goals\",\"opacity\":0.65,\"x\":[0,2,2,2,1,0,0,0,0,0,1,0,2,1,2,2,0,2,1,3,2,0,3,1,0,3,0,1,1,1,0,1,1,0,1,0,0,5,1,2,1,2,0,2,2,1,0,1,2,1,0,1,1,1,0,2,1,3,2,1,0,2,1,0,2,1,1,2,2,1,2,2,1,2,3,0,0,1,2,1,0,0,1,1,0,2,1,1,0,1,1,5,1,0,1,2,3,2,1,2,3,1,7,0,0,1,2,1,3,3,1,2,1,0,0,1,1,2,0,1,1,4,0,4,0,2,1,1,3,1,0,4,0,3,0,0,1,2,1,6,1,0,1,2,1,3,1,2,0,2,1,2,0,1,1,1,2,2,0,4,1,2,1,2,3,2,1,1,0,1,2,2,2,0,1,0,0,1,2,4,0,1,1,2,2,2,0,3,1,2,1,1,1,0,0,0,1,3,2,0,1,3,1,0,1,1,1,2,1,1,1,1,0,3,1,0,0,1,2,0,1,4,1,1,1,1,0,0,1,0,1,0,1,2,1,2,0,3,1,1,1,2,1,2,0,1,2,2,3,1,0,0,2,0,1,0,3,0,0,1,1,1,2,0,0,0,0,0,2,0,1,0,0,2,1,2,1,0,3,1,0,1,2,1,1,2,1,1,1,0,1,3,0,1,0,0,3],\"type\":\"histogram\"},{\"line\":{\"color\":\"#E13C3C\",\"dash\":\"dash\",\"width\":4},\"mode\":\"lines+markers\",\"name\":\"Home goals - Poisson\",\"x\":[\"0\",\"1\",\"2\",\"3\",\"4\",\"5\",\"6\",\"7\"],\"y\":[24.477706843938986,34.45010592850672,24.242667134875102,11.373103100311777,4.001647387146734,1.126389634900563,0.26421485263099614,0.05312256296284581],\"type\":\"scatter\"},{\"line\":{\"color\":\"#4C3CE1\",\"dash\":\"dash\",\"width\":4},\"mode\":\"lines+markers\",\"name\":\"Away goals - Poisson\",\"x\":[\"0\",\"1\",\"2\",\"3\",\"4\",\"5\",\"6\",\"7\"],\"y\":[29.656519122486763,36.04714950578357,21.907442713110893,8.87607948308982,2.6971925028581025,0.6556811404254378,0.13282878321749889,0.023064545811215496],\"type\":\"scatter\"}],                        {\"template\":{\"data\":{\"bar\":[{\"error_x\":{\"color\":\"#2a3f5f\"},\"error_y\":{\"color\":\"#2a3f5f\"},\"marker\":{\"line\":{\"color\":\"#E5ECF6\",\"width\":0.5},\"pattern\":{\"fillmode\":\"overlay\",\"size\":10,\"solidity\":0.2}},\"type\":\"bar\"}],\"barpolar\":[{\"marker\":{\"line\":{\"color\":\"#E5ECF6\",\"width\":0.5},\"pattern\":{\"fillmode\":\"overlay\",\"size\":10,\"solidity\":0.2}},\"type\":\"barpolar\"}],\"carpet\":[{\"aaxis\":{\"endlinecolor\":\"#2a3f5f\",\"gridcolor\":\"white\",\"linecolor\":\"white\",\"minorgridcolor\":\"white\",\"startlinecolor\":\"#2a3f5f\"},\"baxis\":{\"endlinecolor\":\"#2a3f5f\",\"gridcolor\":\"white\",\"linecolor\":\"white\",\"minorgridcolor\":\"white\",\"startlinecolor\":\"#2a3f5f\"},\"type\":\"carpet\"}],\"choropleth\":[{\"colorbar\":{\"outlinewidth\":0,\"ticks\":\"\"},\"type\":\"choropleth\"}],\"contour\":[{\"colorbar\":{\"outlinewidth\":0,\"ticks\":\"\"},\"colorscale\":[[0.0,\"#0d0887\"],[0.1111111111111111,\"#46039f\"],[0.2222222222222222,\"#7201a8\"],[0.3333333333333333,\"#9c179e\"],[0.4444444444444444,\"#bd3786\"],[0.5555555555555556,\"#d8576b\"],[0.6666666666666666,\"#ed7953\"],[0.7777777777777778,\"#fb9f3a\"],[0.8888888888888888,\"#fdca26\"],[1.0,\"#f0f921\"]],\"type\":\"contour\"}],\"contourcarpet\":[{\"colorbar\":{\"outlinewidth\":0,\"ticks\":\"\"},\"type\":\"contourcarpet\"}],\"heatmap\":[{\"colorbar\":{\"outlinewidth\":0,\"ticks\":\"\"},\"colorscale\":[[0.0,\"#0d0887\"],[0.1111111111111111,\"#46039f\"],[0.2222222222222222,\"#7201a8\"],[0.3333333333333333,\"#9c179e\"],[0.4444444444444444,\"#bd3786\"],[0.5555555555555556,\"#d8576b\"],[0.6666666666666666,\"#ed7953\"],[0.7777777777777778,\"#fb9f3a\"],[0.8888888888888888,\"#fdca26\"],[1.0,\"#f0f921\"]],\"type\":\"heatmap\"}],\"heatmapgl\":[{\"colorbar\":{\"outlinewidth\":0,\"ticks\":\"\"},\"colorscale\":[[0.0,\"#0d0887\"],[0.1111111111111111,\"#46039f\"],[0.2222222222222222,\"#7201a8\"],[0.3333333333333333,\"#9c179e\"],[0.4444444444444444,\"#bd3786\"],[0.5555555555555556,\"#d8576b\"],[0.6666666666666666,\"#ed7953\"],[0.7777777777777778,\"#fb9f3a\"],[0.8888888888888888,\"#fdca26\"],[1.0,\"#f0f921\"]],\"type\":\"heatmapgl\"}],\"histogram\":[{\"marker\":{\"pattern\":{\"fillmode\":\"overlay\",\"size\":10,\"solidity\":0.2}},\"type\":\"histogram\"}],\"histogram2d\":[{\"colorbar\":{\"outlinewidth\":0,\"ticks\":\"\"},\"colorscale\":[[0.0,\"#0d0887\"],[0.1111111111111111,\"#46039f\"],[0.2222222222222222,\"#7201a8\"],[0.3333333333333333,\"#9c179e\"],[0.4444444444444444,\"#bd3786\"],[0.5555555555555556,\"#d8576b\"],[0.6666666666666666,\"#ed7953\"],[0.7777777777777778,\"#fb9f3a\"],[0.8888888888888888,\"#fdca26\"],[1.0,\"#f0f921\"]],\"type\":\"histogram2d\"}],\"histogram2dcontour\":[{\"colorbar\":{\"outlinewidth\":0,\"ticks\":\"\"},\"colorscale\":[[0.0,\"#0d0887\"],[0.1111111111111111,\"#46039f\"],[0.2222222222222222,\"#7201a8\"],[0.3333333333333333,\"#9c179e\"],[0.4444444444444444,\"#bd3786\"],[0.5555555555555556,\"#d8576b\"],[0.6666666666666666,\"#ed7953\"],[0.7777777777777778,\"#fb9f3a\"],[0.8888888888888888,\"#fdca26\"],[1.0,\"#f0f921\"]],\"type\":\"histogram2dcontour\"}],\"mesh3d\":[{\"colorbar\":{\"outlinewidth\":0,\"ticks\":\"\"},\"type\":\"mesh3d\"}],\"parcoords\":[{\"line\":{\"colorbar\":{\"outlinewidth\":0,\"ticks\":\"\"}},\"type\":\"parcoords\"}],\"pie\":[{\"automargin\":true,\"type\":\"pie\"}],\"scatter\":[{\"marker\":{\"colorbar\":{\"outlinewidth\":0,\"ticks\":\"\"}},\"type\":\"scatter\"}],\"scatter3d\":[{\"line\":{\"colorbar\":{\"outlinewidth\":0,\"ticks\":\"\"}},\"marker\":{\"colorbar\":{\"outlinewidth\":0,\"ticks\":\"\"}},\"type\":\"scatter3d\"}],\"scattercarpet\":[{\"marker\":{\"colorbar\":{\"outlinewidth\":0,\"ticks\":\"\"}},\"type\":\"scattercarpet\"}],\"scattergeo\":[{\"marker\":{\"colorbar\":{\"outlinewidth\":0,\"ticks\":\"\"}},\"type\":\"scattergeo\"}],\"scattergl\":[{\"marker\":{\"colorbar\":{\"outlinewidth\":0,\"ticks\":\"\"}},\"type\":\"scattergl\"}],\"scattermapbox\":[{\"marker\":{\"colorbar\":{\"outlinewidth\":0,\"ticks\":\"\"}},\"type\":\"scattermapbox\"}],\"scatterpolar\":[{\"marker\":{\"colorbar\":{\"outlinewidth\":0,\"ticks\":\"\"}},\"type\":\"scatterpolar\"}],\"scatterpolargl\":[{\"marker\":{\"colorbar\":{\"outlinewidth\":0,\"ticks\":\"\"}},\"type\":\"scatterpolargl\"}],\"scatterternary\":[{\"marker\":{\"colorbar\":{\"outlinewidth\":0,\"ticks\":\"\"}},\"type\":\"scatterternary\"}],\"surface\":[{\"colorbar\":{\"outlinewidth\":0,\"ticks\":\"\"},\"colorscale\":[[0.0,\"#0d0887\"],[0.1111111111111111,\"#46039f\"],[0.2222222222222222,\"#7201a8\"],[0.3333333333333333,\"#9c179e\"],[0.4444444444444444,\"#bd3786\"],[0.5555555555555556,\"#d8576b\"],[0.6666666666666666,\"#ed7953\"],[0.7777777777777778,\"#fb9f3a\"],[0.8888888888888888,\"#fdca26\"],[1.0,\"#f0f921\"]],\"type\":\"surface\"}],\"table\":[{\"cells\":{\"fill\":{\"color\":\"#EBF0F8\"},\"line\":{\"color\":\"white\"}},\"header\":{\"fill\":{\"color\":\"#C8D4E3\"},\"line\":{\"color\":\"white\"}},\"type\":\"table\"}]},\"layout\":{\"annotationdefaults\":{\"arrowcolor\":\"#2a3f5f\",\"arrowhead\":0,\"arrowwidth\":1},\"autotypenumbers\":\"strict\",\"coloraxis\":{\"colorbar\":{\"outlinewidth\":0,\"ticks\":\"\"}},\"colorscale\":{\"diverging\":[[0,\"#8e0152\"],[0.1,\"#c51b7d\"],[0.2,\"#de77ae\"],[0.3,\"#f1b6da\"],[0.4,\"#fde0ef\"],[0.5,\"#f7f7f7\"],[0.6,\"#e6f5d0\"],[0.7,\"#b8e186\"],[0.8,\"#7fbc41\"],[0.9,\"#4d9221\"],[1,\"#276419\"]],\"sequential\":[[0.0,\"#0d0887\"],[0.1111111111111111,\"#46039f\"],[0.2222222222222222,\"#7201a8\"],[0.3333333333333333,\"#9c179e\"],[0.4444444444444444,\"#bd3786\"],[0.5555555555555556,\"#d8576b\"],[0.6666666666666666,\"#ed7953\"],[0.7777777777777778,\"#fb9f3a\"],[0.8888888888888888,\"#fdca26\"],[1.0,\"#f0f921\"]],\"sequentialminus\":[[0.0,\"#0d0887\"],[0.1111111111111111,\"#46039f\"],[0.2222222222222222,\"#7201a8\"],[0.3333333333333333,\"#9c179e\"],[0.4444444444444444,\"#bd3786\"],[0.5555555555555556,\"#d8576b\"],[0.6666666666666666,\"#ed7953\"],[0.7777777777777778,\"#fb9f3a\"],[0.8888888888888888,\"#fdca26\"],[1.0,\"#f0f921\"]]},\"colorway\":[\"#636efa\",\"#EF553B\",\"#00cc96\",\"#ab63fa\",\"#FFA15A\",\"#19d3f3\",\"#FF6692\",\"#B6E880\",\"#FF97FF\",\"#FECB52\"],\"font\":{\"color\":\"#2a3f5f\"},\"geo\":{\"bgcolor\":\"white\",\"lakecolor\":\"white\",\"landcolor\":\"#E5ECF6\",\"showlakes\":true,\"showland\":true,\"subunitcolor\":\"white\"},\"hoverlabel\":{\"align\":\"left\"},\"hovermode\":\"closest\",\"mapbox\":{\"style\":\"light\"},\"paper_bgcolor\":\"white\",\"plot_bgcolor\":\"#E5ECF6\",\"polar\":{\"angularaxis\":{\"gridcolor\":\"white\",\"linecolor\":\"white\",\"ticks\":\"\"},\"bgcolor\":\"#E5ECF6\",\"radialaxis\":{\"gridcolor\":\"white\",\"linecolor\":\"white\",\"ticks\":\"\"}},\"scene\":{\"xaxis\":{\"backgroundcolor\":\"#E5ECF6\",\"gridcolor\":\"white\",\"gridwidth\":2,\"linecolor\":\"white\",\"showbackground\":true,\"ticks\":\"\",\"zerolinecolor\":\"white\"},\"yaxis\":{\"backgroundcolor\":\"#E5ECF6\",\"gridcolor\":\"white\",\"gridwidth\":2,\"linecolor\":\"white\",\"showbackground\":true,\"ticks\":\"\",\"zerolinecolor\":\"white\"},\"zaxis\":{\"backgroundcolor\":\"#E5ECF6\",\"gridcolor\":\"white\",\"gridwidth\":2,\"linecolor\":\"white\",\"showbackground\":true,\"ticks\":\"\",\"zerolinecolor\":\"white\"}},\"shapedefaults\":{\"line\":{\"color\":\"#2a3f5f\"}},\"ternary\":{\"aaxis\":{\"gridcolor\":\"white\",\"linecolor\":\"white\",\"ticks\":\"\"},\"baxis\":{\"gridcolor\":\"white\",\"linecolor\":\"white\",\"ticks\":\"\"},\"bgcolor\":\"#E5ECF6\",\"caxis\":{\"gridcolor\":\"white\",\"linecolor\":\"white\",\"ticks\":\"\"}},\"title\":{\"x\":0.05},\"xaxis\":{\"automargin\":true,\"gridcolor\":\"white\",\"linecolor\":\"white\",\"ticks\":\"\",\"title\":{\"standoff\":15},\"zerolinecolor\":\"white\",\"zerolinewidth\":2},\"yaxis\":{\"automargin\":true,\"gridcolor\":\"white\",\"linecolor\":\"white\",\"ticks\":\"\",\"title\":{\"standoff\":15},\"zerolinecolor\":\"white\",\"zerolinewidth\":2}}},\"title\":{\"text\":\"Real n\\u00ba goals per match vs Poisson prediction\\n         Liga Portugal 2021/22\",\"font\":{\"family\":\"Calibri\",\"color\":\"black\"}},\"xaxis\":{\"title\":{\"text\":\"Goals in a match\"}},\"yaxis\":{\"title\":{\"text\":\"% Probability\"}},\"barmode\":\"group\",\"plot_bgcolor\":\"rgba(255,250,250 250)\",\"paper_bgcolor\":\"rgba(255,250,250,250)\"},                        {\"responsive\": true}                    ).then(function(){\n",
              "                            \n",
              "var gd = document.getElementById('77bf2094-97a6-4021-9809-15c982bcca4c');\n",
              "var x = new MutationObserver(function (mutations, observer) {{\n",
              "        var display = window.getComputedStyle(gd).display;\n",
              "        if (!display || display === 'none') {{\n",
              "            console.log([gd, 'removed!']);\n",
              "            Plotly.purge(gd);\n",
              "            observer.disconnect();\n",
              "        }}\n",
              "}});\n",
              "\n",
              "// Listen for the removal of the full notebook cells\n",
              "var notebookContainer = gd.closest('#notebook-container');\n",
              "if (notebookContainer) {{\n",
              "    x.observe(notebookContainer, {childList: true});\n",
              "}}\n",
              "\n",
              "// Listen for the clearing of the current output cell\n",
              "var outputEl = gd.closest('.output');\n",
              "if (outputEl) {{\n",
              "    x.observe(outputEl, {childList: true});\n",
              "}}\n",
              "\n",
              "                        })                };                            </script>        </div>\n",
              "</body>\n",
              "</html>"
            ]
          },
          "metadata": {}
        }
      ],
      "source": [
        "import plotly.graph_objects as go\n",
        "\n",
        "#Y-Axis ticks for the line\n",
        "max_goals = max(league[['Home goals','Away goals']].max())+1\n",
        "goals = []\n",
        "for i in range(max_goals):\n",
        "  goals.append(i)\n",
        "  goals[i] = str(goals[i])\n",
        "\n",
        "#Poisson predictions as percentage\n",
        "prob_poisson_home = []\n",
        "prob_poisson_away = []\n",
        "for i in range(max_goals):\n",
        "    prob_poisson_home.append(poisson.pmf(i, league.mean().to_list()[0])*100)\n",
        "    prob_poisson_away.append(poisson.pmf(i, league.mean().to_list()[1])*100)\n",
        "\n",
        "fig = go.Figure()\n",
        "fig.add_trace(go.Histogram(\n",
        "    x=league['Home goals'],\n",
        "    histnorm='percent',\n",
        "    name='Home goals',\n",
        "    marker_color='#E13C3C',\n",
        "    opacity=0.65\n",
        "))\n",
        "fig.add_trace(go.Histogram(\n",
        "    x=league['Away goals'],\n",
        "    histnorm='percent',\n",
        "    name='Away goals',\n",
        "    marker_color='#4C3CE1',\n",
        "    opacity=0.65\n",
        "))\n",
        "\n",
        "fig.add_trace(go.Scatter(x=goals, y=prob_poisson_home,\n",
        "                    mode='lines+markers',\n",
        "                    line = dict(color='#E13C3C', width=4, dash='dash'),\n",
        "                    name='Home goals - Poisson', ))\n",
        "\n",
        "fig.add_trace(go.Scatter(x=goals, y=prob_poisson_away,\n",
        "                    mode='lines+markers',\n",
        "                    line = dict(color='#4C3CE1', width=4, dash='dash'),\n",
        "                    name='Away goals - Poisson'))\n",
        "\n",
        "fig.update_layout(title='Real nº goals per match vs Poisson prediction\\n         Liga Portugal 2021/22',\n",
        "                    title_font_family=\"Calibri\",\n",
        "                    title_font_color=\"black\",\n",
        "                   xaxis_title='Goals in a match',\n",
        "                   yaxis_title='% Probability',\n",
        "                    barmode='group')\n",
        "\n",
        "fig.update_layout({\n",
        "'plot_bgcolor': 'rgba(255,250,250 250)',\n",
        "'paper_bgcolor': 'rgba(255,250,250,250)',\n",
        "})\n",
        "\n"
      ]
    },
    {
      "cell_type": "raw",
      "metadata": {
        "id": "kAM3xmrPkNAD"
      },
      "source": [
        "The bars show the real amount of goals in the season 2021/22. The lines show our Poisson calculated values which seem to fit the real distribution pretty well."
      ]
    },
    {
      "cell_type": "markdown",
      "metadata": {
        "id": "Tr15PvFNkNAD"
      },
      "source": [
        "## Predict a match of the Premier League"
      ]
    },
    {
      "cell_type": "raw",
      "metadata": {
        "id": "VTWQkoPokNAD"
      },
      "source": [
        "We saw that the calculated amount of goals in average fits the real distribution. But how can we predict the amount of goals for a match between Liverpool and Chelsea? The answer is a Poission Regression:"
      ]
    },
    {
      "cell_type": "code",
      "execution_count": 189,
      "metadata": {
        "ExecuteTime": {
          "end_time": "2019-10-18T15:54:28.352681Z",
          "start_time": "2019-10-18T15:54:21.326469Z"
        },
        "scrolled": false,
        "colab": {
          "base_uri": "https://localhost:8080/",
          "height": 1000
        },
        "id": "BjQvj-7rkNAD",
        "outputId": "dd5f0b47-95e0-481f-a85e-e1a14703e7ab"
      },
      "outputs": [
        {
          "output_type": "execute_result",
          "data": {
            "text/plain": [
              "<class 'statsmodels.iolib.summary.Summary'>\n",
              "\"\"\"\n",
              "                 Generalized Linear Model Regression Results                  \n",
              "==============================================================================\n",
              "Dep. Variable:                  goals   No. Observations:                  594\n",
              "Model:                            GLM   Df Residuals:                      558\n",
              "Model Family:                 Poisson   Df Model:                           35\n",
              "Link Function:                    log   Scale:                          1.0000\n",
              "Method:                          IRLS   Log-Likelihood:                -796.11\n",
              "Date:                Wed, 05 Oct 2022   Deviance:                       544.46\n",
              "Time:                        18:05:30   Pearson chi2:                     474.\n",
              "No. Iterations:                     5                                         \n",
              "Covariance Type:            nonrobust                                         \n",
              "==============================================================================================\n",
              "                                 coef    std err          z      P>|z|      [0.025      0.975]\n",
              "----------------------------------------------------------------------------------------------\n",
              "Intercept                      0.0436      0.234      0.186      0.852      -0.415       0.502\n",
              "team[T.Belenenses]            -0.2707      0.277     -0.977      0.329      -0.814       0.273\n",
              "team[T.Benfica]                0.8868      0.216      4.103      0.000       0.463       1.310\n",
              "team[T.Boavista]               0.2077      0.246      0.843      0.399      -0.275       0.690\n",
              "team[T.Estoril]                0.1424      0.248      0.575      0.565      -0.343       0.628\n",
              "team[T.Famalicao]              0.3128      0.240      1.306      0.192      -0.157       0.782\n",
              "team[T.Gil Vicente]            0.4142      0.234      1.769      0.077      -0.045       0.873\n",
              "team[T.Guimaraes]              0.3775      0.236      1.598      0.110      -0.085       0.840\n",
              "team[T.Maritimo]               0.2412      0.243      0.991      0.322      -0.236       0.718\n",
              "team[T.Moreirense]            -0.0390      0.261     -0.150      0.881      -0.550       0.472\n",
              "team[T.Pacos Ferreira]        -0.0654      0.261     -0.251      0.802      -0.577       0.446\n",
              "team[T.Portimonense]          -0.0244      0.259     -0.094      0.925      -0.531       0.483\n",
              "team[T.Porto]                  0.9801      0.213      4.598      0.000       0.562       1.398\n",
              "team[T.Santa Clara]            0.2091      0.245      0.854      0.393      -0.271       0.689\n",
              "team[T.Sp Braga]               0.4687      0.231      2.025      0.043       0.015       0.922\n",
              "team[T.Sp Lisbon]              0.7907      0.219      3.608      0.000       0.361       1.220\n",
              "team[T.Tondela]                0.2772      0.243      1.138      0.255      -0.200       0.754\n",
              "team[T.Vizela]                 0.1748      0.248      0.706      0.480      -0.311       0.660\n",
              "opponent[T.Belenenses]         0.0161      0.192      0.084      0.933      -0.359       0.392\n",
              "opponent[T.Benfica]           -0.5195      0.228     -2.276      0.023      -0.967      -0.072\n",
              "opponent[T.Boavista]          -0.0521      0.197     -0.265      0.791      -0.438       0.333\n",
              "opponent[T.Estoril]           -0.2225      0.208     -1.072      0.284      -0.629       0.184\n",
              "opponent[T.Famalicao]         -0.0652      0.198     -0.329      0.742      -0.453       0.322\n",
              "opponent[T.Gil Vicente]       -0.3378      0.214     -1.580      0.114      -0.757       0.081\n",
              "opponent[T.Guimaraes]         -0.2411      0.208     -1.162      0.245      -0.648       0.166\n",
              "opponent[T.Maritimo]          -0.2121      0.205     -1.036      0.300      -0.613       0.189\n",
              "opponent[T.Moreirense]        -0.0703      0.197     -0.357      0.721      -0.456       0.315\n",
              "opponent[T.Pacos Ferreira]    -0.2213      0.206     -1.074      0.283      -0.625       0.183\n",
              "opponent[T.Portimonense]      -0.1694      0.202     -0.838      0.402      -0.566       0.227\n",
              "opponent[T.Porto]             -0.8177      0.253     -3.226      0.001      -1.314      -0.321\n",
              "opponent[T.Santa Clara]       -0.0314      0.197     -0.160      0.873      -0.417       0.354\n",
              "opponent[T.Sp Braga]          -0.6150      0.233     -2.636      0.008      -1.072      -0.158\n",
              "opponent[T.Sp Lisbon]         -0.7922      0.249     -3.176      0.001      -1.281      -0.303\n",
              "opponent[T.Tondela]            0.2081      0.185      1.127      0.260      -0.154       0.570\n",
              "opponent[T.Vizela]             0.0149      0.193      0.078      0.938      -0.363       0.393\n",
              "home                           0.1496      0.072      2.081      0.037       0.009       0.291\n",
              "==============================================================================================\n",
              "\"\"\""
            ],
            "text/html": [
              "<table class=\"simpletable\">\n",
              "<caption>Generalized Linear Model Regression Results</caption>\n",
              "<tr>\n",
              "  <th>Dep. Variable:</th>         <td>goals</td>      <th>  No. Observations:  </th>  <td>   594</td> \n",
              "</tr>\n",
              "<tr>\n",
              "  <th>Model:</th>                  <td>GLM</td>       <th>  Df Residuals:      </th>  <td>   558</td> \n",
              "</tr>\n",
              "<tr>\n",
              "  <th>Model Family:</th>         <td>Poisson</td>     <th>  Df Model:          </th>  <td>    35</td> \n",
              "</tr>\n",
              "<tr>\n",
              "  <th>Link Function:</th>          <td>log</td>       <th>  Scale:             </th> <td>  1.0000</td>\n",
              "</tr>\n",
              "<tr>\n",
              "  <th>Method:</th>                <td>IRLS</td>       <th>  Log-Likelihood:    </th> <td> -796.11</td>\n",
              "</tr>\n",
              "<tr>\n",
              "  <th>Date:</th>            <td>Wed, 05 Oct 2022</td> <th>  Deviance:          </th> <td>  544.46</td>\n",
              "</tr>\n",
              "<tr>\n",
              "  <th>Time:</th>                <td>18:05:30</td>     <th>  Pearson chi2:      </th>  <td>  474.</td> \n",
              "</tr>\n",
              "<tr>\n",
              "  <th>No. Iterations:</th>          <td>5</td>        <th>                     </th>     <td> </td>   \n",
              "</tr>\n",
              "<tr>\n",
              "  <th>Covariance Type:</th>     <td>nonrobust</td>    <th>                     </th>     <td> </td>   \n",
              "</tr>\n",
              "</table>\n",
              "<table class=\"simpletable\">\n",
              "<tr>\n",
              "               <td></td>                 <th>coef</th>     <th>std err</th>      <th>z</th>      <th>P>|z|</th>  <th>[0.025</th>    <th>0.975]</th>  \n",
              "</tr>\n",
              "<tr>\n",
              "  <th>Intercept</th>                  <td>    0.0436</td> <td>    0.234</td> <td>    0.186</td> <td> 0.852</td> <td>   -0.415</td> <td>    0.502</td>\n",
              "</tr>\n",
              "<tr>\n",
              "  <th>team[T.Belenenses]</th>         <td>   -0.2707</td> <td>    0.277</td> <td>   -0.977</td> <td> 0.329</td> <td>   -0.814</td> <td>    0.273</td>\n",
              "</tr>\n",
              "<tr>\n",
              "  <th>team[T.Benfica]</th>            <td>    0.8868</td> <td>    0.216</td> <td>    4.103</td> <td> 0.000</td> <td>    0.463</td> <td>    1.310</td>\n",
              "</tr>\n",
              "<tr>\n",
              "  <th>team[T.Boavista]</th>           <td>    0.2077</td> <td>    0.246</td> <td>    0.843</td> <td> 0.399</td> <td>   -0.275</td> <td>    0.690</td>\n",
              "</tr>\n",
              "<tr>\n",
              "  <th>team[T.Estoril]</th>            <td>    0.1424</td> <td>    0.248</td> <td>    0.575</td> <td> 0.565</td> <td>   -0.343</td> <td>    0.628</td>\n",
              "</tr>\n",
              "<tr>\n",
              "  <th>team[T.Famalicao]</th>          <td>    0.3128</td> <td>    0.240</td> <td>    1.306</td> <td> 0.192</td> <td>   -0.157</td> <td>    0.782</td>\n",
              "</tr>\n",
              "<tr>\n",
              "  <th>team[T.Gil Vicente]</th>        <td>    0.4142</td> <td>    0.234</td> <td>    1.769</td> <td> 0.077</td> <td>   -0.045</td> <td>    0.873</td>\n",
              "</tr>\n",
              "<tr>\n",
              "  <th>team[T.Guimaraes]</th>          <td>    0.3775</td> <td>    0.236</td> <td>    1.598</td> <td> 0.110</td> <td>   -0.085</td> <td>    0.840</td>\n",
              "</tr>\n",
              "<tr>\n",
              "  <th>team[T.Maritimo]</th>           <td>    0.2412</td> <td>    0.243</td> <td>    0.991</td> <td> 0.322</td> <td>   -0.236</td> <td>    0.718</td>\n",
              "</tr>\n",
              "<tr>\n",
              "  <th>team[T.Moreirense]</th>         <td>   -0.0390</td> <td>    0.261</td> <td>   -0.150</td> <td> 0.881</td> <td>   -0.550</td> <td>    0.472</td>\n",
              "</tr>\n",
              "<tr>\n",
              "  <th>team[T.Pacos Ferreira]</th>     <td>   -0.0654</td> <td>    0.261</td> <td>   -0.251</td> <td> 0.802</td> <td>   -0.577</td> <td>    0.446</td>\n",
              "</tr>\n",
              "<tr>\n",
              "  <th>team[T.Portimonense]</th>       <td>   -0.0244</td> <td>    0.259</td> <td>   -0.094</td> <td> 0.925</td> <td>   -0.531</td> <td>    0.483</td>\n",
              "</tr>\n",
              "<tr>\n",
              "  <th>team[T.Porto]</th>              <td>    0.9801</td> <td>    0.213</td> <td>    4.598</td> <td> 0.000</td> <td>    0.562</td> <td>    1.398</td>\n",
              "</tr>\n",
              "<tr>\n",
              "  <th>team[T.Santa Clara]</th>        <td>    0.2091</td> <td>    0.245</td> <td>    0.854</td> <td> 0.393</td> <td>   -0.271</td> <td>    0.689</td>\n",
              "</tr>\n",
              "<tr>\n",
              "  <th>team[T.Sp Braga]</th>           <td>    0.4687</td> <td>    0.231</td> <td>    2.025</td> <td> 0.043</td> <td>    0.015</td> <td>    0.922</td>\n",
              "</tr>\n",
              "<tr>\n",
              "  <th>team[T.Sp Lisbon]</th>          <td>    0.7907</td> <td>    0.219</td> <td>    3.608</td> <td> 0.000</td> <td>    0.361</td> <td>    1.220</td>\n",
              "</tr>\n",
              "<tr>\n",
              "  <th>team[T.Tondela]</th>            <td>    0.2772</td> <td>    0.243</td> <td>    1.138</td> <td> 0.255</td> <td>   -0.200</td> <td>    0.754</td>\n",
              "</tr>\n",
              "<tr>\n",
              "  <th>team[T.Vizela]</th>             <td>    0.1748</td> <td>    0.248</td> <td>    0.706</td> <td> 0.480</td> <td>   -0.311</td> <td>    0.660</td>\n",
              "</tr>\n",
              "<tr>\n",
              "  <th>opponent[T.Belenenses]</th>     <td>    0.0161</td> <td>    0.192</td> <td>    0.084</td> <td> 0.933</td> <td>   -0.359</td> <td>    0.392</td>\n",
              "</tr>\n",
              "<tr>\n",
              "  <th>opponent[T.Benfica]</th>        <td>   -0.5195</td> <td>    0.228</td> <td>   -2.276</td> <td> 0.023</td> <td>   -0.967</td> <td>   -0.072</td>\n",
              "</tr>\n",
              "<tr>\n",
              "  <th>opponent[T.Boavista]</th>       <td>   -0.0521</td> <td>    0.197</td> <td>   -0.265</td> <td> 0.791</td> <td>   -0.438</td> <td>    0.333</td>\n",
              "</tr>\n",
              "<tr>\n",
              "  <th>opponent[T.Estoril]</th>        <td>   -0.2225</td> <td>    0.208</td> <td>   -1.072</td> <td> 0.284</td> <td>   -0.629</td> <td>    0.184</td>\n",
              "</tr>\n",
              "<tr>\n",
              "  <th>opponent[T.Famalicao]</th>      <td>   -0.0652</td> <td>    0.198</td> <td>   -0.329</td> <td> 0.742</td> <td>   -0.453</td> <td>    0.322</td>\n",
              "</tr>\n",
              "<tr>\n",
              "  <th>opponent[T.Gil Vicente]</th>    <td>   -0.3378</td> <td>    0.214</td> <td>   -1.580</td> <td> 0.114</td> <td>   -0.757</td> <td>    0.081</td>\n",
              "</tr>\n",
              "<tr>\n",
              "  <th>opponent[T.Guimaraes]</th>      <td>   -0.2411</td> <td>    0.208</td> <td>   -1.162</td> <td> 0.245</td> <td>   -0.648</td> <td>    0.166</td>\n",
              "</tr>\n",
              "<tr>\n",
              "  <th>opponent[T.Maritimo]</th>       <td>   -0.2121</td> <td>    0.205</td> <td>   -1.036</td> <td> 0.300</td> <td>   -0.613</td> <td>    0.189</td>\n",
              "</tr>\n",
              "<tr>\n",
              "  <th>opponent[T.Moreirense]</th>     <td>   -0.0703</td> <td>    0.197</td> <td>   -0.357</td> <td> 0.721</td> <td>   -0.456</td> <td>    0.315</td>\n",
              "</tr>\n",
              "<tr>\n",
              "  <th>opponent[T.Pacos Ferreira]</th> <td>   -0.2213</td> <td>    0.206</td> <td>   -1.074</td> <td> 0.283</td> <td>   -0.625</td> <td>    0.183</td>\n",
              "</tr>\n",
              "<tr>\n",
              "  <th>opponent[T.Portimonense]</th>   <td>   -0.1694</td> <td>    0.202</td> <td>   -0.838</td> <td> 0.402</td> <td>   -0.566</td> <td>    0.227</td>\n",
              "</tr>\n",
              "<tr>\n",
              "  <th>opponent[T.Porto]</th>          <td>   -0.8177</td> <td>    0.253</td> <td>   -3.226</td> <td> 0.001</td> <td>   -1.314</td> <td>   -0.321</td>\n",
              "</tr>\n",
              "<tr>\n",
              "  <th>opponent[T.Santa Clara]</th>    <td>   -0.0314</td> <td>    0.197</td> <td>   -0.160</td> <td> 0.873</td> <td>   -0.417</td> <td>    0.354</td>\n",
              "</tr>\n",
              "<tr>\n",
              "  <th>opponent[T.Sp Braga]</th>       <td>   -0.6150</td> <td>    0.233</td> <td>   -2.636</td> <td> 0.008</td> <td>   -1.072</td> <td>   -0.158</td>\n",
              "</tr>\n",
              "<tr>\n",
              "  <th>opponent[T.Sp Lisbon]</th>      <td>   -0.7922</td> <td>    0.249</td> <td>   -3.176</td> <td> 0.001</td> <td>   -1.281</td> <td>   -0.303</td>\n",
              "</tr>\n",
              "<tr>\n",
              "  <th>opponent[T.Tondela]</th>        <td>    0.2081</td> <td>    0.185</td> <td>    1.127</td> <td> 0.260</td> <td>   -0.154</td> <td>    0.570</td>\n",
              "</tr>\n",
              "<tr>\n",
              "  <th>opponent[T.Vizela]</th>         <td>    0.0149</td> <td>    0.193</td> <td>    0.078</td> <td> 0.938</td> <td>   -0.363</td> <td>    0.393</td>\n",
              "</tr>\n",
              "<tr>\n",
              "  <th>home</th>                       <td>    0.1496</td> <td>    0.072</td> <td>    2.081</td> <td> 0.037</td> <td>    0.009</td> <td>    0.291</td>\n",
              "</tr>\n",
              "</table>"
            ]
          },
          "metadata": {},
          "execution_count": 189
        }
      ],
      "source": [
        "import statsmodels.api as sm\n",
        "import statsmodels.formula.api as smf\n",
        "\n",
        "model_data = pd.concat([league[['Home team','Away team','Home goals']].assign(home=1).rename(\n",
        "            columns={'Home team':'team', 'Away team':'opponent','Home goals':'goals'}),\n",
        "           league[['Away team','Home team','Away goals']].assign(home=0).rename(\n",
        "            columns={'Away team':'team', 'Home team':'opponent','Away goals':'goals'})])\n",
        "\n",
        "poisson_model = smf.glm(formula=\"goals ~ home + team + opponent\", data=model_data, \n",
        "                        family=sm.families.Poisson()).fit()\n",
        "poisson_model.summary()"
      ]
    },
    {
      "cell_type": "raw",
      "metadata": {
        "id": "ayCWworqkNAE"
      },
      "source": [
        "We will focus on the main aspects of this regression. The number of observations is 740 (37 matchdays for 20 teams). In the first line we see an entry named \"Intercept\". This is the baseline rate and all other eastimations are relative to it. The team coefficient for Liverpool is 0.1849 which means that Liverpool scores more goals than average teams. The lower the coefficient, the fewer goals a team shoots on average.\n",
        "The opponent coefficient for Chelsea is -0.2537. Chelsea receives less goals than an average team. The lower the coefficient, the fewer goals a teams receives on average. The last row \"home 0.2526\" is the expression of home advantage: home teams score more goals in average.\n",
        "To calculate the estimated amount of goals for Liverpool we use the following formula:"
      ]
    },
    {
      "cell_type": "raw",
      "metadata": {
        "id": "FzkH8ZZFkNAE"
      },
      "source": [
        "exp(Intercept+Coefficients)"
      ]
    },
    {
      "cell_type": "raw",
      "metadata": {
        "id": "wTVaJFqakNAE"
      },
      "source": [
        "So let´s fill our formula for a) Liverpool and b) Chelsea:"
      ]
    },
    {
      "cell_type": "code",
      "execution_count": 190,
      "metadata": {
        "ExecuteTime": {
          "end_time": "2019-10-18T14:33:28.463898Z",
          "start_time": "2019-10-18T14:33:28.452928Z"
        },
        "colab": {
          "base_uri": "https://localhost:8080/",
          "height": 52
        },
        "id": "9feVHU_YkNAE",
        "outputId": "79fb1ece-3ffd-4658-926d-a03a80a0f784"
      },
      "outputs": [
        {
          "output_type": "display_data",
          "data": {
            "text/plain": [
              "1.7515480554167886"
            ]
          },
          "metadata": {}
        },
        {
          "output_type": "display_data",
          "data": {
            "text/plain": [
              "1.2287532039953122"
            ]
          },
          "metadata": {}
        }
      ],
      "source": [
        "import math\n",
        "benfica_home_goals = math.exp(0.0436+0.8868-0.5195+0.1496)\n",
        "porto_away_goals = math.exp(0.0436+0.9801-0.8177)\n",
        "\n",
        "display(benfica_home_goals, porto_away_goals)"
      ]
    },
    {
      "cell_type": "raw",
      "metadata": {
        "id": "SgteoyDGkNAE"
      },
      "source": [
        "Notice that we add the \"home\"-coeffienct (0.2526) just for Liverpool. The prediction would be 2:1, so we expect Liverpool to win. Now let´s compare our prediction with the last matchday:"
      ]
    },
    {
      "cell_type": "markdown",
      "metadata": {
        "id": "CUvuGlvZkNAE"
      },
      "source": [
        "## Testing the last matchday"
      ]
    },
    {
      "cell_type": "code",
      "execution_count": 191,
      "metadata": {
        "ExecuteTime": {
          "end_time": "2019-10-18T14:33:28.496810Z",
          "start_time": "2019-10-18T14:33:28.466893Z"
        },
        "id": "-s6pW8EFkNAF"
      },
      "outputs": [],
      "source": [
        "league_till_last_round = league_till_last_round.reset_index()"
      ]
    },
    {
      "cell_type": "code",
      "execution_count": 151,
      "metadata": {
        "ExecuteTime": {
          "end_time": "2019-10-18T14:33:28.513768Z",
          "start_time": "2019-10-18T14:33:28.500800Z"
        },
        "id": "p7jMbytTkNAF"
      },
      "outputs": [],
      "source": [
        "def simulate_match(foot_model, homeTeam, awayTeam, max_goals=10):\n",
        "    home_goals_avg = foot_model.predict(pd.DataFrame(data={'team': homeTeam, \n",
        "                                                            'opponent': awayTeam,'home':1},\n",
        "                                                      index=[1])).values[0]\n",
        "    away_goals_avg = foot_model.predict(pd.DataFrame(data={'team': awayTeam, \n",
        "                                                            'opponent': homeTeam,'home':0},\n",
        "                                                      index=[1])).values[0]\n",
        "    team_pred = [[poisson.pmf(i, team_avg) for i in range(0, max_goals+1)] for team_avg in [home_goals_avg, away_goals_avg]]\n",
        "    return(np.outer(np.array(team_pred[0]), np.array(team_pred[1])))\n"
      ]
    },
    {
      "cell_type": "code",
      "execution_count": 153,
      "metadata": {
        "ExecuteTime": {
          "end_time": "2019-10-18T14:33:28.690358Z",
          "start_time": "2019-10-18T14:33:28.517763Z"
        },
        "id": "m6n_zWZFkNAF"
      },
      "outputs": [],
      "source": [
        "from numpy import unravel_index\n",
        "\n",
        "home_match = []\n",
        "away_match = []\n",
        "home_goals = []\n",
        "away_goals = []\n",
        "pred_list_home = []\n",
        "pred_list_away = []\n",
        "\n",
        "for n in range(0,len(league_till_last_round['Home team'])):\n",
        "\n",
        "    a = simulate_match(poisson_model, league_till_last_round['Home team'].loc[n], league_till_last_round['Away team'].loc[n], max_goals=7)\n",
        "    b = unravel_index(a.argmax(), a.shape)\n",
        "    \n",
        "    home_match.append(league_till_last_round['Home team'].loc[n])\n",
        "    away_match.append(league_till_last_round['Away team'].loc[n])\n",
        "    home_goals.append(league_till_last_round['Home goals'].loc[n])\n",
        "    away_goals.append(league_till_last_round['Away goals'].loc[n])\n",
        "    pred_list_home.append(b[0])\n",
        "    pred_list_away.append(b[1])\n",
        "    \n",
        "\n",
        "final_df = pd.DataFrame({'Home': home_match, 'Away': away_match,\n",
        "                         'Home Goals': home_goals, 'Away Goals': away_goals,\n",
        "                         'Home Prediction': pred_list_home, 'Away Prediction': pred_list_away})"
      ]
    },
    {
      "cell_type": "code",
      "execution_count": 154,
      "metadata": {
        "ExecuteTime": {
          "end_time": "2019-10-18T14:33:28.705284Z",
          "start_time": "2019-10-18T14:33:28.692329Z"
        },
        "id": "i-3c7uackNAF"
      },
      "outputs": [],
      "source": [
        "def transform_df(mod_df):\n",
        "    mod_df.loc[(mod_df['Home Goals'] > mod_df['Away Goals']), '1x2'] = '1'\n",
        "    mod_df.loc[(mod_df['Home Goals'] == mod_df['Away Goals']), '1x2'] = 'X'\n",
        "    mod_df.loc[(mod_df['Home Goals'] < mod_df['Away Goals']), '1x2'] = '2'\n",
        "    \n",
        "    mod_df['Home Prediction Int'] = mod_df['Home Prediction'].round(0).astype(int)\n",
        "    mod_df['Away Prediction Int'] = mod_df['Away Prediction'].round(0).astype(int)\n",
        "    mod_df.loc[(mod_df['Home Prediction Int'] > mod_df['Away Prediction Int']), '1x2_Pred'] = '1'\n",
        "    mod_df.loc[(mod_df['Home Prediction Int'] == mod_df['Away Prediction Int']), '1x2_Pred'] = 'X'\n",
        "    mod_df.loc[(mod_df['Home Prediction Int'] < mod_df['Away Prediction Int']), '1x2_Pred'] = '2'\n",
        "    \n",
        "    mod_df['Exact_Res'] = 'NO'\n",
        "    mod_df.loc[(mod_df['Home Goals'] == mod_df['Home Prediction Int']) & \n",
        "               (mod_df['Away Goals'] == mod_df['Away Prediction Int']), 'Exact_Res'] = 'YES'\n",
        "    \n",
        "    mod_df.loc[mod_df['1x2'] == mod_df['1x2_Pred'], 'Match'] = 'Yes'\n",
        "    mod_df.loc[mod_df['1x2'] != mod_df['1x2_Pred'], 'Match'] = 'No'\n",
        "    return mod_df"
      ]
    },
    {
      "cell_type": "code",
      "execution_count": 155,
      "metadata": {
        "ExecuteTime": {
          "end_time": "2019-10-18T14:33:28.774104Z",
          "start_time": "2019-10-18T14:33:28.708244Z"
        },
        "scrolled": false,
        "colab": {
          "base_uri": "https://localhost:8080/",
          "height": 410
        },
        "id": "jH_MemLakNAG",
        "outputId": "ce1506ba-3738-4de8-9ea3-6c8bdd044c58"
      },
      "outputs": [
        {
          "output_type": "execute_result",
          "data": {
            "text/plain": [
              "             Home          Away  Home Goals  Away Goals  Home Prediction  \\\n",
              "0  Pacos Ferreira       Benfica           0           2                0   \n",
              "1          Arouca    Belenenses           0           0                1   \n",
              "2      Moreirense        Vizela           4           1                1   \n",
              "3         Tondela      Boavista           2           2                1   \n",
              "4        Maritimo  Portimonense           0           1                1   \n",
              "5           Porto       Estoril           2           0                2   \n",
              "6       Sp Lisbon   Santa Clara           4           0                2   \n",
              "7       Famalicao      Sp Braga           3           2                0   \n",
              "8       Guimaraes   Gil Vicente           5           0                1   \n",
              "\n",
              "   Away Prediction 1x2  Home Prediction Int  Away Prediction Int 1x2_Pred  \\\n",
              "0                2   2                    0                    2        2   \n",
              "1                0   X                    1                    0        1   \n",
              "2                1   1                    1                    1        X   \n",
              "3                1   X                    1                    1        X   \n",
              "4                0   2                    1                    0        1   \n",
              "5                0   1                    2                    0        1   \n",
              "6                0   1                    2                    0        1   \n",
              "7                1   1                    0                    1        2   \n",
              "8                1   1                    1                    1        X   \n",
              "\n",
              "  Exact_Res Match  \n",
              "0       YES   Yes  \n",
              "1        NO    No  \n",
              "2        NO    No  \n",
              "3        NO   Yes  \n",
              "4        NO    No  \n",
              "5       YES   Yes  \n",
              "6        NO   Yes  \n",
              "7        NO    No  \n",
              "8        NO    No  "
            ],
            "text/html": [
              "\n",
              "  <div id=\"df-da9a0074-51c2-43d4-b6c7-f0951b57bc5f\">\n",
              "    <div class=\"colab-df-container\">\n",
              "      <div>\n",
              "<style scoped>\n",
              "    .dataframe tbody tr th:only-of-type {\n",
              "        vertical-align: middle;\n",
              "    }\n",
              "\n",
              "    .dataframe tbody tr th {\n",
              "        vertical-align: top;\n",
              "    }\n",
              "\n",
              "    .dataframe thead th {\n",
              "        text-align: right;\n",
              "    }\n",
              "</style>\n",
              "<table border=\"1\" class=\"dataframe\">\n",
              "  <thead>\n",
              "    <tr style=\"text-align: right;\">\n",
              "      <th></th>\n",
              "      <th>Home</th>\n",
              "      <th>Away</th>\n",
              "      <th>Home Goals</th>\n",
              "      <th>Away Goals</th>\n",
              "      <th>Home Prediction</th>\n",
              "      <th>Away Prediction</th>\n",
              "      <th>1x2</th>\n",
              "      <th>Home Prediction Int</th>\n",
              "      <th>Away Prediction Int</th>\n",
              "      <th>1x2_Pred</th>\n",
              "      <th>Exact_Res</th>\n",
              "      <th>Match</th>\n",
              "    </tr>\n",
              "  </thead>\n",
              "  <tbody>\n",
              "    <tr>\n",
              "      <th>0</th>\n",
              "      <td>Pacos Ferreira</td>\n",
              "      <td>Benfica</td>\n",
              "      <td>0</td>\n",
              "      <td>2</td>\n",
              "      <td>0</td>\n",
              "      <td>2</td>\n",
              "      <td>2</td>\n",
              "      <td>0</td>\n",
              "      <td>2</td>\n",
              "      <td>2</td>\n",
              "      <td>YES</td>\n",
              "      <td>Yes</td>\n",
              "    </tr>\n",
              "    <tr>\n",
              "      <th>1</th>\n",
              "      <td>Arouca</td>\n",
              "      <td>Belenenses</td>\n",
              "      <td>0</td>\n",
              "      <td>0</td>\n",
              "      <td>1</td>\n",
              "      <td>0</td>\n",
              "      <td>X</td>\n",
              "      <td>1</td>\n",
              "      <td>0</td>\n",
              "      <td>1</td>\n",
              "      <td>NO</td>\n",
              "      <td>No</td>\n",
              "    </tr>\n",
              "    <tr>\n",
              "      <th>2</th>\n",
              "      <td>Moreirense</td>\n",
              "      <td>Vizela</td>\n",
              "      <td>4</td>\n",
              "      <td>1</td>\n",
              "      <td>1</td>\n",
              "      <td>1</td>\n",
              "      <td>1</td>\n",
              "      <td>1</td>\n",
              "      <td>1</td>\n",
              "      <td>X</td>\n",
              "      <td>NO</td>\n",
              "      <td>No</td>\n",
              "    </tr>\n",
              "    <tr>\n",
              "      <th>3</th>\n",
              "      <td>Tondela</td>\n",
              "      <td>Boavista</td>\n",
              "      <td>2</td>\n",
              "      <td>2</td>\n",
              "      <td>1</td>\n",
              "      <td>1</td>\n",
              "      <td>X</td>\n",
              "      <td>1</td>\n",
              "      <td>1</td>\n",
              "      <td>X</td>\n",
              "      <td>NO</td>\n",
              "      <td>Yes</td>\n",
              "    </tr>\n",
              "    <tr>\n",
              "      <th>4</th>\n",
              "      <td>Maritimo</td>\n",
              "      <td>Portimonense</td>\n",
              "      <td>0</td>\n",
              "      <td>1</td>\n",
              "      <td>1</td>\n",
              "      <td>0</td>\n",
              "      <td>2</td>\n",
              "      <td>1</td>\n",
              "      <td>0</td>\n",
              "      <td>1</td>\n",
              "      <td>NO</td>\n",
              "      <td>No</td>\n",
              "    </tr>\n",
              "    <tr>\n",
              "      <th>5</th>\n",
              "      <td>Porto</td>\n",
              "      <td>Estoril</td>\n",
              "      <td>2</td>\n",
              "      <td>0</td>\n",
              "      <td>2</td>\n",
              "      <td>0</td>\n",
              "      <td>1</td>\n",
              "      <td>2</td>\n",
              "      <td>0</td>\n",
              "      <td>1</td>\n",
              "      <td>YES</td>\n",
              "      <td>Yes</td>\n",
              "    </tr>\n",
              "    <tr>\n",
              "      <th>6</th>\n",
              "      <td>Sp Lisbon</td>\n",
              "      <td>Santa Clara</td>\n",
              "      <td>4</td>\n",
              "      <td>0</td>\n",
              "      <td>2</td>\n",
              "      <td>0</td>\n",
              "      <td>1</td>\n",
              "      <td>2</td>\n",
              "      <td>0</td>\n",
              "      <td>1</td>\n",
              "      <td>NO</td>\n",
              "      <td>Yes</td>\n",
              "    </tr>\n",
              "    <tr>\n",
              "      <th>7</th>\n",
              "      <td>Famalicao</td>\n",
              "      <td>Sp Braga</td>\n",
              "      <td>3</td>\n",
              "      <td>2</td>\n",
              "      <td>0</td>\n",
              "      <td>1</td>\n",
              "      <td>1</td>\n",
              "      <td>0</td>\n",
              "      <td>1</td>\n",
              "      <td>2</td>\n",
              "      <td>NO</td>\n",
              "      <td>No</td>\n",
              "    </tr>\n",
              "    <tr>\n",
              "      <th>8</th>\n",
              "      <td>Guimaraes</td>\n",
              "      <td>Gil Vicente</td>\n",
              "      <td>5</td>\n",
              "      <td>0</td>\n",
              "      <td>1</td>\n",
              "      <td>1</td>\n",
              "      <td>1</td>\n",
              "      <td>1</td>\n",
              "      <td>1</td>\n",
              "      <td>X</td>\n",
              "      <td>NO</td>\n",
              "      <td>No</td>\n",
              "    </tr>\n",
              "  </tbody>\n",
              "</table>\n",
              "</div>\n",
              "      <button class=\"colab-df-convert\" onclick=\"convertToInteractive('df-da9a0074-51c2-43d4-b6c7-f0951b57bc5f')\"\n",
              "              title=\"Convert this dataframe to an interactive table.\"\n",
              "              style=\"display:none;\">\n",
              "        \n",
              "  <svg xmlns=\"http://www.w3.org/2000/svg\" height=\"24px\"viewBox=\"0 0 24 24\"\n",
              "       width=\"24px\">\n",
              "    <path d=\"M0 0h24v24H0V0z\" fill=\"none\"/>\n",
              "    <path d=\"M18.56 5.44l.94 2.06.94-2.06 2.06-.94-2.06-.94-.94-2.06-.94 2.06-2.06.94zm-11 1L8.5 8.5l.94-2.06 2.06-.94-2.06-.94L8.5 2.5l-.94 2.06-2.06.94zm10 10l.94 2.06.94-2.06 2.06-.94-2.06-.94-.94-2.06-.94 2.06-2.06.94z\"/><path d=\"M17.41 7.96l-1.37-1.37c-.4-.4-.92-.59-1.43-.59-.52 0-1.04.2-1.43.59L10.3 9.45l-7.72 7.72c-.78.78-.78 2.05 0 2.83L4 21.41c.39.39.9.59 1.41.59.51 0 1.02-.2 1.41-.59l7.78-7.78 2.81-2.81c.8-.78.8-2.07 0-2.86zM5.41 20L4 18.59l7.72-7.72 1.47 1.35L5.41 20z\"/>\n",
              "  </svg>\n",
              "      </button>\n",
              "      \n",
              "  <style>\n",
              "    .colab-df-container {\n",
              "      display:flex;\n",
              "      flex-wrap:wrap;\n",
              "      gap: 12px;\n",
              "    }\n",
              "\n",
              "    .colab-df-convert {\n",
              "      background-color: #E8F0FE;\n",
              "      border: none;\n",
              "      border-radius: 50%;\n",
              "      cursor: pointer;\n",
              "      display: none;\n",
              "      fill: #1967D2;\n",
              "      height: 32px;\n",
              "      padding: 0 0 0 0;\n",
              "      width: 32px;\n",
              "    }\n",
              "\n",
              "    .colab-df-convert:hover {\n",
              "      background-color: #E2EBFA;\n",
              "      box-shadow: 0px 1px 2px rgba(60, 64, 67, 0.3), 0px 1px 3px 1px rgba(60, 64, 67, 0.15);\n",
              "      fill: #174EA6;\n",
              "    }\n",
              "\n",
              "    [theme=dark] .colab-df-convert {\n",
              "      background-color: #3B4455;\n",
              "      fill: #D2E3FC;\n",
              "    }\n",
              "\n",
              "    [theme=dark] .colab-df-convert:hover {\n",
              "      background-color: #434B5C;\n",
              "      box-shadow: 0px 1px 3px 1px rgba(0, 0, 0, 0.15);\n",
              "      filter: drop-shadow(0px 1px 2px rgba(0, 0, 0, 0.3));\n",
              "      fill: #FFFFFF;\n",
              "    }\n",
              "  </style>\n",
              "\n",
              "      <script>\n",
              "        const buttonEl =\n",
              "          document.querySelector('#df-da9a0074-51c2-43d4-b6c7-f0951b57bc5f button.colab-df-convert');\n",
              "        buttonEl.style.display =\n",
              "          google.colab.kernel.accessAllowed ? 'block' : 'none';\n",
              "\n",
              "        async function convertToInteractive(key) {\n",
              "          const element = document.querySelector('#df-da9a0074-51c2-43d4-b6c7-f0951b57bc5f');\n",
              "          const dataTable =\n",
              "            await google.colab.kernel.invokeFunction('convertToInteractive',\n",
              "                                                     [key], {});\n",
              "          if (!dataTable) return;\n",
              "\n",
              "          const docLinkHtml = 'Like what you see? Visit the ' +\n",
              "            '<a target=\"_blank\" href=https://colab.research.google.com/notebooks/data_table.ipynb>data table notebook</a>'\n",
              "            + ' to learn more about interactive tables.';\n",
              "          element.innerHTML = '';\n",
              "          dataTable['output_type'] = 'display_data';\n",
              "          await google.colab.output.renderOutput(dataTable, element);\n",
              "          const docLink = document.createElement('div');\n",
              "          docLink.innerHTML = docLinkHtml;\n",
              "          element.appendChild(docLink);\n",
              "        }\n",
              "      </script>\n",
              "    </div>\n",
              "  </div>\n",
              "  "
            ]
          },
          "metadata": {},
          "execution_count": 155
        }
      ],
      "source": [
        "transform_df(final_df)"
      ]
    },
    {
      "cell_type": "code",
      "execution_count": 202,
      "metadata": {
        "ExecuteTime": {
          "end_time": "2019-10-18T14:33:28.844879Z",
          "start_time": "2019-10-18T14:33:28.834905Z"
        },
        "scrolled": true,
        "colab": {
          "base_uri": "https://localhost:8080/"
        },
        "id": "K7JKSCSrkNAG",
        "outputId": "7f44a8ca-ecfa-4be2-b1a3-081b23a41c9c"
      },
      "outputs": [
        {
          "output_type": "stream",
          "name": "stdout",
          "text": [
            "Winning game accuracy: 55.55555555555556% \n",
            "Exact result accuracy: 22.22222222222222%\n"
          ]
        }
      ],
      "source": [
        "matching_results = final_df.groupby('Match')['Match'].count()\n",
        "# accuracy\n",
        "accuracy = matching_results[0]*100/(matching_results[0] + matching_results[1])\n",
        "accuracy_exact_result = len(final_df[final_df['Exact_Res'] == 'YES'])*100 / len(final_df)\n",
        "\n",
        "print(f'Winning game accuracy: {accuracy}% \\nExact result accuracy: {accuracy_exact_result}%')\n"
      ]
    },
    {
      "cell_type": "raw",
      "metadata": {
        "id": "zIngUt-ckNAH"
      },
      "source": [
        "Okay, we predicted half of the match correct and half of the match wrong. For such an easy model, it isn´t bad or? But we just predicted one single match and it was the last matchday which should be less predictable. Some teams can´t change their position on the last matchday and therefore they have nothing to lose which results in weaker performances. In a next step we take a look at the top five european leagues (regarding to the uefa-coefficient) and predict the last 10 matchdays for each."
      ]
    }
  ],
  "metadata": {
    "hide_input": false,
    "kernelspec": {
      "display_name": "Python 3",
      "language": "python",
      "name": "python3"
    },
    "language_info": {
      "codemirror_mode": {
        "name": "ipython",
        "version": 3
      },
      "file_extension": ".py",
      "mimetype": "text/x-python",
      "name": "python",
      "nbconvert_exporter": "python",
      "pygments_lexer": "ipython3",
      "version": "3.7.1"
    },
    "varInspector": {
      "cols": {
        "lenName": 16,
        "lenType": 16,
        "lenVar": 40
      },
      "kernels_config": {
        "python": {
          "delete_cmd_postfix": "",
          "delete_cmd_prefix": "del ",
          "library": "var_list.py",
          "varRefreshCmd": "print(var_dic_list())"
        },
        "r": {
          "delete_cmd_postfix": ") ",
          "delete_cmd_prefix": "rm(",
          "library": "var_list.r",
          "varRefreshCmd": "cat(var_dic_list()) "
        }
      },
      "types_to_exclude": [
        "module",
        "function",
        "builtin_function_or_method",
        "instance",
        "_Feature"
      ],
      "window_display": false
    },
    "colab": {
      "provenance": []
    }
  },
  "nbformat": 4,
  "nbformat_minor": 0
}