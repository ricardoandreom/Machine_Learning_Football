{
  "nbformat": 4,
  "nbformat_minor": 0,
  "metadata": {
    "colab": {
      "provenance": []
    },
    "kernelspec": {
      "name": "python3",
      "display_name": "Python 3"
    },
    "language_info": {
      "name": "python"
    }
  },
  "cells": [
    {
      "cell_type": "code",
      "source": [
        "!pip install plotly\n",
        "!pip install streamlit"
      ],
      "metadata": {
        "id": "qy2G06uS7gvh"
      },
      "execution_count": null,
      "outputs": []
    },
    {
      "cell_type": "code",
      "execution_count": 55,
      "metadata": {
        "id": "Ay0jFNG2nwha"
      },
      "outputs": [],
      "source": [
        "import streamlit as st\n",
        "import random\n",
        "import plotly.express as px\n",
        "import pandas as pd"
      ]
    },
    {
      "cell_type": "code",
      "source": [
        "df = pd.read_excel('Article.xlsx')\n",
        "df.info()"
      ],
      "metadata": {
        "colab": {
          "base_uri": "https://localhost:8080/"
        },
        "id": "MH5R9Xcin3rM",
        "outputId": "03796c89-09f0-4110-e237-4bfa9aa91a36"
      },
      "execution_count": 56,
      "outputs": [
        {
          "output_type": "stream",
          "name": "stdout",
          "text": [
            "<class 'pandas.core.frame.DataFrame'>\n",
            "RangeIndex: 98 entries, 0 to 97\n",
            "Data columns (total 20 columns):\n",
            " #   Column                 Non-Null Count  Dtype  \n",
            "---  ------                 --------------  -----  \n",
            " 0   Squad                  98 non-null     object \n",
            " 1   Competition            98 non-null     object \n",
            " 2   Avg Age                98 non-null     float64\n",
            " 3   Avg Possession%        98 non-null     float64\n",
            " 4   Field_tilt%            98 non-null     float64\n",
            " 5   PPDA                   98 non-null     float64\n",
            " 6   OPPDA                  98 non-null     float64\n",
            " 7   Attempted passes/90    98 non-null     float64\n",
            " 8   CrsPA/90               98 non-null     float64\n",
            " 9   SCA from dead balls    98 non-null     float64\n",
            " 10  Tackles def3rd/90      98 non-null     float64\n",
            " 11  Tackles mid3rd/90      98 non-null     float64\n",
            " 12  Tackles final3rd/90    98 non-null     float64\n",
            " 13  Touches/90             98 non-null     float64\n",
            " 14  Dribbles Attempted/90  98 non-null     float64\n",
            " 15  Aerials Won            98 non-null     float64\n",
            " 16  Aerials Lost           98 non-null     float64\n",
            " 17  % Aerials Won          98 non-null     float64\n",
            " 18  TotDist                98 non-null     float64\n",
            " 19  PrgDist                98 non-null     float64\n",
            "dtypes: float64(18), object(2)\n",
            "memory usage: 15.4+ KB\n"
          ]
        }
      ]
    },
    {
      "cell_type": "code",
      "source": [
        "#from IPython.core.debugger import decorate_fn_with_doc\n",
        "df_style_of_play = pd.DataFrame()\n",
        "df_style_of_play['Team'] = df['Squad']\n",
        "df_style_of_play['Pressing Intensity'] = df['PPDA']\n",
        "df_style_of_play['Pressing Resistance'] = df['OPPDA']\n",
        "df_style_of_play['Possession'] = df['Avg Possession%']\n",
        "df_style_of_play['Field tilt %'] = df['Field_tilt%']\n",
        "df_style_of_play['Tempo'] = df['Attempted passes/90']*100/df['Touches/90']\n",
        "df_style_of_play['Directness'] = df['PrgDist']*100/df['TotDist']\n",
        "df['%tackles_def3rd'] = df['Tackles def3rd/90'] / (df['Tackles def3rd/90'] + df['Tackles mid3rd/90'] + df['Tackles final3rd/90']) \n",
        "df['%tackles_mid3rd'] = df['Tackles mid3rd/90'] / (df['Tackles def3rd/90'] + df['Tackles mid3rd/90'] + df['Tackles final3rd/90']) \n",
        "df['%tackles_final3rd'] = df['Tackles mid3rd/90'] / (df['Tackles def3rd/90'] + df['Tackles mid3rd/90'] + df['Tackles final3rd/90']) \n",
        "df_style_of_play['Defensive height'] = (df['%tackles_def3rd']*16.5*1.1) + (df['%tackles_mid3rd']*49.5*1.1) + (df['%tackles_final3rd']*82.5*1.1) \n",
        "df_style_of_play['Crossing'] = df['CrsPA/90']\n",
        "df_style_of_play['Air duels'] = df['Aerials Lost'] + df['Aerials Won'] \n",
        "df_style_of_play['Set Pieces'] = df['SCA from dead balls']\n",
        "df_style_of_play['Dribbling'] = df['Dribbles Attempted/90'] / df['Touches/90']\n",
        "df_style_of_play.head()\n",
        "#df_style_of_play[df_style_of_play['Team']=='Liverpool']"
      ],
      "metadata": {
        "id": "B1DwygDKoIMd"
      },
      "execution_count": null,
      "outputs": []
    },
    {
      "cell_type": "code",
      "source": [
        "# normalization\n",
        "df_style_of_play['Dribbling'] = (df_style_of_play['Dribbling']*100) / (df_style_of_play['Dribbling'].max())\n",
        "df_style_of_play['Set Pieces'] = (df_style_of_play['Set Pieces']*100) / (df_style_of_play['Set Pieces'].max())\n",
        "df_style_of_play['Air duels'] = (df_style_of_play['Air duels']*100) / (df_style_of_play['Air duels'].max())\n",
        "df_style_of_play['Crossing'] = (df_style_of_play['Crossing']*100) / (df_style_of_play['Crossing'].max())\n",
        "df_style_of_play['Air duels'] = (df_style_of_play['Air duels']*100) / (df_style_of_play['Air duels'].max())\n",
        "df_style_of_play['Pressing Resistance'] = (df_style_of_play['Pressing Resistance']*100) / (df_style_of_play['Pressing Resistance'].max())\n",
        "df_style_of_play['Pressing Intensity'] = (df_style_of_play['Pressing Intensity'].min()*100) / (df_style_of_play['Pressing Intensity'])\n",
        "\n",
        "#print(max(df_style_of_play['Dribbling']))"
      ],
      "metadata": {
        "id": "cvQjd6Z_0Csi"
      },
      "execution_count": 69,
      "outputs": []
    },
    {
      "cell_type": "code",
      "source": [
        "df_style_of_play.head(30)"
      ],
      "metadata": {
        "id": "4Lglb17233Pk"
      },
      "execution_count": null,
      "outputs": []
    },
    {
      "cell_type": "code",
      "source": [
        "st.sidebar.header(\"Please Filter Here:\")\n",
        "team = st.sidebar.selectbox(\n",
        "    \"Select or write team name:\\nTeam names are sorted alphabetically.\",\n",
        "    options=df_style_of_play['Team'].unique()\n",
        ")\n",
        "df_style_of_play1 = df_style_of_play.query(\"Team == @team\")"
      ],
      "metadata": {
        "id": "6OxuQiDI_V0E"
      },
      "execution_count": 76,
      "outputs": []
    },
    {
      "cell_type": "code",
      "source": [
        "def radar_chart(team_name):\n",
        "    #df_style_of_play = df_style_of_play[df_style_of_play['Team']==team_name]\n",
        "    df = pd.DataFrame(dict(\n",
        "    r=[df_style_of_play1['Pressing Intensity'],\n",
        "       df_style_of_play1['Pressing Resistance'],\n",
        "       df_style_of_play1['Possession'],\n",
        "       df_style_of_play1['Field tilt %'],\n",
        "       df_style_of_play1['Tempo'],\n",
        "       df_style_of_play1['Directness'],\n",
        "       df_style_of_play1['Defensive height'],\n",
        "       df_style_of_play1['Crossing'],\n",
        "       df_style_of_play1['Air duels'],\n",
        "       df_style_of_play1['Set Pieces'],\n",
        "       df_style_of_play1['Dribbling']\n",
        "       ],\n",
        "    theta=['Pressing Intensity',\t'Pressing Resistance',\t'Possession',\t'Field tilt %',\t'Tempo',\t'Directness',\t'Defensive height',\t'Crossing',\t'Air duels',\t'Set Pieces',\t'Dribbling']))\n",
        "    fig = px.line_polar(df, r='r', theta='theta', line_close=True)\n",
        "    st.write(fig)"
      ],
      "metadata": {
        "id": "Fwtw4nUo70yY"
      },
      "execution_count": 84,
      "outputs": []
    },
    {
      "cell_type": "code",
      "source": [
        "if __name__ == '__main__':\n",
        "    radar_chart(team_name)"
      ],
      "metadata": {
        "id": "FJXAEbJM8FRw"
      },
      "execution_count": 85,
      "outputs": []
    }
  ]
}