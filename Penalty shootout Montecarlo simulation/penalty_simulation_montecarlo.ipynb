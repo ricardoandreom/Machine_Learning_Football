{
  "nbformat": 4,
  "nbformat_minor": 0,
  "metadata": {
    "colab": {
      "provenance": []
    },
    "kernelspec": {
      "name": "python3",
      "display_name": "Python 3"
    },
    "language_info": {
      "name": "python"
    }
  },
  "cells": [
    {
      "cell_type": "markdown",
      "source": [
        "# Monte Carlo simulation of possible penalty shoot-out\n",
        "# France vs Argentina - WC Final 2022"
      ],
      "metadata": {
        "id": "IuONHyw9FlGN"
      }
    },
    {
      "cell_type": "code",
      "execution_count": null,
      "metadata": {
        "id": "BNgpVUgZFj35"
      },
      "outputs": [],
      "source": [
        "# Import the random module to handle random number generation\n",
        "import random\n",
        "import matplotlib.pyplot as plt"
      ]
    },
    {
      "cell_type": "code",
      "source": [
        "def simulate_penalty_shootout(probability_of_scoring_england,probability_of_scoring_france):\n",
        "    # Initialize the score for each team to 0\n",
        "    team1_score = 0\n",
        "    team2_score = 0\n",
        "\n",
        "    # Loop for the first 10 penalty kicks\n",
        "    for i in range(10):\n",
        "        # It is always team 1's turn to take the penalty kick in this simulation\n",
        "        # Generate a random number between 0 and 1 to decide whether the penalty kick is successful\n",
        "        penalty_success = random.random()\n",
        "\n",
        "        # If the random number is less than or equal to the probability of scoring, the penalty kick is successful\n",
        "        if penalty_success <= probability_of_scoring_england:\n",
        "            team1_score += 1\n",
        "\n",
        "        # It is always team 2's turn to take the penalty kick next in this simulation\n",
        "        # Generate a random number between 0 and 1 to decide whether the penalty kick is successful\n",
        "        penalty_success = random.random()\n",
        "\n",
        "        # If the random number is less than or equal to the probability of scoring, the penalty kick is successful\n",
        "        if penalty_success <= probability_of_scoring_france:\n",
        "            team2_score += 1\n",
        "\n",
        "    # If the score is tied after the initial 10 penalty kicks, go into sudden death mode\n",
        "    if team1_score == team2_score:\n",
        "        # Loop until there is a winner in sudden death mode\n",
        "        while team1_score == team2_score:\n",
        "            # It is always team 1's turn to take the penalty kick in this simulation\n",
        "            # Generate a random number between 0 and 1 to decide whether the penalty kick is successful\n",
        "            penalty_success = random.random()\n",
        "\n",
        "            # If the random number is less than or equal to the probability of scoring, the penalty kick is successful\n",
        "            if penalty_success <= probability_of_scoring_england:\n",
        "                team1_score += 1\n",
        "                break\n",
        "\n",
        "            # It is always team 2's turn to take the penalty kick next in this simulation\n",
        "            # Generate a random number between 0 and 1 to decide whether the penalty kick is successful\n",
        "            penalty_success = random.random()\n",
        "\n",
        "            # If the random number is less than or equal to the probability of scoring, the penalty kick is successful\n",
        "            if penalty_success <= probability_of_scoring_france:\n",
        "                team2_score += 1\n",
        "                break\n",
        "\n",
        "    # Return the final score\n",
        "    return (team1_score, team2_score)\n",
        "    "
      ],
      "metadata": {
        "id": "sVk9pxc-F84R"
      },
      "execution_count": null,
      "outputs": []
    },
    {
      "cell_type": "code",
      "source": [
        "# Define the number of simulations to run\n",
        "num_simulations = 100000\n",
        "\n",
        "# Define the probability of scoring\n",
        "probability_of_scoring_argentina = 0.78\n",
        "probability_of_scoring_france = 0.65\n",
        "\n",
        "# Initialize the total wins for each team to 0\n",
        "team1_wins = 0\n",
        "team2_wins = 0\n",
        "\n",
        "# Loop through the specified number of simulations\n",
        "for i in range(num_simulations):\n",
        "    # Simulate the penalty shootout and get the final score\n",
        "    final_score = simulate_penalty_shootout(probability_of_scoring_argentina,probability_of_scoring_france)\n",
        "\n",
        "    # Increment the total wins for each team based on the final score\n",
        "    if final_score[0] > final_score[1]:\n",
        "        team1_wins += 1\n",
        "    elif final_score[1] > final_score[0]:\n",
        "        team2_wins += 1\n",
        "\n",
        "# Print the total wins for each team\n",
        "print(f\"England wins: {team1_wins}\")\n",
        "print(f\"France wins: {team2_wins}\")\n",
        "\n",
        "\n",
        "# Create a bar chart to visualize the results\n",
        "plt.figure(figsize=(8,8))\n",
        "plt.bar(['Argentina','France'], [team1_wins, team2_wins],color=[\"skyblue\",\"darkblue\"],edgecolor=\"black\",width = 0.7)\n",
        "\n",
        "# Add a title and labels to the x and y axes\n",
        "\n",
        "plt.suptitle(\"Total wins of 100000 penalty shootout simulations\\nusing Monte Carlo\",fontweight='bold',fontsize=18)\n",
        "plt.xlabel(\"Team\",fontweight='bold',fontsize=12)\n",
        "plt.ylabel(\"Wins\",fontweight='bold',fontsize=12)\n",
        "plt.xticks(size=16,fontweight='bold')\n",
        "\n",
        "\n",
        "simulate_penalty_shootout(probability_of_scoring_argentina,probability_of_scoring_france)\n",
        "\n",
        "plt.savefig('montecarlo_penalty_simulation.png',dpi=500,bbox_inches = 'tight',facecolor='white')"
      ],
      "metadata": {
        "colab": {
          "base_uri": "https://localhost:8080/",
          "height": 597
        },
        "id": "nmntbuutGCAK",
        "outputId": "1264f99f-342d-4b22-9a00-9dd72a64bd3e"
      },
      "execution_count": null,
      "outputs": [
        {
          "output_type": "stream",
          "name": "stdout",
          "text": [
            "England wins: 79300\n",
            "France wins: 20700\n"
          ]
        },
        {
          "output_type": "display_data",
          "data": {
            "text/plain": [
              "<Figure size 576x576 with 1 Axes>"
            ],
            "image/png": "[encoded data removed]"
          },
          "metadata": {
            "needs_background": "light"
          }
        }
      ]
    }
  ]
}