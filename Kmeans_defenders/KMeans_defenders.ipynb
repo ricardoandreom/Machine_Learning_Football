{
  "nbformat": 4,
  "nbformat_minor": 0,
  "metadata": {
    "colab": {
      "provenance": [],
      "collapsed_sections": []
    },
    "kernelspec": {
      "name": "python3",
      "display_name": "Python 3"
    },
    "language_info": {
      "name": "python"
    }
  },
  "cells": [
    {
      "cell_type": "markdown",
      "source": [
        "#K-means for player clustering\n",
        "In this notebook we are going to train an **unsupervised machine learning** algorithm called **K-means**.\n",
        "\n",
        "K-means clustering is a method of vector quantization, that **aims to partition n observations into k clusters** in which each observation belongs to the cluster with the nearest mean (cluster centers or cluster centroid).\n",
        "\n",
        "In other words, **K-means is able to find relationships in data and create groups of similar characteristics.**\n",
        "\n",
        "We will use a dataset **('FB_stats.xlsx')** that I scraped from Fbref with game variables of different **Big 5 league players** to train a K-means and **group players based on similarity factors**.\n",
        "\n",
        "We start by importing the necessaries libraries and uploading the excel file('FB_stats.xlsx'). "
      ],
      "metadata": {
        "id": "GY5XTy_TXd98"
      }
    },
    {
      "cell_type": "code",
      "execution_count": null,
      "metadata": {
        "id": "olqZXujpMIZZ"
      },
      "outputs": [],
      "source": [
        "# import libraries\n",
        "import pandas as pd\n",
        "import numpy as np\n",
        "from PIL import Image\n",
        "from io import BytesIO\n",
        "import requests\n",
        "from datetime import datetime\n",
        "import matplotlib.pyplot as plt"
      ]
    },
    {
      "cell_type": "code",
      "source": [
        "df = pd.read_excel('/content/FB_stats.xlsx')\n",
        "df.head()"
      ],
      "metadata": {
        "id": "WaFY4fYaMSQ0",
        "colab": {
          "base_uri": "https://localhost:8080/",
          "height": 421
        },
        "outputId": "52649979-2483-456e-cb6f-2e0e0784639e"
      },
      "execution_count": null,
      "outputs": [
        {
          "output_type": "execute_result",
          "data": {
            "text/plain": [
              "    Rk             Player Positions  Shot Creating Actions  \\\n",
              "0  1.0   Brenden Aaronson      MFFW                   2.49   \n",
              "1  2.0   Yunis Abdelhamid        DF                   0.44   \n",
              "2  3.0      Himad Abdelli        MF                   3.33   \n",
              "3  4.0  Salis Abdul Samed        MF                   0.89   \n",
              "4  5.0    Laurent Abergel        MF                   1.15   \n",
              "\n",
              "   Goal Creating Actions  Aerial duels Won%  xG/-90  On-Off  Touches Mid 3rd  \\\n",
              "0                   0.31               15.0    0.04    0.54             21.4   \n",
              "1                   0.00               73.1    0.00    0.00             22.1   \n",
              "2                   0.00                0.0   -0.23    0.00             60.0   \n",
              "3                   0.00               36.4    1.06    1.03             50.1   \n",
              "4                   0.00               62.5    0.90    0.00             29.3   \n",
              "\n",
              "   Touches Att 3rd  ...  Assists  Key Passes  Passes Penalti Area  \\\n",
              "0            22.30  ...     0.16        1.56                 0.63   \n",
              "1             2.22  ...     0.00        0.00                 0.11   \n",
              "2            36.70  ...     0.00        3.33                 0.00   \n",
              "3            11.30  ...     0.00        0.44                 0.56   \n",
              "4             5.17  ...     0.00        0.57                 0.11   \n",
              "\n",
              "   Crosses Penalti Area  Progressive passes  90s played  Shot on target  npxG  \\\n",
              "0                  0.31                1.41         6.4            0.47  0.19   \n",
              "1                  0.00                3.11         9.0            0.00  0.04   \n",
              "2                  0.00               13.30         0.3            0.00  0.00   \n",
              "3                  0.11                3.00         9.0            0.11  0.03   \n",
              "4                  0.00                2.76         8.7            0.00  0.01   \n",
              "\n",
              "   Nation         Competition  \n",
              "0  us USA  eng Premier League  \n",
              "1  ma MAR          fr Ligue 1  \n",
              "2  fr FRA          fr Ligue 1  \n",
              "3  gh GHA          fr Ligue 1  \n",
              "4  fr FRA          fr Ligue 1  \n",
              "\n",
              "[5 rows x 44 columns]"
            ],
            "text/html": [
              "\n",
              "  <div id=\"df-47cce26e-e436-4ac2-971e-9c5a183a5afa\">\n",
              "    <div class=\"colab-df-container\">\n",
              "      <div>\n",
              "<style scoped>\n",
              "    .dataframe tbody tr th:only-of-type {\n",
              "        vertical-align: middle;\n",
              "    }\n",
              "\n",
              "    .dataframe tbody tr th {\n",
              "        vertical-align: top;\n",
              "    }\n",
              "\n",
              "    .dataframe thead th {\n",
              "        text-align: right;\n",
              "    }\n",
              "</style>\n",
              "<table border=\"1\" class=\"dataframe\">\n",
              "  <thead>\n",
              "    <tr style=\"text-align: right;\">\n",
              "      <th></th>\n",
              "      <th>Rk</th>\n",
              "      <th>Player</th>\n",
              "      <th>Positions</th>\n",
              "      <th>Shot Creating Actions</th>\n",
              "      <th>Goal Creating Actions</th>\n",
              "      <th>Aerial duels Won%</th>\n",
              "      <th>xG/-90</th>\n",
              "      <th>On-Off</th>\n",
              "      <th>Touches Mid 3rd</th>\n",
              "      <th>Touches Att 3rd</th>\n",
              "      <th>...</th>\n",
              "      <th>Assists</th>\n",
              "      <th>Key Passes</th>\n",
              "      <th>Passes Penalti Area</th>\n",
              "      <th>Crosses Penalti Area</th>\n",
              "      <th>Progressive passes</th>\n",
              "      <th>90s played</th>\n",
              "      <th>Shot on target</th>\n",
              "      <th>npxG</th>\n",
              "      <th>Nation</th>\n",
              "      <th>Competition</th>\n",
              "    </tr>\n",
              "  </thead>\n",
              "  <tbody>\n",
              "    <tr>\n",
              "      <th>0</th>\n",
              "      <td>1.0</td>\n",
              "      <td>Brenden Aaronson</td>\n",
              "      <td>MFFW</td>\n",
              "      <td>2.49</td>\n",
              "      <td>0.31</td>\n",
              "      <td>15.0</td>\n",
              "      <td>0.04</td>\n",
              "      <td>0.54</td>\n",
              "      <td>21.4</td>\n",
              "      <td>22.30</td>\n",
              "      <td>...</td>\n",
              "      <td>0.16</td>\n",
              "      <td>1.56</td>\n",
              "      <td>0.63</td>\n",
              "      <td>0.31</td>\n",
              "      <td>1.41</td>\n",
              "      <td>6.4</td>\n",
              "      <td>0.47</td>\n",
              "      <td>0.19</td>\n",
              "      <td>us USA</td>\n",
              "      <td>eng Premier League</td>\n",
              "    </tr>\n",
              "    <tr>\n",
              "      <th>1</th>\n",
              "      <td>2.0</td>\n",
              "      <td>Yunis Abdelhamid</td>\n",
              "      <td>DF</td>\n",
              "      <td>0.44</td>\n",
              "      <td>0.00</td>\n",
              "      <td>73.1</td>\n",
              "      <td>0.00</td>\n",
              "      <td>0.00</td>\n",
              "      <td>22.1</td>\n",
              "      <td>2.22</td>\n",
              "      <td>...</td>\n",
              "      <td>0.00</td>\n",
              "      <td>0.00</td>\n",
              "      <td>0.11</td>\n",
              "      <td>0.00</td>\n",
              "      <td>3.11</td>\n",
              "      <td>9.0</td>\n",
              "      <td>0.00</td>\n",
              "      <td>0.04</td>\n",
              "      <td>ma MAR</td>\n",
              "      <td>fr Ligue 1</td>\n",
              "    </tr>\n",
              "    <tr>\n",
              "      <th>2</th>\n",
              "      <td>3.0</td>\n",
              "      <td>Himad Abdelli</td>\n",
              "      <td>MF</td>\n",
              "      <td>3.33</td>\n",
              "      <td>0.00</td>\n",
              "      <td>0.0</td>\n",
              "      <td>-0.23</td>\n",
              "      <td>0.00</td>\n",
              "      <td>60.0</td>\n",
              "      <td>36.70</td>\n",
              "      <td>...</td>\n",
              "      <td>0.00</td>\n",
              "      <td>3.33</td>\n",
              "      <td>0.00</td>\n",
              "      <td>0.00</td>\n",
              "      <td>13.30</td>\n",
              "      <td>0.3</td>\n",
              "      <td>0.00</td>\n",
              "      <td>0.00</td>\n",
              "      <td>fr FRA</td>\n",
              "      <td>fr Ligue 1</td>\n",
              "    </tr>\n",
              "    <tr>\n",
              "      <th>3</th>\n",
              "      <td>4.0</td>\n",
              "      <td>Salis Abdul Samed</td>\n",
              "      <td>MF</td>\n",
              "      <td>0.89</td>\n",
              "      <td>0.00</td>\n",
              "      <td>36.4</td>\n",
              "      <td>1.06</td>\n",
              "      <td>1.03</td>\n",
              "      <td>50.1</td>\n",
              "      <td>11.30</td>\n",
              "      <td>...</td>\n",
              "      <td>0.00</td>\n",
              "      <td>0.44</td>\n",
              "      <td>0.56</td>\n",
              "      <td>0.11</td>\n",
              "      <td>3.00</td>\n",
              "      <td>9.0</td>\n",
              "      <td>0.11</td>\n",
              "      <td>0.03</td>\n",
              "      <td>gh GHA</td>\n",
              "      <td>fr Ligue 1</td>\n",
              "    </tr>\n",
              "    <tr>\n",
              "      <th>4</th>\n",
              "      <td>5.0</td>\n",
              "      <td>Laurent Abergel</td>\n",
              "      <td>MF</td>\n",
              "      <td>1.15</td>\n",
              "      <td>0.00</td>\n",
              "      <td>62.5</td>\n",
              "      <td>0.90</td>\n",
              "      <td>0.00</td>\n",
              "      <td>29.3</td>\n",
              "      <td>5.17</td>\n",
              "      <td>...</td>\n",
              "      <td>0.00</td>\n",
              "      <td>0.57</td>\n",
              "      <td>0.11</td>\n",
              "      <td>0.00</td>\n",
              "      <td>2.76</td>\n",
              "      <td>8.7</td>\n",
              "      <td>0.00</td>\n",
              "      <td>0.01</td>\n",
              "      <td>fr FRA</td>\n",
              "      <td>fr Ligue 1</td>\n",
              "    </tr>\n",
              "  </tbody>\n",
              "</table>\n",
              "<p>5 rows × 44 columns</p>\n",
              "</div>\n",
              "      <button class=\"colab-df-convert\" onclick=\"convertToInteractive('df-47cce26e-e436-4ac2-971e-9c5a183a5afa')\"\n",
              "              title=\"Convert this dataframe to an interactive table.\"\n",
              "              style=\"display:none;\">\n",
              "        \n",
              "  <svg xmlns=\"http://www.w3.org/2000/svg\" height=\"24px\"viewBox=\"0 0 24 24\"\n",
              "       width=\"24px\">\n",
              "    <path d=\"M0 0h24v24H0V0z\" fill=\"none\"/>\n",
              "    <path d=\"M18.56 5.44l.94 2.06.94-2.06 2.06-.94-2.06-.94-.94-2.06-.94 2.06-2.06.94zm-11 1L8.5 8.5l.94-2.06 2.06-.94-2.06-.94L8.5 2.5l-.94 2.06-2.06.94zm10 10l.94 2.06.94-2.06 2.06-.94-2.06-.94-.94-2.06-.94 2.06-2.06.94z\"/><path d=\"M17.41 7.96l-1.37-1.37c-.4-.4-.92-.59-1.43-.59-.52 0-1.04.2-1.43.59L10.3 9.45l-7.72 7.72c-.78.78-.78 2.05 0 2.83L4 21.41c.39.39.9.59 1.41.59.51 0 1.02-.2 1.41-.59l7.78-7.78 2.81-2.81c.8-.78.8-2.07 0-2.86zM5.41 20L4 18.59l7.72-7.72 1.47 1.35L5.41 20z\"/>\n",
              "  </svg>\n",
              "      </button>\n",
              "      \n",
              "  <style>\n",
              "    .colab-df-container {\n",
              "      display:flex;\n",
              "      flex-wrap:wrap;\n",
              "      gap: 12px;\n",
              "    }\n",
              "\n",
              "    .colab-df-convert {\n",
              "      background-color: #E8F0FE;\n",
              "      border: none;\n",
              "      border-radius: 50%;\n",
              "      cursor: pointer;\n",
              "      display: none;\n",
              "      fill: #1967D2;\n",
              "      height: 32px;\n",
              "      padding: 0 0 0 0;\n",
              "      width: 32px;\n",
              "    }\n",
              "\n",
              "    .colab-df-convert:hover {\n",
              "      background-color: #E2EBFA;\n",
              "      box-shadow: 0px 1px 2px rgba(60, 64, 67, 0.3), 0px 1px 3px 1px rgba(60, 64, 67, 0.15);\n",
              "      fill: #174EA6;\n",
              "    }\n",
              "\n",
              "    [theme=dark] .colab-df-convert {\n",
              "      background-color: #3B4455;\n",
              "      fill: #D2E3FC;\n",
              "    }\n",
              "\n",
              "    [theme=dark] .colab-df-convert:hover {\n",
              "      background-color: #434B5C;\n",
              "      box-shadow: 0px 1px 3px 1px rgba(0, 0, 0, 0.15);\n",
              "      filter: drop-shadow(0px 1px 2px rgba(0, 0, 0, 0.3));\n",
              "      fill: #FFFFFF;\n",
              "    }\n",
              "  </style>\n",
              "\n",
              "      <script>\n",
              "        const buttonEl =\n",
              "          document.querySelector('#df-47cce26e-e436-4ac2-971e-9c5a183a5afa button.colab-df-convert');\n",
              "        buttonEl.style.display =\n",
              "          google.colab.kernel.accessAllowed ? 'block' : 'none';\n",
              "\n",
              "        async function convertToInteractive(key) {\n",
              "          const element = document.querySelector('#df-47cce26e-e436-4ac2-971e-9c5a183a5afa');\n",
              "          const dataTable =\n",
              "            await google.colab.kernel.invokeFunction('convertToInteractive',\n",
              "                                                     [key], {});\n",
              "          if (!dataTable) return;\n",
              "\n",
              "          const docLinkHtml = 'Like what you see? Visit the ' +\n",
              "            '<a target=\"_blank\" href=https://colab.research.google.com/notebooks/data_table.ipynb>data table notebook</a>'\n",
              "            + ' to learn more about interactive tables.';\n",
              "          element.innerHTML = '';\n",
              "          dataTable['output_type'] = 'display_data';\n",
              "          await google.colab.output.renderOutput(dataTable, element);\n",
              "          const docLink = document.createElement('div');\n",
              "          docLink.innerHTML = docLinkHtml;\n",
              "          element.appendChild(docLink);\n",
              "        }\n",
              "      </script>\n",
              "    </div>\n",
              "  </div>\n",
              "  "
            ]
          },
          "metadata": {},
          "execution_count": 26
        }
      ]
    },
    {
      "cell_type": "code",
      "source": [
        "df.info()"
      ],
      "metadata": {
        "colab": {
          "base_uri": "https://localhost:8080/"
        },
        "id": "xFhjvT8evdxE",
        "outputId": "53507caa-f6d5-452e-a26b-89c47b46f219"
      },
      "execution_count": null,
      "outputs": [
        {
          "output_type": "stream",
          "name": "stdout",
          "text": [
            "<class 'pandas.core.frame.DataFrame'>\n",
            "RangeIndex: 2755 entries, 0 to 2754\n",
            "Data columns (total 44 columns):\n",
            " #   Column                                         Non-Null Count  Dtype  \n",
            "---  ------                                         --------------  -----  \n",
            " 0   Rk                                             2755 non-null   float64\n",
            " 1   Player                                         2755 non-null   object \n",
            " 2   Positions                                      2755 non-null   object \n",
            " 3   Shot Creating Actions                          2755 non-null   float64\n",
            " 4   Goal Creating Actions                          2755 non-null   float64\n",
            " 5   Aerial duels Won%                              2755 non-null   float64\n",
            " 6   xG/-90                                         2755 non-null   float64\n",
            " 7   On-Off                                         2755 non-null   float64\n",
            " 8   Touches Mid 3rd                                2755 non-null   float64\n",
            " 9   Touches Att 3rd                                2755 non-null   float64\n",
            " 10  Touches Attacking Area                         2755 non-null   float64\n",
            " 11  Dribbles Succ                                  2755 non-null   float64\n",
            " 12  Success dribble%                               2755 non-null   float64\n",
            " 13  Player dribbled past                           2755 non-null   float64\n",
            " 14  Carries                                        2755 non-null   float64\n",
            " 15  Total Distance                                 2755 non-null   float64\n",
            " 16  Progressive Distance                           2755 non-null   float64\n",
            " 17  Progressive Carries                            2755 non-null   float64\n",
            " 18  Carries into final 3rd                         2755 non-null   float64\n",
            " 19  Carries into Penalti Area                      2755 non-null   float64\n",
            " 20  Progressive passes received                    2755 non-null   float64\n",
            " 21  Tackled dribbled%                              2755 non-null   float64\n",
            " 22  Dribbled Past                                  2755 non-null   float64\n",
            " 23  Sw (+40m width pass)                           2755 non-null   float64\n",
            " 24  Ground passes                                  2755 non-null   float64\n",
            " 25  Low passes                                     2755 non-null   float64\n",
            " 26  High passes                                    2755 non-null   float64\n",
            " 27  Completed passes into space between defenders  2755 non-null   float64\n",
            " 28  Completion total%                              2755 non-null   float64\n",
            " 29  TotDistance                                    2755 non-null   float64\n",
            " 30  PrgDistance                                    2755 non-null   float64\n",
            " 31  Completion short passes%                       2755 non-null   float64\n",
            " 32  Completion medium passes %                     2755 non-null   float64\n",
            " 33  Completion long passes%                        2755 non-null   float64\n",
            " 34  Assists                                        2755 non-null   float64\n",
            " 35  Key Passes                                     2755 non-null   float64\n",
            " 36  Passes Penalti Area                            2755 non-null   float64\n",
            " 37  Crosses Penalti Area                           2755 non-null   float64\n",
            " 38  Progressive passes                             2755 non-null   float64\n",
            " 39  90s played                                     2755 non-null   float64\n",
            " 40  Shot on target                                 2755 non-null   float64\n",
            " 41  npxG                                           2755 non-null   float64\n",
            " 42  Nation                                         2228 non-null   object \n",
            " 43  Competition                                    2229 non-null   object \n",
            "dtypes: float64(40), object(4)\n",
            "memory usage: 947.2+ KB\n"
          ]
        }
      ]
    },
    {
      "cell_type": "markdown",
      "source": [
        "Let's see all the positions names to filter the dataset per position."
      ],
      "metadata": {
        "id": "kYWw4UMob5Ri"
      }
    },
    {
      "cell_type": "code",
      "source": [
        "df['Positions'].unique()"
      ],
      "metadata": {
        "colab": {
          "base_uri": "https://localhost:8080/"
        },
        "id": "2zE2-ZSGSCoc",
        "outputId": "0c581c1b-0150-4a36-993a-dc5bf7ffd207"
      },
      "execution_count": null,
      "outputs": [
        {
          "output_type": "execute_result",
          "data": {
            "text/plain": [
              "array(['MFFW', 'DF', 'MF', 'FWMF', 'FW', 'FWDF', 'DFMF', 'GK', 'DFFW',\n",
              "       'MFDF', '0.0'], dtype=object)"
            ]
          },
          "metadata": {},
          "execution_count": 28
        }
      ]
    },
    {
      "cell_type": "markdown",
      "source": [
        "I want to train the K-means algorithm just for full backs that are classified as DF. The problem is that center backs are classified as DF as well, so I can't filter for just full backs. \n",
        "\n",
        "We will filter the dataset with ('DF','DFFW') positions in order to stay with defenders and more ofensive defenders.   "
      ],
      "metadata": {
        "id": "nQf3MC9ccHQC"
      }
    },
    {
      "cell_type": "code",
      "source": [
        "positions = ['DF','DFFW']"
      ],
      "metadata": {
        "id": "zcvxSoeWQhjK"
      },
      "execution_count": null,
      "outputs": []
    },
    {
      "cell_type": "code",
      "source": [
        "df = df[df['Positions'].isin(positions)]"
      ],
      "metadata": {
        "id": "mLnV0XW3QyaH"
      },
      "execution_count": null,
      "outputs": []
    },
    {
      "cell_type": "markdown",
      "source": [
        "For our clustering, we will consider players with more than 90's played, so let's filter the dataset accordingly."
      ],
      "metadata": {
        "id": "Bir5C7gjeA7z"
      }
    },
    {
      "cell_type": "code",
      "source": [
        "df = df[df['90s played'] >=5]"
      ],
      "metadata": {
        "id": "nez6AX7KQaXb"
      },
      "execution_count": null,
      "outputs": []
    },
    {
      "cell_type": "markdown",
      "source": [
        "To simplify and not get an output with too many players, we will only analyze Premier League players."
      ],
      "metadata": {
        "id": "7JODJfWkfgh5"
      }
    },
    {
      "cell_type": "code",
      "source": [
        "df['Competition'].unique()"
      ],
      "metadata": {
        "colab": {
          "base_uri": "https://localhost:8080/"
        },
        "id": "kIYkTyl0VLKS",
        "outputId": "32d7d713-62ef-4452-9b5a-2b43ec795038"
      },
      "execution_count": null,
      "outputs": [
        {
          "output_type": "execute_result",
          "data": {
            "text/plain": [
              "array(['fr Ligue 1', 'eng Premier League', 'es La Liga', 'it Serie A',\n",
              "       'de Bundesliga'], dtype=object)"
            ]
          },
          "metadata": {},
          "execution_count": 17
        }
      ]
    },
    {
      "cell_type": "markdown",
      "source": [
        "Filtering the dataset by only Premier League players."
      ],
      "metadata": {
        "id": "oczXNroFfx7D"
      }
    },
    {
      "cell_type": "code",
      "source": [
        "df_eng = df[df['Competition'] == 'eng Premier League']"
      ],
      "metadata": {
        "id": "waZs4ytOVGfk"
      },
      "execution_count": null,
      "outputs": []
    },
    {
      "cell_type": "markdown",
      "source": [
        "Next, let's filter the columns that are of interest to us for clustering."
      ],
      "metadata": {
        "id": "SKTu7efcgGUq"
      }
    },
    {
      "cell_type": "code",
      "source": [
        "df_eng = df_eng[['Player','Shot Creating Actions',\n",
        "       'Goal Creating Actions', 'Aerial duels Won%', 'xG/-90', 'On-Off',\n",
        "       'Touches Mid 3rd', 'Touches Att 3rd', 'Touches Attacking Area',\n",
        "       'Dribbles Succ', 'Success dribble%', 'Player dribbled past', 'Carries',\n",
        "       'Total Distance', 'Progressive Distance', 'Progressive Carries',\n",
        "       'Carries into final 3rd', 'Carries into Penalti Area',\n",
        "       'Progressive passes received', 'Tackled dribbled%', 'Dribbled Past',\n",
        "       'Sw (+40m width pass)', 'Ground passes', 'Low passes', 'High passes',\n",
        "       'Completed passes into space between defenders', 'Completion total%',\n",
        "       'TotDistance', 'PrgDistance', 'Completion short passes%',\n",
        "       'Completion medium passes %', 'Completion long passes%', 'Assists',\n",
        "       'Key Passes', 'Passes Penalti Area', 'Crosses Penalti Area',\n",
        "       'Progressive passes', '90s played', 'Shot on target', 'npxG']]"
      ],
      "metadata": {
        "id": "B02l8uNnexvC"
      },
      "execution_count": null,
      "outputs": []
    },
    {
      "cell_type": "markdown",
      "source": [
        "All the metrics that I considered this model are calculated per 90 minutes played.\n",
        "Below we have the name of column of each metric in the dataset and it's definition.\n",
        "\n",
        "*   **'90s played**' - Minutes played divided by 90\n",
        "*   **'TotDistance' -- Total distance** in yards, that completed passes have traveled in any direction\n",
        "\n",
        "*   **'PrgDistance' -- Progressive passing distance** -\n",
        "total distance, in yards, that completed passes have traveled towards the opponent's goal. Note: Passes away from opponent's goal are counted as zero progressive yards.\n",
        "\n",
        "*   **'Key Passes'** - passes that directly lead to a shot (assisted shots)\n",
        "\n",
        "*   **'Passes Penalti Area'** - completed passes into the 18-yard box\n",
        "Not including set pieces\n",
        "\n",
        "*   **'Crosses Penalti Area'** - completed crosses into the 18-yard box\n",
        "Not including set pieces\n",
        "\n",
        "*   **'Progressive Passes'** -\n",
        "completed passes that move the ball towards the opponent's goal at least 10 yards from its furthest point in the last six passes, or any completed pass into the penalty area. Excludes passes from the defending 40% of the pitch\n",
        "\n",
        "*   **'Completed passes into space between defenders'** -- Completed pass sent between back defenders into open space\n",
        "\n",
        "*   **'Sw (+40m width pass)'** -- Passes that travel more than 40 yards of the width of the pitch\n",
        "\n",
        "*   **'Ground passes'**\n",
        "\n",
        "*   **'Low passes'** -- Passes that leave the ground, but stay below shoulder-level\n",
        "\n",
        "*   **'High passes'** -- Passes that are above shoulder-level at the peak height\n",
        "\n",
        "*   **'Assists'**\n",
        "\n",
        "*   **'Progressive passes received'** \n",
        "\n",
        "*   **'Completion Total%' -- Pass Completion Percentage** \n",
        "\n",
        "*   **'Short completion passes %' -- Pass Completion Percentage**,\n",
        " passes between 5 and 15 yards\n",
        "\n",
        "*   **'Medium completion passes %' -- Pass Completion Percentage**,\n",
        " passes between 15 and 30 yards\n",
        "\n",
        "*    **'Long completion passes %' -- Pass Completion Percentage**,\n",
        " passes longer than 30 yards\n",
        "\n",
        "*   **'Aerial duels won%'**\n",
        "\n",
        "*   **'Tackled dribbled%'** -- Percentage of dribblers tackled\n",
        "Dribblers tackled divided by dribblers tackled plus times dribbled past\n",
        "\n",
        "*   **'Dribbled Past'** -- Number of times dribbled past by an opposing player\n",
        "\n",
        "*   **'Touches Mid 3rd'** -- Touches in middle 1/3\n",
        "\n",
        "*   **'Touches Att 3rd'** -- Touches in attacking 1/3\n",
        "\n",
        "*   **'Touches Attacking Area'** -- Touches in attacking penalty area\n",
        "\n",
        "*   **'Dribbles Succ'** -- nº successful dribbles\n",
        "\n",
        "*   **'Success dribble%'** -- Percentage of dribbles completed successfully\n",
        "\n",
        "*   **'Player dribbled past'** -- Number of players dribbled past\n",
        "\n",
        "*   **'Carries'** -- Number of times the player controlled the ball with their feet\n",
        "\n",
        "*   **'Total Distance'** -- Total distance, in yards, a player moved the ball while controlling it with their feet, in any direction\n",
        "\n",
        "*   **'Progressive Distance' --  Carrying progressive distance** -\n",
        "Total distance, in yards, a player moved the ball while controlling it with their feet towards the opponent's goal\n",
        "\n",
        "*   **'Progressive Carries'** -- Carries that move the ball towards the opponent's goal at least 5 yards, or any carry into the penalty area. Excludes carries from the defending 40% of the pitch\n",
        "\n",
        "*   **'Carries into final 3rd'** -- Carries that enter the 1/3 of the pitch closest to the goal\n",
        "\n",
        "*   **'Carries into Penalti Area'** --  Carries into the 18-yard box\n",
        "\n",
        "*    **Shot on target**\n",
        "\n",
        "*   **'npxG'** - non penalty expected goals per 90 minutes played\n",
        "\n",
        "*   **'Shot Creating Actions' -- Goal-Creating Actions** -\n",
        "The two offensive actions directly leading to a goal, such as passes, dribbles and drawing fouls.\n",
        "\n",
        "Note: A single player can receive credit for multiple actions and the shot-taker can also receive credit.\n",
        "\n",
        "*   **'Goal Creating Actions'** - similar to the previous metrics but for goal situations\n",
        "\n",
        "*   **'On-Off' -- xG Plus/Minus Net** -\n",
        "Net expected goals per 90 minutes by the team while the player was on the pitch minus net expected goals per 90 minutes by the team while the player was off the pitch.\n",
        "\n",
        "*   **xG+/-90 -- xG Plus/Minus** - \n",
        "Expected goals scored minus expected goals allowed by the team while the player was on the pitch per 90 minutes played.\n",
        "\n",
        "\n"
      ],
      "metadata": {
        "id": "hEQ68NMKI_Xx"
      }
    },
    {
      "cell_type": "code",
      "source": [
        "# info about premier league dataset\n",
        "df_eng.info()"
      ],
      "metadata": {
        "colab": {
          "base_uri": "https://localhost:8080/"
        },
        "id": "R1AYoCv7R7jp",
        "outputId": "a2cd870a-5f07-4a74-bd94-92f630622cee"
      },
      "execution_count": null,
      "outputs": [
        {
          "output_type": "stream",
          "name": "stdout",
          "text": [
            "<class 'pandas.core.frame.DataFrame'>\n",
            "Int64Index: 71 entries, 14 to 2225\n",
            "Data columns (total 40 columns):\n",
            " #   Column                                         Non-Null Count  Dtype  \n",
            "---  ------                                         --------------  -----  \n",
            " 0   Player                                         71 non-null     object \n",
            " 1   Shot Creating Actions                          71 non-null     float64\n",
            " 2   Goal Creating Actions                          71 non-null     float64\n",
            " 3   Aerial duels Won%                              71 non-null     float64\n",
            " 4   xG/-90                                         71 non-null     float64\n",
            " 5   On-Off                                         71 non-null     float64\n",
            " 6   Touches Mid 3rd                                71 non-null     float64\n",
            " 7   Touches Att 3rd                                71 non-null     float64\n",
            " 8   Touches Attacking Area                         71 non-null     float64\n",
            " 9   Dribbles Succ                                  71 non-null     float64\n",
            " 10  Success dribble%                               71 non-null     float64\n",
            " 11  Player dribbled past                           71 non-null     float64\n",
            " 12  Carries                                        71 non-null     float64\n",
            " 13  Total Distance                                 71 non-null     float64\n",
            " 14  Progressive Distance                           71 non-null     float64\n",
            " 15  Progressive Carries                            71 non-null     float64\n",
            " 16  Carries into final 3rd                         71 non-null     float64\n",
            " 17  Carries into Penalti Area                      71 non-null     float64\n",
            " 18  Progressive passes received                    71 non-null     float64\n",
            " 19  Tackled dribbled%                              71 non-null     float64\n",
            " 20  Dribbled Past                                  71 non-null     float64\n",
            " 21  Sw (+40m width pass)                           71 non-null     float64\n",
            " 22  Ground passes                                  71 non-null     float64\n",
            " 23  Low passes                                     71 non-null     float64\n",
            " 24  High passes                                    71 non-null     float64\n",
            " 25  Completed passes into space between defenders  71 non-null     float64\n",
            " 26  Completion total%                              71 non-null     float64\n",
            " 27  TotDistance                                    71 non-null     float64\n",
            " 28  PrgDistance                                    71 non-null     float64\n",
            " 29  Completion short passes%                       71 non-null     float64\n",
            " 30  Completion medium passes %                     71 non-null     float64\n",
            " 31  Completion long passes%                        71 non-null     float64\n",
            " 32  Assists                                        71 non-null     float64\n",
            " 33  Key Passes                                     71 non-null     float64\n",
            " 34  Passes Penalti Area                            71 non-null     float64\n",
            " 35  Crosses Penalti Area                           71 non-null     float64\n",
            " 36  Progressive passes                             71 non-null     float64\n",
            " 37  90s played                                     71 non-null     float64\n",
            " 38  Shot on target                                 71 non-null     float64\n",
            " 39  npxG                                           71 non-null     float64\n",
            "dtypes: float64(39), object(1)\n",
            "memory usage: 22.7+ KB\n"
          ]
        }
      ]
    },
    {
      "cell_type": "markdown",
      "source": [
        "Let's check if we have invalid values."
      ],
      "metadata": {
        "id": "p5YSMQiQjD0B"
      }
    },
    {
      "cell_type": "code",
      "source": [
        "pd.set_option('display.max_rows', 80)\n",
        "df_eng.isnull().sum()"
      ],
      "metadata": {
        "colab": {
          "base_uri": "https://localhost:8080/"
        },
        "id": "ihi9PYI-VdO0",
        "outputId": "0bb01751-9a09-4824-be85-db927933b3f9"
      },
      "execution_count": null,
      "outputs": [
        {
          "output_type": "execute_result",
          "data": {
            "text/plain": [
              "Player                                           0\n",
              "Shot Creating Actions                            0\n",
              "Goal Creating Actions                            0\n",
              "Aerial duels Won%                                0\n",
              "xG/-90                                           0\n",
              "On-Off                                           0\n",
              "Touches Mid 3rd                                  0\n",
              "Touches Att 3rd                                  0\n",
              "Touches Attacking Area                           0\n",
              "Dribbles Succ                                    0\n",
              "Success dribble%                                 0\n",
              "Player dribbled past                             0\n",
              "Carries                                          0\n",
              "Total Distance                                   0\n",
              "Progressive Distance                             0\n",
              "Progressive Carries                              0\n",
              "Carries into final 3rd                           0\n",
              "Carries into Penalti Area                        0\n",
              "Progressive passes received                      0\n",
              "Tackled dribbled%                                0\n",
              "Dribbled Past                                    0\n",
              "Sw (+40m width pass)                             0\n",
              "Ground passes                                    0\n",
              "Low passes                                       0\n",
              "High passes                                      0\n",
              "Completed passes into space between defenders    0\n",
              "Completion total%                                0\n",
              "TotDistance                                      0\n",
              "PrgDistance                                      0\n",
              "Completion short passes%                         0\n",
              "Completion medium passes %                       0\n",
              "Completion long passes%                          0\n",
              "Assists                                          0\n",
              "Key Passes                                       0\n",
              "Passes Penalti Area                              0\n",
              "Crosses Penalti Area                             0\n",
              "Progressive passes                               0\n",
              "90s played                                       0\n",
              "Shot on target                                   0\n",
              "npxG                                             0\n",
              "dtype: int64"
            ]
          },
          "metadata": {},
          "execution_count": 35
        }
      ]
    },
    {
      "cell_type": "markdown",
      "source": [
        "Copy of df_eng"
      ],
      "metadata": {
        "id": "OGojG6EIzdgS"
      }
    },
    {
      "cell_type": "code",
      "source": [
        "df_3d = df_eng.copy()"
      ],
      "metadata": {
        "id": "kl3zEWPwzWIK"
      },
      "execution_count": null,
      "outputs": []
    },
    {
      "cell_type": "markdown",
      "source": [
        "Remove player identifiers and normalize our data with Min Max."
      ],
      "metadata": {
        "id": "zq2EyUNbjiTg"
      }
    },
    {
      "cell_type": "code",
      "source": [
        "from sklearn import preprocessing\n",
        "\n",
        "player_names = df_eng['Player'].tolist() \n",
        "\n",
        "df_eng = df_eng.drop(['Player'], axis = 1) \n",
        "\n",
        "x = df_eng.values \n",
        "scaler = preprocessing.MinMaxScaler()\n",
        "x_scaled = scaler.fit_transform(x)\n",
        "X_norm = pd.DataFrame(x_scaled)"
      ],
      "metadata": {
        "id": "uu9Ln_hpVnlw"
      },
      "execution_count": null,
      "outputs": []
    },
    {
      "cell_type": "markdown",
      "source": [
        "We use PCA here as a way to reduce our dimensions. Let's scale it down to 2 dimensions so we can see the data in a 2D plot with the K-means results."
      ],
      "metadata": {
        "id": "OmxHzuLJkAKg"
      }
    },
    {
      "cell_type": "code",
      "source": [
        "from sklearn.decomposition import PCA\n",
        "\n",
        "pca = PCA(n_components = 2)\n",
        "reduced = pd.DataFrame(pca.fit_transform(X_norm))\n",
        "reduced.head()"
      ],
      "metadata": {
        "colab": {
          "base_uri": "https://localhost:8080/",
          "height": 206
        },
        "id": "97tuCjuQXmx2",
        "outputId": "5b9b2427-034d-4cdb-af4c-7984f9cde7a2"
      },
      "execution_count": null,
      "outputs": [
        {
          "output_type": "execute_result",
          "data": {
            "text/plain": [
              "          0         1\n",
              "0 -0.639051 -0.338125\n",
              "1  1.145303  0.432487\n",
              "2  1.749324  1.003704\n",
              "3 -0.534441  0.036560\n",
              "4 -0.293951 -0.378632"
            ],
            "text/html": [
              "\n",
              "  <div id=\"df-87b196db-1572-49b1-9412-8b4d3808712d\">\n",
              "    <div class=\"colab-df-container\">\n",
              "      <div>\n",
              "<style scoped>\n",
              "    .dataframe tbody tr th:only-of-type {\n",
              "        vertical-align: middle;\n",
              "    }\n",
              "\n",
              "    .dataframe tbody tr th {\n",
              "        vertical-align: top;\n",
              "    }\n",
              "\n",
              "    .dataframe thead th {\n",
              "        text-align: right;\n",
              "    }\n",
              "</style>\n",
              "<table border=\"1\" class=\"dataframe\">\n",
              "  <thead>\n",
              "    <tr style=\"text-align: right;\">\n",
              "      <th></th>\n",
              "      <th>0</th>\n",
              "      <th>1</th>\n",
              "    </tr>\n",
              "  </thead>\n",
              "  <tbody>\n",
              "    <tr>\n",
              "      <th>0</th>\n",
              "      <td>-0.639051</td>\n",
              "      <td>-0.338125</td>\n",
              "    </tr>\n",
              "    <tr>\n",
              "      <th>1</th>\n",
              "      <td>1.145303</td>\n",
              "      <td>0.432487</td>\n",
              "    </tr>\n",
              "    <tr>\n",
              "      <th>2</th>\n",
              "      <td>1.749324</td>\n",
              "      <td>1.003704</td>\n",
              "    </tr>\n",
              "    <tr>\n",
              "      <th>3</th>\n",
              "      <td>-0.534441</td>\n",
              "      <td>0.036560</td>\n",
              "    </tr>\n",
              "    <tr>\n",
              "      <th>4</th>\n",
              "      <td>-0.293951</td>\n",
              "      <td>-0.378632</td>\n",
              "    </tr>\n",
              "  </tbody>\n",
              "</table>\n",
              "</div>\n",
              "      <button class=\"colab-df-convert\" onclick=\"convertToInteractive('df-87b196db-1572-49b1-9412-8b4d3808712d')\"\n",
              "              title=\"Convert this dataframe to an interactive table.\"\n",
              "              style=\"display:none;\">\n",
              "        \n",
              "  <svg xmlns=\"http://www.w3.org/2000/svg\" height=\"24px\"viewBox=\"0 0 24 24\"\n",
              "       width=\"24px\">\n",
              "    <path d=\"M0 0h24v24H0V0z\" fill=\"none\"/>\n",
              "    <path d=\"M18.56 5.44l.94 2.06.94-2.06 2.06-.94-2.06-.94-.94-2.06-.94 2.06-2.06.94zm-11 1L8.5 8.5l.94-2.06 2.06-.94-2.06-.94L8.5 2.5l-.94 2.06-2.06.94zm10 10l.94 2.06.94-2.06 2.06-.94-2.06-.94-.94-2.06-.94 2.06-2.06.94z\"/><path d=\"M17.41 7.96l-1.37-1.37c-.4-.4-.92-.59-1.43-.59-.52 0-1.04.2-1.43.59L10.3 9.45l-7.72 7.72c-.78.78-.78 2.05 0 2.83L4 21.41c.39.39.9.59 1.41.59.51 0 1.02-.2 1.41-.59l7.78-7.78 2.81-2.81c.8-.78.8-2.07 0-2.86zM5.41 20L4 18.59l7.72-7.72 1.47 1.35L5.41 20z\"/>\n",
              "  </svg>\n",
              "      </button>\n",
              "      \n",
              "  <style>\n",
              "    .colab-df-container {\n",
              "      display:flex;\n",
              "      flex-wrap:wrap;\n",
              "      gap: 12px;\n",
              "    }\n",
              "\n",
              "    .colab-df-convert {\n",
              "      background-color: #E8F0FE;\n",
              "      border: none;\n",
              "      border-radius: 50%;\n",
              "      cursor: pointer;\n",
              "      display: none;\n",
              "      fill: #1967D2;\n",
              "      height: 32px;\n",
              "      padding: 0 0 0 0;\n",
              "      width: 32px;\n",
              "    }\n",
              "\n",
              "    .colab-df-convert:hover {\n",
              "      background-color: #E2EBFA;\n",
              "      box-shadow: 0px 1px 2px rgba(60, 64, 67, 0.3), 0px 1px 3px 1px rgba(60, 64, 67, 0.15);\n",
              "      fill: #174EA6;\n",
              "    }\n",
              "\n",
              "    [theme=dark] .colab-df-convert {\n",
              "      background-color: #3B4455;\n",
              "      fill: #D2E3FC;\n",
              "    }\n",
              "\n",
              "    [theme=dark] .colab-df-convert:hover {\n",
              "      background-color: #434B5C;\n",
              "      box-shadow: 0px 1px 3px 1px rgba(0, 0, 0, 0.15);\n",
              "      filter: drop-shadow(0px 1px 2px rgba(0, 0, 0, 0.3));\n",
              "      fill: #FFFFFF;\n",
              "    }\n",
              "  </style>\n",
              "\n",
              "      <script>\n",
              "        const buttonEl =\n",
              "          document.querySelector('#df-87b196db-1572-49b1-9412-8b4d3808712d button.colab-df-convert');\n",
              "        buttonEl.style.display =\n",
              "          google.colab.kernel.accessAllowed ? 'block' : 'none';\n",
              "\n",
              "        async function convertToInteractive(key) {\n",
              "          const element = document.querySelector('#df-87b196db-1572-49b1-9412-8b4d3808712d');\n",
              "          const dataTable =\n",
              "            await google.colab.kernel.invokeFunction('convertToInteractive',\n",
              "                                                     [key], {});\n",
              "          if (!dataTable) return;\n",
              "\n",
              "          const docLinkHtml = 'Like what you see? Visit the ' +\n",
              "            '<a target=\"_blank\" href=https://colab.research.google.com/notebooks/data_table.ipynb>data table notebook</a>'\n",
              "            + ' to learn more about interactive tables.';\n",
              "          element.innerHTML = '';\n",
              "          dataTable['output_type'] = 'display_data';\n",
              "          await google.colab.output.renderOutput(dataTable, element);\n",
              "          const docLink = document.createElement('div');\n",
              "          docLink.innerHTML = docLinkHtml;\n",
              "          element.appendChild(docLink);\n",
              "        }\n",
              "      </script>\n",
              "    </div>\n",
              "  </div>\n",
              "  "
            ]
          },
          "metadata": {},
          "execution_count": 38
        }
      ]
    },
    {
      "cell_type": "markdown",
      "source": [
        "Now that we've reduced the dimensions using PCA, we can plot our players and look for relationships in a 2D analysis.\n",
        "\n",
        "However, this plot is just a plot of similarity between players since PC 1 and PC 2 are not useful variables for a technical team or a scouting team.\n",
        "\n",
        "Now that we have a 2D similarity metric, we can apply K-means to create the similarity clusters but first we need to know how many clusters we want."
      ],
      "metadata": {
        "id": "1ZMxBcV2kc4f"
      }
    },
    {
      "cell_type": "markdown",
      "source": [
        "To know the adequate number of clusters ($K$) we use a method **called elbow**, applied below.\n",
        "We then create a loop that will train 11 K-means models (for different $K$'s) and remove **WCSS** for each of the trainings.\n",
        "\n",
        "WCSS is defined as the sum of the squared distance between each member of the cluster and its centroid."
      ],
      "metadata": {
        "id": "Vr1VyixTok7q"
      }
    },
    {
      "cell_type": "code",
      "source": [
        "from sklearn.cluster import KMeans\n",
        "\n",
        "wcss = [] \n",
        "for i in range(1, 11): \n",
        "    kmeans = KMeans(n_clusters = i, init = 'k-means++', random_state = 42)\n",
        "    kmeans.fit(reduced) \n",
        "    wcss.append(kmeans.inertia_)\n",
        "\n",
        "plt.plot(range(1, 11), wcss)\n",
        "plt.xlabel('Numero de clusters (K)')\n",
        "plt.ylabel('WCSS') "
      ],
      "metadata": {
        "colab": {
          "base_uri": "https://localhost:8080/",
          "height": 296
        },
        "id": "IGsV8oDhX_wD",
        "outputId": "d27c5c43-4b48-4118-833a-06dfc863ee68"
      },
      "execution_count": null,
      "outputs": [
        {
          "output_type": "execute_result",
          "data": {
            "text/plain": [
              "Text(0, 0.5, 'WCSS')"
            ]
          },
          "metadata": {},
          "execution_count": 39
        },
        {
          "output_type": "display_data",
          "data": {
            "text/plain": [
              "<Figure size 432x288 with 1 Axes>"
            ],
            "image/png": "[encoded data removed]"
          },
          "metadata": {
            "needs_background": "light"
          }
        }
      ]
    },
    {
      "cell_type": "markdown",
      "source": [
        "By the elbow method, we consider it $K=6$ (as the elbow of our WCSS graph) as it is perhaps the value of from which WCSS stops dropping so fast.\n",
        "\n",
        "So let's train a k-means for $K=6$ and see how it behaves."
      ],
      "metadata": {
        "id": "Xd_2Nl15kr56"
      }
    },
    {
      "cell_type": "code",
      "source": [
        "from sklearn.cluster import KMeans\n",
        "\n",
        "kmeans = KMeans(n_clusters=6)\n",
        "kmeans = kmeans.fit(reduced)\n",
        "\n",
        "labels = kmeans.predict(reduced)\n",
        "clusters = kmeans.labels_.tolist()"
      ],
      "metadata": {
        "id": "MB9uHkxGYC7J"
      },
      "execution_count": null,
      "outputs": []
    },
    {
      "cell_type": "markdown",
      "source": [
        "After training and after using the trained model, each player in the dataset now has a number from 0 to 5 that represents their set.\n",
        "Let's put this information in our reduced dataset and then plot it with the results of K-means."
      ],
      "metadata": {
        "id": "6kZKEuZikxzS"
      }
    },
    {
      "cell_type": "code",
      "source": [
        "reduced['cluster'] = clusters\n",
        "reduced['name'] = player_names\n",
        "reduced.columns = ['x', 'y', 'cluster', 'name']\n",
        "reduced.head()"
      ],
      "metadata": {
        "colab": {
          "base_uri": "https://localhost:8080/",
          "height": 206
        },
        "id": "n8igdtTEYWao",
        "outputId": "e30aaae9-9994-456e-81aa-67484aca086a"
      },
      "execution_count": null,
      "outputs": [
        {
          "output_type": "execute_result",
          "data": {
            "text/plain": [
              "          x         y  cluster                    name\n",
              "0 -0.639051 -0.338125        5        Tosin Adarabioyo\n",
              "1  1.145303  0.432487        3         Rayan Aït Nouri\n",
              "2  1.749324  1.003704        3  Trent Alexander-Arnold\n",
              "3 -0.534441  0.036560        5        Joachim Andersen\n",
              "4 -0.293951 -0.378632        5     Armel Bella Kotchap"
            ],
            "text/html": [
              "\n",
              "  <div id=\"df-58abd9f8-4889-4d11-a4a5-f83a3e9ad3b4\">\n",
              "    <div class=\"colab-df-container\">\n",
              "      <div>\n",
              "<style scoped>\n",
              "    .dataframe tbody tr th:only-of-type {\n",
              "        vertical-align: middle;\n",
              "    }\n",
              "\n",
              "    .dataframe tbody tr th {\n",
              "        vertical-align: top;\n",
              "    }\n",
              "\n",
              "    .dataframe thead th {\n",
              "        text-align: right;\n",
              "    }\n",
              "</style>\n",
              "<table border=\"1\" class=\"dataframe\">\n",
              "  <thead>\n",
              "    <tr style=\"text-align: right;\">\n",
              "      <th></th>\n",
              "      <th>x</th>\n",
              "      <th>y</th>\n",
              "      <th>cluster</th>\n",
              "      <th>name</th>\n",
              "    </tr>\n",
              "  </thead>\n",
              "  <tbody>\n",
              "    <tr>\n",
              "      <th>0</th>\n",
              "      <td>-0.639051</td>\n",
              "      <td>-0.338125</td>\n",
              "      <td>5</td>\n",
              "      <td>Tosin Adarabioyo</td>\n",
              "    </tr>\n",
              "    <tr>\n",
              "      <th>1</th>\n",
              "      <td>1.145303</td>\n",
              "      <td>0.432487</td>\n",
              "      <td>3</td>\n",
              "      <td>Rayan Aït Nouri</td>\n",
              "    </tr>\n",
              "    <tr>\n",
              "      <th>2</th>\n",
              "      <td>1.749324</td>\n",
              "      <td>1.003704</td>\n",
              "      <td>3</td>\n",
              "      <td>Trent Alexander-Arnold</td>\n",
              "    </tr>\n",
              "    <tr>\n",
              "      <th>3</th>\n",
              "      <td>-0.534441</td>\n",
              "      <td>0.036560</td>\n",
              "      <td>5</td>\n",
              "      <td>Joachim Andersen</td>\n",
              "    </tr>\n",
              "    <tr>\n",
              "      <th>4</th>\n",
              "      <td>-0.293951</td>\n",
              "      <td>-0.378632</td>\n",
              "      <td>5</td>\n",
              "      <td>Armel Bella Kotchap</td>\n",
              "    </tr>\n",
              "  </tbody>\n",
              "</table>\n",
              "</div>\n",
              "      <button class=\"colab-df-convert\" onclick=\"convertToInteractive('df-58abd9f8-4889-4d11-a4a5-f83a3e9ad3b4')\"\n",
              "              title=\"Convert this dataframe to an interactive table.\"\n",
              "              style=\"display:none;\">\n",
              "        \n",
              "  <svg xmlns=\"http://www.w3.org/2000/svg\" height=\"24px\"viewBox=\"0 0 24 24\"\n",
              "       width=\"24px\">\n",
              "    <path d=\"M0 0h24v24H0V0z\" fill=\"none\"/>\n",
              "    <path d=\"M18.56 5.44l.94 2.06.94-2.06 2.06-.94-2.06-.94-.94-2.06-.94 2.06-2.06.94zm-11 1L8.5 8.5l.94-2.06 2.06-.94-2.06-.94L8.5 2.5l-.94 2.06-2.06.94zm10 10l.94 2.06.94-2.06 2.06-.94-2.06-.94-.94-2.06-.94 2.06-2.06.94z\"/><path d=\"M17.41 7.96l-1.37-1.37c-.4-.4-.92-.59-1.43-.59-.52 0-1.04.2-1.43.59L10.3 9.45l-7.72 7.72c-.78.78-.78 2.05 0 2.83L4 21.41c.39.39.9.59 1.41.59.51 0 1.02-.2 1.41-.59l7.78-7.78 2.81-2.81c.8-.78.8-2.07 0-2.86zM5.41 20L4 18.59l7.72-7.72 1.47 1.35L5.41 20z\"/>\n",
              "  </svg>\n",
              "      </button>\n",
              "      \n",
              "  <style>\n",
              "    .colab-df-container {\n",
              "      display:flex;\n",
              "      flex-wrap:wrap;\n",
              "      gap: 12px;\n",
              "    }\n",
              "\n",
              "    .colab-df-convert {\n",
              "      background-color: #E8F0FE;\n",
              "      border: none;\n",
              "      border-radius: 50%;\n",
              "      cursor: pointer;\n",
              "      display: none;\n",
              "      fill: #1967D2;\n",
              "      height: 32px;\n",
              "      padding: 0 0 0 0;\n",
              "      width: 32px;\n",
              "    }\n",
              "\n",
              "    .colab-df-convert:hover {\n",
              "      background-color: #E2EBFA;\n",
              "      box-shadow: 0px 1px 2px rgba(60, 64, 67, 0.3), 0px 1px 3px 1px rgba(60, 64, 67, 0.15);\n",
              "      fill: #174EA6;\n",
              "    }\n",
              "\n",
              "    [theme=dark] .colab-df-convert {\n",
              "      background-color: #3B4455;\n",
              "      fill: #D2E3FC;\n",
              "    }\n",
              "\n",
              "    [theme=dark] .colab-df-convert:hover {\n",
              "      background-color: #434B5C;\n",
              "      box-shadow: 0px 1px 3px 1px rgba(0, 0, 0, 0.15);\n",
              "      filter: drop-shadow(0px 1px 2px rgba(0, 0, 0, 0.3));\n",
              "      fill: #FFFFFF;\n",
              "    }\n",
              "  </style>\n",
              "\n",
              "      <script>\n",
              "        const buttonEl =\n",
              "          document.querySelector('#df-58abd9f8-4889-4d11-a4a5-f83a3e9ad3b4 button.colab-df-convert');\n",
              "        buttonEl.style.display =\n",
              "          google.colab.kernel.accessAllowed ? 'block' : 'none';\n",
              "\n",
              "        async function convertToInteractive(key) {\n",
              "          const element = document.querySelector('#df-58abd9f8-4889-4d11-a4a5-f83a3e9ad3b4');\n",
              "          const dataTable =\n",
              "            await google.colab.kernel.invokeFunction('convertToInteractive',\n",
              "                                                     [key], {});\n",
              "          if (!dataTable) return;\n",
              "\n",
              "          const docLinkHtml = 'Like what you see? Visit the ' +\n",
              "            '<a target=\"_blank\" href=https://colab.research.google.com/notebooks/data_table.ipynb>data table notebook</a>'\n",
              "            + ' to learn more about interactive tables.';\n",
              "          element.innerHTML = '';\n",
              "          dataTable['output_type'] = 'display_data';\n",
              "          await google.colab.output.renderOutput(dataTable, element);\n",
              "          const docLink = document.createElement('div');\n",
              "          docLink.innerHTML = docLinkHtml;\n",
              "          element.appendChild(docLink);\n",
              "        }\n",
              "      </script>\n",
              "    </div>\n",
              "  </div>\n",
              "  "
            ]
          },
          "metadata": {},
          "execution_count": 41
        }
      ]
    },
    {
      "cell_type": "markdown",
      "source": [
        "In this plot, each color represents a cluster. Now, it is part of our job to analyze the clusters and discover what these players have in common to be in the same cluster."
      ],
      "metadata": {
        "id": "7jB0MtZQk7vd"
      }
    },
    {
      "cell_type": "code",
      "source": [
        "import matplotlib.pyplot as plt\n",
        "import seaborn as sns\n",
        "%matplotlib inline\n",
        "\n",
        "sns.set(style=\"white\")\n",
        "\n",
        "ax = sns.lmplot(x=\"x\", y=\"y\", hue='cluster', data = reduced, legend=False,\n",
        "                   fit_reg=False, size = 15, scatter_kws={\"s\": 250})\n",
        "\n",
        "texts = []\n",
        "for x, y, s in zip(reduced.x, reduced.y, reduced.name):\n",
        "    texts.append(plt.text(x, y, s,fontweight='heavy'))\n",
        "\n",
        "ax.set(ylim=(-2, 2))\n",
        "plt.tick_params(labelsize=15)\n",
        "plt.xlabel(\"PC 1\", fontsize = 20)\n",
        "plt.ylabel(\"PC 2\", fontsize = 20)\n",
        "plt.title('KMeans clustering - Defenders',size=25,weight='heavy')\n",
        "\n",
        "s =\"@ricardoandreom\\n\"\n",
        "date = datetime.today()\n",
        "d = str(date.strftime('%Y-%m-%d'))\n",
        "plt.text(-1.1,-2.3, s, fontdict=None, fontsize=12, fontweight='heavy')\n",
        "plt.text(-1.1,-2.35, d, fontdict=None, fontsize=12, fontweight='heavy')\n",
        "date = datetime.today()\n",
        "\n",
        "plt.tight_layout()\n"
      ],
      "metadata": {
        "colab": {
          "base_uri": "https://localhost:8080/",
          "height": 920
        },
        "id": "b0_ELX0hYf4B",
        "outputId": "6b5bbedb-74b4-4c37-f132-d852aa143c8d"
      },
      "execution_count": null,
      "outputs": [
        {
          "output_type": "stream",
          "name": "stderr",
          "text": [
            "/usr/local/lib/python3.7/dist-packages/seaborn/regression.py:581: UserWarning: The `size` parameter has been renamed to `height`; please update your code.\n",
            "  warnings.warn(msg, UserWarning)\n"
          ]
        },
        {
          "output_type": "display_data",
          "data": {
            "text/plain": [
              "<Figure size 1080x1080 with 1 Axes>"
            ],
            "image/png": "[encoded data removed]"
          },
          "metadata": {}
        }
      ]
    },
    {
      "cell_type": "markdown",
      "source": [
        "**Cluster 5**"
      ],
      "metadata": {
        "id": "lJGrjAONp_jQ"
      }
    },
    {
      "cell_type": "markdown",
      "source": [
        "It's always a personal opinion, but in this cluster are the best full backs in the Premier League in this start of the season.\n",
        "\n",
        "*   Ofensive, progressive and very good technical players\n",
        "\n"
      ],
      "metadata": {
        "id": "RAOCw0iNq1jJ"
      }
    },
    {
      "cell_type": "code",
      "source": [
        "reduced[reduced[\"cluster\"]==5]['name']"
      ],
      "metadata": {
        "colab": {
          "base_uri": "https://localhost:8080/"
        },
        "id": "XdVn7KO1hh2O",
        "outputId": "3c23739b-5941-4a97-b031-1702a68e97d9"
      },
      "execution_count": null,
      "outputs": [
        {
          "output_type": "execute_result",
          "data": {
            "text/plain": [
              "1            Rayan Aït Nouri\n",
              "2     Trent Alexander-Arnold\n",
              "7               João Cancelo\n",
              "15            Marc Cucurella\n",
              "28               Reece James\n",
              "59          Leandro Trossard\n",
              "Name: name, dtype: object"
            ]
          },
          "metadata": {},
          "execution_count": 75
        }
      ]
    },
    {
      "cell_type": "markdown",
      "source": [
        "**Cluster 4**"
      ],
      "metadata": {
        "id": "-_MsW_FfqJv-"
      }
    },
    {
      "cell_type": "code",
      "source": [
        "reduced[reduced[\"cluster\"]==4]['name']"
      ],
      "metadata": {
        "colab": {
          "base_uri": "https://localhost:8080/"
        },
        "id": "a3zI0X43qF1A",
        "outputId": "a5994862-a892-4923-a031-4a6e22e12c5d"
      },
      "execution_count": null,
      "outputs": [
        {
          "output_type": "execute_result",
          "data": {
            "text/plain": [
              "17         Rúben Dias\n",
              "52       Thiago Silva\n",
              "54        John Stones\n",
              "60    Virgil van Dijk\n",
              "62        Kyle Walker\n",
              "Name: name, dtype: object"
            ]
          },
          "metadata": {},
          "execution_count": 76
        }
      ]
    },
    {
      "cell_type": "markdown",
      "source": [
        "This clusters is clearly representing a small set of the top center backs in the league, maybe it's missing some of them.\n",
        "\n",
        "Personally I'd expect to see Saliba in this cluster.\n",
        "\n",
        "Interestingly, Kyle walker, who is still a full-back is in this cluster. However Guardiola over the years has converted him in more of a center back, occupying this role several times."
      ],
      "metadata": {
        "id": "Z2pZ8f5Qrg_4"
      }
    },
    {
      "cell_type": "markdown",
      "source": [
        "**Cluster 0**\n",
        "\n",
        "**Above average performing full backs**"
      ],
      "metadata": {
        "id": "7hvGsqVsqeL0"
      }
    },
    {
      "cell_type": "code",
      "source": [
        "reduced[reduced[\"cluster\"]==0]['name']"
      ],
      "metadata": {
        "colab": {
          "base_uri": "https://localhost:8080/"
        },
        "id": "BmwrzM8gqmyf",
        "outputId": "83cde23c-f24a-410c-da10-95516497c3ae"
      },
      "execution_count": null,
      "outputs": [
        {
          "output_type": "execute_result",
          "data": {
            "text/plain": [
              "8             Matty Cash\n",
              "9       Timothy Castagne\n",
              "10          Jonny Castro\n",
              "16           Diogo Dalot\n",
              "19           Lucas Digne\n",
              "20        Moussa Djenepo\n",
              "23               Emerson\n",
              "30          James Justin\n",
              "55        Pascal Struijk\n",
              "58       Kieran Trippier\n",
              "63    Kyle Walker-Peters\n",
              "66             Ben White\n",
              "67         Neco Williams\n",
              "Name: name, dtype: object"
            ]
          },
          "metadata": {},
          "execution_count": 79
        }
      ]
    },
    {
      "cell_type": "markdown",
      "source": [
        "**Cluster 3**"
      ],
      "metadata": {
        "id": "vihQOt8bqN6u"
      }
    },
    {
      "cell_type": "code",
      "source": [
        "reduced[reduced[\"cluster\"]==3]['name']"
      ],
      "metadata": {
        "colab": {
          "base_uri": "https://localhost:8080/"
        },
        "id": "qEQPnNeAqPdg",
        "outputId": "5c7682f1-d224-435e-e2cd-b8c8b50cd96e"
      },
      "execution_count": null,
      "outputs": [
        {
          "output_type": "execute_result",
          "data": {
            "text/plain": [
              "13      Vladimír Coufal\n",
              "14      Aaron Cresswell\n",
              "26           Rico Henry\n",
              "27         Aaron Hickey\n",
              "37       Tyrell Malacia\n",
              "43      Tyrick Mitchell\n",
              "44    Vitaliy Mykolenko\n",
              "45        Rasmus Nissen\n",
              "46     Nathan Patterson\n",
              "48     Antonee Robinson\n",
              "53           Adam Smith\n",
              "57           Kenny Tete\n",
              "69        Jordan Zemura\n",
              "Name: name, dtype: object"
            ]
          },
          "metadata": {},
          "execution_count": 77
        }
      ]
    },
    {
      "cell_type": "markdown",
      "source": [
        "**Cluster 2**"
      ],
      "metadata": {
        "id": "h2bqLSNFqW7u"
      }
    },
    {
      "cell_type": "code",
      "source": [
        "reduced[reduced[\"cluster\"]==2]['name']"
      ],
      "metadata": {
        "colab": {
          "base_uri": "https://localhost:8080/"
        },
        "id": "qBLrxT8xqUIG",
        "outputId": "ed568d76-d9f2-4479-efb1-fae73d96dcb4"
      },
      "execution_count": null,
      "outputs": [
        {
          "output_type": "execute_result",
          "data": {
            "text/plain": [
              "0        Tosin Adarabioyo\n",
              "4     Armel Bella Kotchap\n",
              "6                Dan Burn\n",
              "11            Conor Coady\n",
              "25             Marc Guéhi\n",
              "29         Pontus Jansson\n",
              "31           Thilo Kehrer\n",
              "32            Lloyd Kelly\n",
              "34             Robin Koch\n",
              "35             Ezri Konsa\n",
              "36         Diego Llorente\n",
              "38      Lisandro Martínez\n",
              "39          Scott McKenna\n",
              "40                Ben Mee\n",
              "41           Chris Mepham\n",
              "42           Tyrone Mings\n",
              "47               Tim Ream\n",
              "50        Mohammed Salisu\n",
              "56        James Tarkowski\n",
              "61           Joël Veltman\n",
              "64              Joel Ward\n",
              "70             Kurt Zouma\n",
              "Name: name, dtype: object"
            ]
          },
          "metadata": {},
          "execution_count": 78
        }
      ]
    },
    {
      "cell_type": "markdown",
      "source": [
        "**Cluster 1**"
      ],
      "metadata": {
        "id": "8U4gCTlEqc9j"
      }
    },
    {
      "cell_type": "code",
      "source": [
        "reduced[reduced[\"cluster\"]==1]['name']"
      ],
      "metadata": {
        "colab": {
          "base_uri": "https://localhost:8080/"
        },
        "id": "-nElCPj1qgz4",
        "outputId": "b40e2958-e50e-4c12-9a25-04b47222f9b9"
      },
      "execution_count": null,
      "outputs": [
        {
          "output_type": "execute_result",
          "data": {
            "text/plain": [
              "3       Joachim Andersen\n",
              "5            Sven Botman\n",
              "12        Nathan Collins\n",
              "18             Eric Dier\n",
              "21    Gabriel Dos Santos\n",
              "22            Lewis Dunk\n",
              "24           Jonny Evans\n",
              "33            Max Kilman\n",
              "49        William Saliba\n",
              "51          Fabian Schär\n",
              "65          Adam Webster\n",
              "68           Joe Worrall\n",
              "Name: name, dtype: object"
            ]
          },
          "metadata": {},
          "execution_count": 80
        }
      ]
    },
    {
      "cell_type": "markdown",
      "source": [
        "# 3d K-means clustering"
      ],
      "metadata": {
        "id": "j1FK22EW1Cmi"
      }
    },
    {
      "cell_type": "markdown",
      "source": [
        "Now, let's use df_3d and in an analogous way reduce to 3 dimensions using PCA. This way we can plot our players and look for relationships in a 3D analysis.\n",
        "\n",
        "\n",
        "\n"
      ],
      "metadata": {
        "id": "RozXqGfgzoGO"
      }
    },
    {
      "cell_type": "code",
      "source": [
        "from sklearn import preprocessing\n",
        "\n",
        "player_names_3d = df_3d['Player'].tolist() \n",
        "\n",
        "df_3d = df_3d.drop(['Player'], axis = 1) \n",
        "\n",
        "x = df_3d.values \n",
        "scaler = preprocessing.MinMaxScaler()\n",
        "x_scaled = scaler.fit_transform(x)\n",
        "X_norm = pd.DataFrame(x_scaled)"
      ],
      "metadata": {
        "id": "eLmFsast0jLC"
      },
      "execution_count": null,
      "outputs": []
    },
    {
      "cell_type": "code",
      "source": [
        "from sklearn.decomposition import PCA\n",
        "\n",
        "pca = PCA(n_components = 3)\n",
        "df1 = pd.DataFrame(pca.fit_transform(X_norm))\n",
        "df1.head()"
      ],
      "metadata": {
        "id": "e_MSyJTk08Gy"
      },
      "execution_count": null,
      "outputs": []
    },
    {
      "cell_type": "code",
      "source": [
        "import re, seaborn as sns\n",
        "from sklearn.cluster import KMeans\n",
        "from matplotlib import pyplot as plt\n",
        "from mpl_toolkits.mplot3d import Axes3D\n",
        "from matplotlib.colors import ListedColormap\n",
        "\n",
        "\n",
        "%matplotlib inline\n",
        "df1.columns = ['PC1','PC2', 'PC3']\n",
        "\n",
        "ax = plt.figure().gca(projection='3d')\n",
        "\n",
        "ax.scatter(df1['PC1'], df1['PC2'], df1['PC3'], s=40)\n",
        "\n",
        "plt.show()\n",
        "\n",
        "wcss = [] \n",
        "for i in range(1, 15): \n",
        "  kmeans = KMeans(n_clusters = i, init = 'k-means++', random_state = 42)\n",
        "  kmeans.fit(df1) \n",
        "  wcss.append(kmeans.inertia_)\n",
        "\n",
        "plt.plot(range(1, 15), wcss)\n",
        "plt.xlabel('Numero de clusters (K)')\n",
        "plt.ylabel('WCSS')"
      ],
      "metadata": {
        "colab": {
          "base_uri": "https://localhost:8080/",
          "height": 533
        },
        "id": "d01HU0uM1Bdj",
        "outputId": "0757691b-cc7f-4f3a-be4b-3aeba12e70c0"
      },
      "execution_count": null,
      "outputs": [
        {
          "output_type": "display_data",
          "data": {
            "text/plain": [
              "<Figure size 432x288 with 1 Axes>"
            ],
            "image/png": "[encoded data removed]"
          },
          "metadata": {
            "needs_background": "light"
          }
        },
        {
          "output_type": "execute_result",
          "data": {
            "text/plain": [
              "Text(0, 0.5, 'WCSS')"
            ]
          },
          "metadata": {},
          "execution_count": 45
        },
        {
          "output_type": "display_data",
          "data": {
            "text/plain": [
              "<Figure size 432x288 with 1 Axes>"
            ],
            "image/png": "[encoded data removed]"
          },
          "metadata": {
            "needs_background": "light"
          }
        }
      ]
    },
    {
      "cell_type": "code",
      "source": [
        "kmeans = KMeans(n_clusters=9)\n",
        "kmeans = kmeans.fit(df1)\n",
        "\n",
        "labels = kmeans.predict(df1)\n",
        "clusters = kmeans.labels_.tolist()\n",
        "\n",
        "df1['cluster'] = clusters\n",
        "df1['name'] = player_names\n",
        "df1.columns = ['x', 'y', 'z', 'cluster', 'name']\n",
        "df1"
      ],
      "metadata": {
        "colab": {
          "base_uri": "https://localhost:8080/",
          "height": 1000
        },
        "id": "w9eJq7oX1T1E",
        "outputId": "e2d583c1-ff80-4307-9818-39ffa0f06e27"
      },
      "execution_count": null,
      "outputs": [
        {
          "output_type": "execute_result",
          "data": {
            "text/plain": [
              "           x         y         z  cluster                    name\n",
              "0  -0.639051 -0.338125 -0.450186        3        Tosin Adarabioyo\n",
              "1   1.145303  0.432487 -0.399182        2         Rayan Aït Nouri\n",
              "2   1.749324  1.003704  0.934118        2  Trent Alexander-Arnold\n",
              "3  -0.534441  0.036560 -0.032248        8        Joachim Andersen\n",
              "4  -0.293951 -0.378632  0.091178        3     Armel Bella Kotchap\n",
              "5  -0.519228  0.117903  0.620235        6             Sven Botman\n",
              "6  -0.304308 -0.214421  0.187277        6                Dan Burn\n",
              "7   1.260826  1.579869 -0.579385        2            João Cancelo\n",
              "8   0.829139 -0.161262 -0.121493        5              Matty Cash\n",
              "9   0.611402  0.093884  0.151858        7        Timothy Castagne\n",
              "10  0.450866  0.334959 -0.770635        5            Jonny Castro\n",
              "11 -0.713430 -0.078348  0.588159        6             Conor Coady\n",
              "12 -0.669941  0.593625 -0.309182        8          Nathan Collins\n",
              "13  0.623673 -0.601185  0.292289        1         Vladimír Coufal\n",
              "14  0.268480 -0.202848  0.658379        7         Aaron Cresswell\n",
              "15  0.966723  0.647592  0.516968        2          Marc Cucurella\n",
              "16  0.831615 -0.123454 -0.069030        5             Diogo Dalot\n",
              "17 -0.403062  1.915210 -0.588271        4              Rúben Dias\n",
              "18 -0.745730  0.455164  0.338479        0               Eric Dier\n",
              "19  0.518226 -0.121740  0.468845        7             Lucas Digne\n",
              "20  1.011490 -0.454076 -0.451007        5          Moussa Djenepo\n",
              "21 -0.600451  0.659772  0.199148        0      Gabriel Dos Santos\n",
              "22 -0.842079  0.202458 -0.372866        8              Lewis Dunk\n",
              "23  0.542572  0.028693 -0.365871        5                 Emerson\n",
              "24 -0.923170  0.466143  0.230609        0             Jonny Evans\n",
              "25 -0.749983 -0.015124 -0.330630        8              Marc Guéhi\n",
              "26  0.345078 -0.734334 -0.040584        1              Rico Henry\n",
              "27  0.134592 -0.326738 -0.539124        5            Aaron Hickey\n",
              "28  1.026056  0.780833  0.130085        2             Reece James\n",
              "29 -0.874886 -0.433579  0.559139        6          Pontus Jansson\n",
              "30  0.402510 -0.110847 -0.134597        5            James Justin\n",
              "31 -0.584082 -0.246180  0.293443        6            Thilo Kehrer\n",
              "32 -0.468699 -0.391544  0.942865        6             Lloyd Kelly\n",
              "33 -0.638506  0.461853 -0.401473        8              Max Kilman\n",
              "34 -0.615097 -0.264374  0.285604        6              Robin Koch\n",
              "35 -0.659417 -0.357974 -0.380587        3              Ezri Konsa\n",
              "36 -0.647159 -0.039175  0.075548        6          Diego Llorente\n",
              "37 -0.053650 -0.463475 -0.402500        3          Tyrell Malacia\n",
              "38 -0.577062 -0.098294 -0.352221        3       Lisandro Martínez\n",
              "39 -0.561185 -0.385012 -0.141982        3           Scott McKenna\n",
              "40 -0.483732 -0.199344 -0.479974        3                 Ben Mee\n",
              "41 -0.822783 -0.842449  0.256973        6            Chris Mepham\n",
              "42 -0.671877 -0.303507  0.593196        6            Tyrone Mings\n",
              "43  0.116186 -0.544716  0.373273        1         Tyrick Mitchell\n",
              "44  0.246056 -0.608696  0.270026        1       Vitaliy Mykolenko\n",
              "45  0.440248 -0.662722  0.204630        1           Rasmus Nissen\n",
              "46  0.465193 -0.799562 -0.317936        1        Nathan Patterson\n",
              "47 -0.656691 -0.311049 -0.535962        3                Tim Ream\n",
              "48  0.459827 -0.679425  0.278561        1        Antonee Robinson\n",
              "49 -0.751694  0.716593 -0.143114        8          William Saliba\n",
              "50 -0.226138 -0.565691 -0.413568        3         Mohammed Salisu\n",
              "51 -0.194833  0.160624  0.578244        6            Fabian Schär\n",
              "52 -0.438822  1.286700 -0.132801        4            Thiago Silva\n",
              "53  0.088780 -0.788622 -0.201515        1              Adam Smith\n",
              "54 -0.653751  1.485138  0.636083        0             John Stones\n",
              "55  0.765857 -0.203680 -0.501667        5          Pascal Struijk\n",
              "56 -0.686973 -0.405564 -0.481870        3         James Tarkowski\n",
              "57  0.391515 -0.414982  0.595671        7              Kenny Tete\n",
              "58  0.926847 -0.088119  0.428175        7         Kieran Trippier\n",
              "59  1.924957  0.008030  0.180978        2        Leandro Trossard\n",
              "60 -0.597860  0.988098  0.421653        0         Virgil van Dijk\n",
              "61 -0.190738 -0.355739 -0.010949        3            Joël Veltman\n",
              "62 -0.091394  1.514020 -0.253475        4             Kyle Walker\n",
              "63  1.253935 -0.261717 -0.560766        5      Kyle Walker-Peters\n",
              "64 -0.230844 -0.777151 -0.240459        3               Joel Ward\n",
              "65 -0.249117  0.261302 -0.114330        8            Adam Webster\n",
              "66  0.316230  0.477585  0.176586        7               Ben White\n",
              "67  1.076088 -0.361061 -0.320531        5           Neco Williams\n",
              "68 -0.617973  0.078974 -0.247275        8             Joe Worrall\n",
              "69  0.810416 -0.577926  0.018172        1           Jordan Zemura\n",
              "70 -0.816222 -0.495309 -0.387199        3              Kurt Zouma"
            ],
            "text/html": [
              "\n",
              "  <div id=\"df-2c4d321e-614d-4c00-9f92-497b308cc645\">\n",
              "    <div class=\"colab-df-container\">\n",
              "      <div>\n",
              "<style scoped>\n",
              "    .dataframe tbody tr th:only-of-type {\n",
              "        vertical-align: middle;\n",
              "    }\n",
              "\n",
              "    .dataframe tbody tr th {\n",
              "        vertical-align: top;\n",
              "    }\n",
              "\n",
              "    .dataframe thead th {\n",
              "        text-align: right;\n",
              "    }\n",
              "</style>\n",
              "<table border=\"1\" class=\"dataframe\">\n",
              "  <thead>\n",
              "    <tr style=\"text-align: right;\">\n",
              "      <th></th>\n",
              "      <th>x</th>\n",
              "      <th>y</th>\n",
              "      <th>z</th>\n",
              "      <th>cluster</th>\n",
              "      <th>name</th>\n",
              "    </tr>\n",
              "  </thead>\n",
              "  <tbody>\n",
              "    <tr>\n",
              "      <th>0</th>\n",
              "      <td>-0.639051</td>\n",
              "      <td>-0.338125</td>\n",
              "      <td>-0.450186</td>\n",
              "      <td>3</td>\n",
              "      <td>Tosin Adarabioyo</td>\n",
              "    </tr>\n",
              "    <tr>\n",
              "      <th>1</th>\n",
              "      <td>1.145303</td>\n",
              "      <td>0.432487</td>\n",
              "      <td>-0.399182</td>\n",
              "      <td>2</td>\n",
              "      <td>Rayan Aït Nouri</td>\n",
              "    </tr>\n",
              "    <tr>\n",
              "      <th>2</th>\n",
              "      <td>1.749324</td>\n",
              "      <td>1.003704</td>\n",
              "      <td>0.934118</td>\n",
              "      <td>2</td>\n",
              "      <td>Trent Alexander-Arnold</td>\n",
              "    </tr>\n",
              "    <tr>\n",
              "      <th>3</th>\n",
              "      <td>-0.534441</td>\n",
              "      <td>0.036560</td>\n",
              "      <td>-0.032248</td>\n",
              "      <td>8</td>\n",
              "      <td>Joachim Andersen</td>\n",
              "    </tr>\n",
              "    <tr>\n",
              "      <th>4</th>\n",
              "      <td>-0.293951</td>\n",
              "      <td>-0.378632</td>\n",
              "      <td>0.091178</td>\n",
              "      <td>3</td>\n",
              "      <td>Armel Bella Kotchap</td>\n",
              "    </tr>\n",
              "    <tr>\n",
              "      <th>5</th>\n",
              "      <td>-0.519228</td>\n",
              "      <td>0.117903</td>\n",
              "      <td>0.620235</td>\n",
              "      <td>6</td>\n",
              "      <td>Sven Botman</td>\n",
              "    </tr>\n",
              "    <tr>\n",
              "      <th>6</th>\n",
              "      <td>-0.304308</td>\n",
              "      <td>-0.214421</td>\n",
              "      <td>0.187277</td>\n",
              "      <td>6</td>\n",
              "      <td>Dan Burn</td>\n",
              "    </tr>\n",
              "    <tr>\n",
              "      <th>7</th>\n",
              "      <td>1.260826</td>\n",
              "      <td>1.579869</td>\n",
              "      <td>-0.579385</td>\n",
              "      <td>2</td>\n",
              "      <td>João Cancelo</td>\n",
              "    </tr>\n",
              "    <tr>\n",
              "      <th>8</th>\n",
              "      <td>0.829139</td>\n",
              "      <td>-0.161262</td>\n",
              "      <td>-0.121493</td>\n",
              "      <td>5</td>\n",
              "      <td>Matty Cash</td>\n",
              "    </tr>\n",
              "    <tr>\n",
              "      <th>9</th>\n",
              "      <td>0.611402</td>\n",
              "      <td>0.093884</td>\n",
              "      <td>0.151858</td>\n",
              "      <td>7</td>\n",
              "      <td>Timothy Castagne</td>\n",
              "    </tr>\n",
              "    <tr>\n",
              "      <th>10</th>\n",
              "      <td>0.450866</td>\n",
              "      <td>0.334959</td>\n",
              "      <td>-0.770635</td>\n",
              "      <td>5</td>\n",
              "      <td>Jonny Castro</td>\n",
              "    </tr>\n",
              "    <tr>\n",
              "      <th>11</th>\n",
              "      <td>-0.713430</td>\n",
              "      <td>-0.078348</td>\n",
              "      <td>0.588159</td>\n",
              "      <td>6</td>\n",
              "      <td>Conor Coady</td>\n",
              "    </tr>\n",
              "    <tr>\n",
              "      <th>12</th>\n",
              "      <td>-0.669941</td>\n",
              "      <td>0.593625</td>\n",
              "      <td>-0.309182</td>\n",
              "      <td>8</td>\n",
              "      <td>Nathan Collins</td>\n",
              "    </tr>\n",
              "    <tr>\n",
              "      <th>13</th>\n",
              "      <td>0.623673</td>\n",
              "      <td>-0.601185</td>\n",
              "      <td>0.292289</td>\n",
              "      <td>1</td>\n",
              "      <td>Vladimír Coufal</td>\n",
              "    </tr>\n",
              "    <tr>\n",
              "      <th>14</th>\n",
              "      <td>0.268480</td>\n",
              "      <td>-0.202848</td>\n",
              "      <td>0.658379</td>\n",
              "      <td>7</td>\n",
              "      <td>Aaron Cresswell</td>\n",
              "    </tr>\n",
              "    <tr>\n",
              "      <th>15</th>\n",
              "      <td>0.966723</td>\n",
              "      <td>0.647592</td>\n",
              "      <td>0.516968</td>\n",
              "      <td>2</td>\n",
              "      <td>Marc Cucurella</td>\n",
              "    </tr>\n",
              "    <tr>\n",
              "      <th>16</th>\n",
              "      <td>0.831615</td>\n",
              "      <td>-0.123454</td>\n",
              "      <td>-0.069030</td>\n",
              "      <td>5</td>\n",
              "      <td>Diogo Dalot</td>\n",
              "    </tr>\n",
              "    <tr>\n",
              "      <th>17</th>\n",
              "      <td>-0.403062</td>\n",
              "      <td>1.915210</td>\n",
              "      <td>-0.588271</td>\n",
              "      <td>4</td>\n",
              "      <td>Rúben Dias</td>\n",
              "    </tr>\n",
              "    <tr>\n",
              "      <th>18</th>\n",
              "      <td>-0.745730</td>\n",
              "      <td>0.455164</td>\n",
              "      <td>0.338479</td>\n",
              "      <td>0</td>\n",
              "      <td>Eric Dier</td>\n",
              "    </tr>\n",
              "    <tr>\n",
              "      <th>19</th>\n",
              "      <td>0.518226</td>\n",
              "      <td>-0.121740</td>\n",
              "      <td>0.468845</td>\n",
              "      <td>7</td>\n",
              "      <td>Lucas Digne</td>\n",
              "    </tr>\n",
              "    <tr>\n",
              "      <th>20</th>\n",
              "      <td>1.011490</td>\n",
              "      <td>-0.454076</td>\n",
              "      <td>-0.451007</td>\n",
              "      <td>5</td>\n",
              "      <td>Moussa Djenepo</td>\n",
              "    </tr>\n",
              "    <tr>\n",
              "      <th>21</th>\n",
              "      <td>-0.600451</td>\n",
              "      <td>0.659772</td>\n",
              "      <td>0.199148</td>\n",
              "      <td>0</td>\n",
              "      <td>Gabriel Dos Santos</td>\n",
              "    </tr>\n",
              "    <tr>\n",
              "      <th>22</th>\n",
              "      <td>-0.842079</td>\n",
              "      <td>0.202458</td>\n",
              "      <td>-0.372866</td>\n",
              "      <td>8</td>\n",
              "      <td>Lewis Dunk</td>\n",
              "    </tr>\n",
              "    <tr>\n",
              "      <th>23</th>\n",
              "      <td>0.542572</td>\n",
              "      <td>0.028693</td>\n",
              "      <td>-0.365871</td>\n",
              "      <td>5</td>\n",
              "      <td>Emerson</td>\n",
              "    </tr>\n",
              "    <tr>\n",
              "      <th>24</th>\n",
              "      <td>-0.923170</td>\n",
              "      <td>0.466143</td>\n",
              "      <td>0.230609</td>\n",
              "      <td>0</td>\n",
              "      <td>Jonny Evans</td>\n",
              "    </tr>\n",
              "    <tr>\n",
              "      <th>25</th>\n",
              "      <td>-0.749983</td>\n",
              "      <td>-0.015124</td>\n",
              "      <td>-0.330630</td>\n",
              "      <td>8</td>\n",
              "      <td>Marc Guéhi</td>\n",
              "    </tr>\n",
              "    <tr>\n",
              "      <th>26</th>\n",
              "      <td>0.345078</td>\n",
              "      <td>-0.734334</td>\n",
              "      <td>-0.040584</td>\n",
              "      <td>1</td>\n",
              "      <td>Rico Henry</td>\n",
              "    </tr>\n",
              "    <tr>\n",
              "      <th>27</th>\n",
              "      <td>0.134592</td>\n",
              "      <td>-0.326738</td>\n",
              "      <td>-0.539124</td>\n",
              "      <td>5</td>\n",
              "      <td>Aaron Hickey</td>\n",
              "    </tr>\n",
              "    <tr>\n",
              "      <th>28</th>\n",
              "      <td>1.026056</td>\n",
              "      <td>0.780833</td>\n",
              "      <td>0.130085</td>\n",
              "      <td>2</td>\n",
              "      <td>Reece James</td>\n",
              "    </tr>\n",
              "    <tr>\n",
              "      <th>29</th>\n",
              "      <td>-0.874886</td>\n",
              "      <td>-0.433579</td>\n",
              "      <td>0.559139</td>\n",
              "      <td>6</td>\n",
              "      <td>Pontus Jansson</td>\n",
              "    </tr>\n",
              "    <tr>\n",
              "      <th>30</th>\n",
              "      <td>0.402510</td>\n",
              "      <td>-0.110847</td>\n",
              "      <td>-0.134597</td>\n",
              "      <td>5</td>\n",
              "      <td>James Justin</td>\n",
              "    </tr>\n",
              "    <tr>\n",
              "      <th>31</th>\n",
              "      <td>-0.584082</td>\n",
              "      <td>-0.246180</td>\n",
              "      <td>0.293443</td>\n",
              "      <td>6</td>\n",
              "      <td>Thilo Kehrer</td>\n",
              "    </tr>\n",
              "    <tr>\n",
              "      <th>32</th>\n",
              "      <td>-0.468699</td>\n",
              "      <td>-0.391544</td>\n",
              "      <td>0.942865</td>\n",
              "      <td>6</td>\n",
              "      <td>Lloyd Kelly</td>\n",
              "    </tr>\n",
              "    <tr>\n",
              "      <th>33</th>\n",
              "      <td>-0.638506</td>\n",
              "      <td>0.461853</td>\n",
              "      <td>-0.401473</td>\n",
              "      <td>8</td>\n",
              "      <td>Max Kilman</td>\n",
              "    </tr>\n",
              "    <tr>\n",
              "      <th>34</th>\n",
              "      <td>-0.615097</td>\n",
              "      <td>-0.264374</td>\n",
              "      <td>0.285604</td>\n",
              "      <td>6</td>\n",
              "      <td>Robin Koch</td>\n",
              "    </tr>\n",
              "    <tr>\n",
              "      <th>35</th>\n",
              "      <td>-0.659417</td>\n",
              "      <td>-0.357974</td>\n",
              "      <td>-0.380587</td>\n",
              "      <td>3</td>\n",
              "      <td>Ezri Konsa</td>\n",
              "    </tr>\n",
              "    <tr>\n",
              "      <th>36</th>\n",
              "      <td>-0.647159</td>\n",
              "      <td>-0.039175</td>\n",
              "      <td>0.075548</td>\n",
              "      <td>6</td>\n",
              "      <td>Diego Llorente</td>\n",
              "    </tr>\n",
              "    <tr>\n",
              "      <th>37</th>\n",
              "      <td>-0.053650</td>\n",
              "      <td>-0.463475</td>\n",
              "      <td>-0.402500</td>\n",
              "      <td>3</td>\n",
              "      <td>Tyrell Malacia</td>\n",
              "    </tr>\n",
              "    <tr>\n",
              "      <th>38</th>\n",
              "      <td>-0.577062</td>\n",
              "      <td>-0.098294</td>\n",
              "      <td>-0.352221</td>\n",
              "      <td>3</td>\n",
              "      <td>Lisandro Martínez</td>\n",
              "    </tr>\n",
              "    <tr>\n",
              "      <th>39</th>\n",
              "      <td>-0.561185</td>\n",
              "      <td>-0.385012</td>\n",
              "      <td>-0.141982</td>\n",
              "      <td>3</td>\n",
              "      <td>Scott McKenna</td>\n",
              "    </tr>\n",
              "    <tr>\n",
              "      <th>40</th>\n",
              "      <td>-0.483732</td>\n",
              "      <td>-0.199344</td>\n",
              "      <td>-0.479974</td>\n",
              "      <td>3</td>\n",
              "      <td>Ben Mee</td>\n",
              "    </tr>\n",
              "    <tr>\n",
              "      <th>41</th>\n",
              "      <td>-0.822783</td>\n",
              "      <td>-0.842449</td>\n",
              "      <td>0.256973</td>\n",
              "      <td>6</td>\n",
              "      <td>Chris Mepham</td>\n",
              "    </tr>\n",
              "    <tr>\n",
              "      <th>42</th>\n",
              "      <td>-0.671877</td>\n",
              "      <td>-0.303507</td>\n",
              "      <td>0.593196</td>\n",
              "      <td>6</td>\n",
              "      <td>Tyrone Mings</td>\n",
              "    </tr>\n",
              "    <tr>\n",
              "      <th>43</th>\n",
              "      <td>0.116186</td>\n",
              "      <td>-0.544716</td>\n",
              "      <td>0.373273</td>\n",
              "      <td>1</td>\n",
              "      <td>Tyrick Mitchell</td>\n",
              "    </tr>\n",
              "    <tr>\n",
              "      <th>44</th>\n",
              "      <td>0.246056</td>\n",
              "      <td>-0.608696</td>\n",
              "      <td>0.270026</td>\n",
              "      <td>1</td>\n",
              "      <td>Vitaliy Mykolenko</td>\n",
              "    </tr>\n",
              "    <tr>\n",
              "      <th>45</th>\n",
              "      <td>0.440248</td>\n",
              "      <td>-0.662722</td>\n",
              "      <td>0.204630</td>\n",
              "      <td>1</td>\n",
              "      <td>Rasmus Nissen</td>\n",
              "    </tr>\n",
              "    <tr>\n",
              "      <th>46</th>\n",
              "      <td>0.465193</td>\n",
              "      <td>-0.799562</td>\n",
              "      <td>-0.317936</td>\n",
              "      <td>1</td>\n",
              "      <td>Nathan Patterson</td>\n",
              "    </tr>\n",
              "    <tr>\n",
              "      <th>47</th>\n",
              "      <td>-0.656691</td>\n",
              "      <td>-0.311049</td>\n",
              "      <td>-0.535962</td>\n",
              "      <td>3</td>\n",
              "      <td>Tim Ream</td>\n",
              "    </tr>\n",
              "    <tr>\n",
              "      <th>48</th>\n",
              "      <td>0.459827</td>\n",
              "      <td>-0.679425</td>\n",
              "      <td>0.278561</td>\n",
              "      <td>1</td>\n",
              "      <td>Antonee Robinson</td>\n",
              "    </tr>\n",
              "    <tr>\n",
              "      <th>49</th>\n",
              "      <td>-0.751694</td>\n",
              "      <td>0.716593</td>\n",
              "      <td>-0.143114</td>\n",
              "      <td>8</td>\n",
              "      <td>William Saliba</td>\n",
              "    </tr>\n",
              "    <tr>\n",
              "      <th>50</th>\n",
              "      <td>-0.226138</td>\n",
              "      <td>-0.565691</td>\n",
              "      <td>-0.413568</td>\n",
              "      <td>3</td>\n",
              "      <td>Mohammed Salisu</td>\n",
              "    </tr>\n",
              "    <tr>\n",
              "      <th>51</th>\n",
              "      <td>-0.194833</td>\n",
              "      <td>0.160624</td>\n",
              "      <td>0.578244</td>\n",
              "      <td>6</td>\n",
              "      <td>Fabian Schär</td>\n",
              "    </tr>\n",
              "    <tr>\n",
              "      <th>52</th>\n",
              "      <td>-0.438822</td>\n",
              "      <td>1.286700</td>\n",
              "      <td>-0.132801</td>\n",
              "      <td>4</td>\n",
              "      <td>Thiago Silva</td>\n",
              "    </tr>\n",
              "    <tr>\n",
              "      <th>53</th>\n",
              "      <td>0.088780</td>\n",
              "      <td>-0.788622</td>\n",
              "      <td>-0.201515</td>\n",
              "      <td>1</td>\n",
              "      <td>Adam Smith</td>\n",
              "    </tr>\n",
              "    <tr>\n",
              "      <th>54</th>\n",
              "      <td>-0.653751</td>\n",
              "      <td>1.485138</td>\n",
              "      <td>0.636083</td>\n",
              "      <td>0</td>\n",
              "      <td>John Stones</td>\n",
              "    </tr>\n",
              "    <tr>\n",
              "      <th>55</th>\n",
              "      <td>0.765857</td>\n",
              "      <td>-0.203680</td>\n",
              "      <td>-0.501667</td>\n",
              "      <td>5</td>\n",
              "      <td>Pascal Struijk</td>\n",
              "    </tr>\n",
              "    <tr>\n",
              "      <th>56</th>\n",
              "      <td>-0.686973</td>\n",
              "      <td>-0.405564</td>\n",
              "      <td>-0.481870</td>\n",
              "      <td>3</td>\n",
              "      <td>James Tarkowski</td>\n",
              "    </tr>\n",
              "    <tr>\n",
              "      <th>57</th>\n",
              "      <td>0.391515</td>\n",
              "      <td>-0.414982</td>\n",
              "      <td>0.595671</td>\n",
              "      <td>7</td>\n",
              "      <td>Kenny Tete</td>\n",
              "    </tr>\n",
              "    <tr>\n",
              "      <th>58</th>\n",
              "      <td>0.926847</td>\n",
              "      <td>-0.088119</td>\n",
              "      <td>0.428175</td>\n",
              "      <td>7</td>\n",
              "      <td>Kieran Trippier</td>\n",
              "    </tr>\n",
              "    <tr>\n",
              "      <th>59</th>\n",
              "      <td>1.924957</td>\n",
              "      <td>0.008030</td>\n",
              "      <td>0.180978</td>\n",
              "      <td>2</td>\n",
              "      <td>Leandro Trossard</td>\n",
              "    </tr>\n",
              "    <tr>\n",
              "      <th>60</th>\n",
              "      <td>-0.597860</td>\n",
              "      <td>0.988098</td>\n",
              "      <td>0.421653</td>\n",
              "      <td>0</td>\n",
              "      <td>Virgil van Dijk</td>\n",
              "    </tr>\n",
              "    <tr>\n",
              "      <th>61</th>\n",
              "      <td>-0.190738</td>\n",
              "      <td>-0.355739</td>\n",
              "      <td>-0.010949</td>\n",
              "      <td>3</td>\n",
              "      <td>Joël Veltman</td>\n",
              "    </tr>\n",
              "    <tr>\n",
              "      <th>62</th>\n",
              "      <td>-0.091394</td>\n",
              "      <td>1.514020</td>\n",
              "      <td>-0.253475</td>\n",
              "      <td>4</td>\n",
              "      <td>Kyle Walker</td>\n",
              "    </tr>\n",
              "    <tr>\n",
              "      <th>63</th>\n",
              "      <td>1.253935</td>\n",
              "      <td>-0.261717</td>\n",
              "      <td>-0.560766</td>\n",
              "      <td>5</td>\n",
              "      <td>Kyle Walker-Peters</td>\n",
              "    </tr>\n",
              "    <tr>\n",
              "      <th>64</th>\n",
              "      <td>-0.230844</td>\n",
              "      <td>-0.777151</td>\n",
              "      <td>-0.240459</td>\n",
              "      <td>3</td>\n",
              "      <td>Joel Ward</td>\n",
              "    </tr>\n",
              "    <tr>\n",
              "      <th>65</th>\n",
              "      <td>-0.249117</td>\n",
              "      <td>0.261302</td>\n",
              "      <td>-0.114330</td>\n",
              "      <td>8</td>\n",
              "      <td>Adam Webster</td>\n",
              "    </tr>\n",
              "    <tr>\n",
              "      <th>66</th>\n",
              "      <td>0.316230</td>\n",
              "      <td>0.477585</td>\n",
              "      <td>0.176586</td>\n",
              "      <td>7</td>\n",
              "      <td>Ben White</td>\n",
              "    </tr>\n",
              "    <tr>\n",
              "      <th>67</th>\n",
              "      <td>1.076088</td>\n",
              "      <td>-0.361061</td>\n",
              "      <td>-0.320531</td>\n",
              "      <td>5</td>\n",
              "      <td>Neco Williams</td>\n",
              "    </tr>\n",
              "    <tr>\n",
              "      <th>68</th>\n",
              "      <td>-0.617973</td>\n",
              "      <td>0.078974</td>\n",
              "      <td>-0.247275</td>\n",
              "      <td>8</td>\n",
              "      <td>Joe Worrall</td>\n",
              "    </tr>\n",
              "    <tr>\n",
              "      <th>69</th>\n",
              "      <td>0.810416</td>\n",
              "      <td>-0.577926</td>\n",
              "      <td>0.018172</td>\n",
              "      <td>1</td>\n",
              "      <td>Jordan Zemura</td>\n",
              "    </tr>\n",
              "    <tr>\n",
              "      <th>70</th>\n",
              "      <td>-0.816222</td>\n",
              "      <td>-0.495309</td>\n",
              "      <td>-0.387199</td>\n",
              "      <td>3</td>\n",
              "      <td>Kurt Zouma</td>\n",
              "    </tr>\n",
              "  </tbody>\n",
              "</table>\n",
              "</div>\n",
              "      <button class=\"colab-df-convert\" onclick=\"convertToInteractive('df-2c4d321e-614d-4c00-9f92-497b308cc645')\"\n",
              "              title=\"Convert this dataframe to an interactive table.\"\n",
              "              style=\"display:none;\">\n",
              "        \n",
              "  <svg xmlns=\"http://www.w3.org/2000/svg\" height=\"24px\"viewBox=\"0 0 24 24\"\n",
              "       width=\"24px\">\n",
              "    <path d=\"M0 0h24v24H0V0z\" fill=\"none\"/>\n",
              "    <path d=\"M18.56 5.44l.94 2.06.94-2.06 2.06-.94-2.06-.94-.94-2.06-.94 2.06-2.06.94zm-11 1L8.5 8.5l.94-2.06 2.06-.94-2.06-.94L8.5 2.5l-.94 2.06-2.06.94zm10 10l.94 2.06.94-2.06 2.06-.94-2.06-.94-.94-2.06-.94 2.06-2.06.94z\"/><path d=\"M17.41 7.96l-1.37-1.37c-.4-.4-.92-.59-1.43-.59-.52 0-1.04.2-1.43.59L10.3 9.45l-7.72 7.72c-.78.78-.78 2.05 0 2.83L4 21.41c.39.39.9.59 1.41.59.51 0 1.02-.2 1.41-.59l7.78-7.78 2.81-2.81c.8-.78.8-2.07 0-2.86zM5.41 20L4 18.59l7.72-7.72 1.47 1.35L5.41 20z\"/>\n",
              "  </svg>\n",
              "      </button>\n",
              "      \n",
              "  <style>\n",
              "    .colab-df-container {\n",
              "      display:flex;\n",
              "      flex-wrap:wrap;\n",
              "      gap: 12px;\n",
              "    }\n",
              "\n",
              "    .colab-df-convert {\n",
              "      background-color: #E8F0FE;\n",
              "      border: none;\n",
              "      border-radius: 50%;\n",
              "      cursor: pointer;\n",
              "      display: none;\n",
              "      fill: #1967D2;\n",
              "      height: 32px;\n",
              "      padding: 0 0 0 0;\n",
              "      width: 32px;\n",
              "    }\n",
              "\n",
              "    .colab-df-convert:hover {\n",
              "      background-color: #E2EBFA;\n",
              "      box-shadow: 0px 1px 2px rgba(60, 64, 67, 0.3), 0px 1px 3px 1px rgba(60, 64, 67, 0.15);\n",
              "      fill: #174EA6;\n",
              "    }\n",
              "\n",
              "    [theme=dark] .colab-df-convert {\n",
              "      background-color: #3B4455;\n",
              "      fill: #D2E3FC;\n",
              "    }\n",
              "\n",
              "    [theme=dark] .colab-df-convert:hover {\n",
              "      background-color: #434B5C;\n",
              "      box-shadow: 0px 1px 3px 1px rgba(0, 0, 0, 0.15);\n",
              "      filter: drop-shadow(0px 1px 2px rgba(0, 0, 0, 0.3));\n",
              "      fill: #FFFFFF;\n",
              "    }\n",
              "  </style>\n",
              "\n",
              "      <script>\n",
              "        const buttonEl =\n",
              "          document.querySelector('#df-2c4d321e-614d-4c00-9f92-497b308cc645 button.colab-df-convert');\n",
              "        buttonEl.style.display =\n",
              "          google.colab.kernel.accessAllowed ? 'block' : 'none';\n",
              "\n",
              "        async function convertToInteractive(key) {\n",
              "          const element = document.querySelector('#df-2c4d321e-614d-4c00-9f92-497b308cc645');\n",
              "          const dataTable =\n",
              "            await google.colab.kernel.invokeFunction('convertToInteractive',\n",
              "                                                     [key], {});\n",
              "          if (!dataTable) return;\n",
              "\n",
              "          const docLinkHtml = 'Like what you see? Visit the ' +\n",
              "            '<a target=\"_blank\" href=https://colab.research.google.com/notebooks/data_table.ipynb>data table notebook</a>'\n",
              "            + ' to learn more about interactive tables.';\n",
              "          element.innerHTML = '';\n",
              "          dataTable['output_type'] = 'display_data';\n",
              "          await google.colab.output.renderOutput(dataTable, element);\n",
              "          const docLink = document.createElement('div');\n",
              "          docLink.innerHTML = docLinkHtml;\n",
              "          element.appendChild(docLink);\n",
              "        }\n",
              "      </script>\n",
              "    </div>\n",
              "  </div>\n",
              "  "
            ]
          },
          "metadata": {},
          "execution_count": 46
        }
      ]
    },
    {
      "cell_type": "code",
      "source": [
        "from matplotlib import pyplot as plt\n",
        "from matplotlib import animation\n",
        "from mpl_toolkits.mplot3d import Axes3D\n",
        "from matplotlib import cm\n",
        "\n",
        "fig = plt.figure()\n",
        "ax = Axes3D(fig)\n",
        "\n",
        "def init():\n",
        "    ax.scatter(df1['x'], df1['y'], df1['z'], marker='o', s=20, c=df1['cluster'], cmap=plt.get_cmap('Set1'), alpha=0.6)\n",
        "    texts = []\n",
        "    return fig,\n",
        "\n",
        "def animate(i):\n",
        "    ax.view_init(elev=10., azim=i)\n",
        "    return fig,\n",
        "\n",
        "anim = animation.FuncAnimation(fig, animate, init_func=init,\n",
        "                               frames=360, interval=20, blit=True)\n",
        "\n",
        "anim.save('clusters_animation.mp4', fps=60, extra_args=['-vcodec', 'libx264'],dpi=300)"
      ],
      "metadata": {
        "colab": {
          "base_uri": "https://localhost:8080/",
          "height": 319
        },
        "id": "ZdPbbXIT1xY_",
        "outputId": "7009f29e-1b1f-4679-b43e-700e60fd6376"
      },
      "execution_count": 51,
      "outputs": [
        {
          "output_type": "display_data",
          "data": {
            "text/plain": [
              "<Figure size 432x288 with 1 Axes>"
            ],
            "image/png": "[encoded data removed]"
          },
          "metadata": {
            "needs_background": "light"
          }
        }
      ]
    }
  ]
}