{
  "nbformat": 4,
  "nbformat_minor": 0,
  "metadata": {
    "colab": {
      "name": "Dendogram.ipynb",
      "provenance": [],
      "collapsed_sections": []
    },
    "kernelspec": {
      "name": "python3",
      "display_name": "Python 3"
    },
    "language_info": {
      "name": "python"
    }
  },
  "cells": [
    {
      "cell_type": "markdown",
      "source": [
        "# **Hierarchal Clustering for the La Liga in Python**"
      ],
      "metadata": {
        "id": "WRdvR1A3QJOm"
      }
    },
    {
      "cell_type": "code",
      "source": [
        "import pandas as pd"
      ],
      "metadata": {
        "id": "dnd0NeVI8evA"
      },
      "execution_count": 4,
      "outputs": []
    },
    {
      "cell_type": "code",
      "source": [
        "# data from Fbref - 30/08/2022\n",
        "df = pd.read_excel('laliga_3rd_round.xlsx')\n",
        "df.head()"
      ],
      "metadata": {
        "colab": {
          "base_uri": "https://localhost:8080/",
          "height": 302
        },
        "id": "dHSYfS5z8kbA",
        "outputId": "a4e2406b-71e0-47d9-f210-0377b1d55283"
      },
      "execution_count": 86,
      "outputs": [
        {
          "output_type": "execute_result",
          "data": {
            "text/plain": [
              "             Squad  Possession  Min  90s  Goals    xG    xA  npxG  Pressures  \\\n",
              "0          Almeria        37.0  270  3.0   1.33  1.18  0.74  1.18        455   \n",
              "1    Athletic Club        54.7  270  3.0   1.67  1.02  0.90  1.02        264   \n",
              "2  Atletico Madrid        46.0  270  3.0   1.33  0.84  0.69  0.84        279   \n",
              "3        Barcelona        65.0  270  3.0   2.67  2.43  1.53  2.43        385   \n",
              "4            Betis        60.0  270  3.0   2.00  1.87  0.75  1.34        411   \n",
              "\n",
              "   % succ pressures  Progressive passes  Shots  Shots on target  \\\n",
              "0              18.2                  62     34               18   \n",
              "1              28.4                  87     55               16   \n",
              "2              24.0                  72     38               17   \n",
              "3              29.9                 147     61               21   \n",
              "4              29.7                  92     30               10   \n",
              "\n",
              "   Shots on target %  npxG/Shot  % Duels won  \n",
              "0               52.9       0.10         54.1  \n",
              "1               29.1       0.06         59.4  \n",
              "2               44.7       0.07         47.7  \n",
              "3               34.4       0.12         64.1  \n",
              "4               33.3       0.14         50.6  "
            ],
            "text/html": [
              "\n",
              "  <div id=\"df-b60aaa31-8427-4cb1-a254-2efaa881f1f3\">\n",
              "    <div class=\"colab-df-container\">\n",
              "      <div>\n",
              "<style scoped>\n",
              "    .dataframe tbody tr th:only-of-type {\n",
              "        vertical-align: middle;\n",
              "    }\n",
              "\n",
              "    .dataframe tbody tr th {\n",
              "        vertical-align: top;\n",
              "    }\n",
              "\n",
              "    .dataframe thead th {\n",
              "        text-align: right;\n",
              "    }\n",
              "</style>\n",
              "<table border=\"1\" class=\"dataframe\">\n",
              "  <thead>\n",
              "    <tr style=\"text-align: right;\">\n",
              "      <th></th>\n",
              "      <th>Squad</th>\n",
              "      <th>Possession</th>\n",
              "      <th>Min</th>\n",
              "      <th>90s</th>\n",
              "      <th>Goals</th>\n",
              "      <th>xG</th>\n",
              "      <th>xA</th>\n",
              "      <th>npxG</th>\n",
              "      <th>Pressures</th>\n",
              "      <th>% succ pressures</th>\n",
              "      <th>Progressive passes</th>\n",
              "      <th>Shots</th>\n",
              "      <th>Shots on target</th>\n",
              "      <th>Shots on target %</th>\n",
              "      <th>npxG/Shot</th>\n",
              "      <th>% Duels won</th>\n",
              "    </tr>\n",
              "  </thead>\n",
              "  <tbody>\n",
              "    <tr>\n",
              "      <th>0</th>\n",
              "      <td>Almeria</td>\n",
              "      <td>37.0</td>\n",
              "      <td>270</td>\n",
              "      <td>3.0</td>\n",
              "      <td>1.33</td>\n",
              "      <td>1.18</td>\n",
              "      <td>0.74</td>\n",
              "      <td>1.18</td>\n",
              "      <td>455</td>\n",
              "      <td>18.2</td>\n",
              "      <td>62</td>\n",
              "      <td>34</td>\n",
              "      <td>18</td>\n",
              "      <td>52.9</td>\n",
              "      <td>0.10</td>\n",
              "      <td>54.1</td>\n",
              "    </tr>\n",
              "    <tr>\n",
              "      <th>1</th>\n",
              "      <td>Athletic Club</td>\n",
              "      <td>54.7</td>\n",
              "      <td>270</td>\n",
              "      <td>3.0</td>\n",
              "      <td>1.67</td>\n",
              "      <td>1.02</td>\n",
              "      <td>0.90</td>\n",
              "      <td>1.02</td>\n",
              "      <td>264</td>\n",
              "      <td>28.4</td>\n",
              "      <td>87</td>\n",
              "      <td>55</td>\n",
              "      <td>16</td>\n",
              "      <td>29.1</td>\n",
              "      <td>0.06</td>\n",
              "      <td>59.4</td>\n",
              "    </tr>\n",
              "    <tr>\n",
              "      <th>2</th>\n",
              "      <td>Atletico Madrid</td>\n",
              "      <td>46.0</td>\n",
              "      <td>270</td>\n",
              "      <td>3.0</td>\n",
              "      <td>1.33</td>\n",
              "      <td>0.84</td>\n",
              "      <td>0.69</td>\n",
              "      <td>0.84</td>\n",
              "      <td>279</td>\n",
              "      <td>24.0</td>\n",
              "      <td>72</td>\n",
              "      <td>38</td>\n",
              "      <td>17</td>\n",
              "      <td>44.7</td>\n",
              "      <td>0.07</td>\n",
              "      <td>47.7</td>\n",
              "    </tr>\n",
              "    <tr>\n",
              "      <th>3</th>\n",
              "      <td>Barcelona</td>\n",
              "      <td>65.0</td>\n",
              "      <td>270</td>\n",
              "      <td>3.0</td>\n",
              "      <td>2.67</td>\n",
              "      <td>2.43</td>\n",
              "      <td>1.53</td>\n",
              "      <td>2.43</td>\n",
              "      <td>385</td>\n",
              "      <td>29.9</td>\n",
              "      <td>147</td>\n",
              "      <td>61</td>\n",
              "      <td>21</td>\n",
              "      <td>34.4</td>\n",
              "      <td>0.12</td>\n",
              "      <td>64.1</td>\n",
              "    </tr>\n",
              "    <tr>\n",
              "      <th>4</th>\n",
              "      <td>Betis</td>\n",
              "      <td>60.0</td>\n",
              "      <td>270</td>\n",
              "      <td>3.0</td>\n",
              "      <td>2.00</td>\n",
              "      <td>1.87</td>\n",
              "      <td>0.75</td>\n",
              "      <td>1.34</td>\n",
              "      <td>411</td>\n",
              "      <td>29.7</td>\n",
              "      <td>92</td>\n",
              "      <td>30</td>\n",
              "      <td>10</td>\n",
              "      <td>33.3</td>\n",
              "      <td>0.14</td>\n",
              "      <td>50.6</td>\n",
              "    </tr>\n",
              "  </tbody>\n",
              "</table>\n",
              "</div>\n",
              "      <button class=\"colab-df-convert\" onclick=\"convertToInteractive('df-b60aaa31-8427-4cb1-a254-2efaa881f1f3')\"\n",
              "              title=\"Convert this dataframe to an interactive table.\"\n",
              "              style=\"display:none;\">\n",
              "        \n",
              "  <svg xmlns=\"http://www.w3.org/2000/svg\" height=\"24px\"viewBox=\"0 0 24 24\"\n",
              "       width=\"24px\">\n",
              "    <path d=\"M0 0h24v24H0V0z\" fill=\"none\"/>\n",
              "    <path d=\"M18.56 5.44l.94 2.06.94-2.06 2.06-.94-2.06-.94-.94-2.06-.94 2.06-2.06.94zm-11 1L8.5 8.5l.94-2.06 2.06-.94-2.06-.94L8.5 2.5l-.94 2.06-2.06.94zm10 10l.94 2.06.94-2.06 2.06-.94-2.06-.94-.94-2.06-.94 2.06-2.06.94z\"/><path d=\"M17.41 7.96l-1.37-1.37c-.4-.4-.92-.59-1.43-.59-.52 0-1.04.2-1.43.59L10.3 9.45l-7.72 7.72c-.78.78-.78 2.05 0 2.83L4 21.41c.39.39.9.59 1.41.59.51 0 1.02-.2 1.41-.59l7.78-7.78 2.81-2.81c.8-.78.8-2.07 0-2.86zM5.41 20L4 18.59l7.72-7.72 1.47 1.35L5.41 20z\"/>\n",
              "  </svg>\n",
              "      </button>\n",
              "      \n",
              "  <style>\n",
              "    .colab-df-container {\n",
              "      display:flex;\n",
              "      flex-wrap:wrap;\n",
              "      gap: 12px;\n",
              "    }\n",
              "\n",
              "    .colab-df-convert {\n",
              "      background-color: #E8F0FE;\n",
              "      border: none;\n",
              "      border-radius: 50%;\n",
              "      cursor: pointer;\n",
              "      display: none;\n",
              "      fill: #1967D2;\n",
              "      height: 32px;\n",
              "      padding: 0 0 0 0;\n",
              "      width: 32px;\n",
              "    }\n",
              "\n",
              "    .colab-df-convert:hover {\n",
              "      background-color: #E2EBFA;\n",
              "      box-shadow: 0px 1px 2px rgba(60, 64, 67, 0.3), 0px 1px 3px 1px rgba(60, 64, 67, 0.15);\n",
              "      fill: #174EA6;\n",
              "    }\n",
              "\n",
              "    [theme=dark] .colab-df-convert {\n",
              "      background-color: #3B4455;\n",
              "      fill: #D2E3FC;\n",
              "    }\n",
              "\n",
              "    [theme=dark] .colab-df-convert:hover {\n",
              "      background-color: #434B5C;\n",
              "      box-shadow: 0px 1px 3px 1px rgba(0, 0, 0, 0.15);\n",
              "      filter: drop-shadow(0px 1px 2px rgba(0, 0, 0, 0.3));\n",
              "      fill: #FFFFFF;\n",
              "    }\n",
              "  </style>\n",
              "\n",
              "      <script>\n",
              "        const buttonEl =\n",
              "          document.querySelector('#df-b60aaa31-8427-4cb1-a254-2efaa881f1f3 button.colab-df-convert');\n",
              "        buttonEl.style.display =\n",
              "          google.colab.kernel.accessAllowed ? 'block' : 'none';\n",
              "\n",
              "        async function convertToInteractive(key) {\n",
              "          const element = document.querySelector('#df-b60aaa31-8427-4cb1-a254-2efaa881f1f3');\n",
              "          const dataTable =\n",
              "            await google.colab.kernel.invokeFunction('convertToInteractive',\n",
              "                                                     [key], {});\n",
              "          if (!dataTable) return;\n",
              "\n",
              "          const docLinkHtml = 'Like what you see? Visit the ' +\n",
              "            '<a target=\"_blank\" href=https://colab.research.google.com/notebooks/data_table.ipynb>data table notebook</a>'\n",
              "            + ' to learn more about interactive tables.';\n",
              "          element.innerHTML = '';\n",
              "          dataTable['output_type'] = 'display_data';\n",
              "          await google.colab.output.renderOutput(dataTable, element);\n",
              "          const docLink = document.createElement('div');\n",
              "          docLink.innerHTML = docLinkHtml;\n",
              "          element.appendChild(docLink);\n",
              "        }\n",
              "      </script>\n",
              "    </div>\n",
              "  </div>\n",
              "  "
            ]
          },
          "metadata": {},
          "execution_count": 86
        }
      ]
    },
    {
      "cell_type": "code",
      "source": [
        "df.info()"
      ],
      "metadata": {
        "id": "XzldkjVOCmq2"
      },
      "execution_count": null,
      "outputs": []
    },
    {
      "cell_type": "code",
      "source": [
        "import scipy.cluster.hierarchy as sch\n",
        "from sklearn.cluster import AgglomerativeClustering, KMeans\n",
        "from sklearn.preprocessing import normalize, scale\n",
        "import numpy as np\n",
        "import matplotlib.pyplot as plt\n",
        "from sklearn.preprocessing import LabelEncoder\n",
        "from sklearn.metrics import silhouette_score"
      ],
      "metadata": {
        "id": "1IatDQIqCtKn"
      },
      "execution_count": 88,
      "outputs": []
    },
    {
      "cell_type": "code",
      "source": [
        "for team in df[\"Squad\"]:\n",
        "    print(team)"
      ],
      "metadata": {
        "colab": {
          "base_uri": "https://localhost:8080/"
        },
        "id": "Sy5IbO6GCypt",
        "outputId": "796e07ae-3573-4931-d6a1-ceab7adaddeb"
      },
      "execution_count": 89,
      "outputs": [
        {
          "output_type": "stream",
          "name": "stdout",
          "text": [
            "Almeria\n",
            "Athletic Club\n",
            "Atletico Madrid\n",
            "Barcelona\n",
            "Betis\n",
            "Cadiz\n",
            "Celta Vigo\n",
            "Elche\n",
            "Espanyol\n",
            "Getafe\n",
            "Girona\n",
            "Mallorca\n",
            "Osasuna\n",
            "Rayo Vallecano\n",
            "Real Madrid\n",
            "Real Sociedad\n",
            "Sevilla\n",
            "Valencia\n",
            "Valladolid\n",
            "Villarreal\n"
          ]
        }
      ]
    },
    {
      "cell_type": "code",
      "source": [
        "# Initialise the encoder\n",
        "label_encoder = LabelEncoder()\n",
        "df[\"Squad\"] = label_encoder.fit_transform(df[\"Squad\"])"
      ],
      "metadata": {
        "id": "sMBSDBzbDAJJ"
      },
      "execution_count": 91,
      "outputs": []
    },
    {
      "cell_type": "code",
      "source": [
        "df.columns"
      ],
      "metadata": {
        "colab": {
          "base_uri": "https://localhost:8080/"
        },
        "id": "rLtAh5AnEIR8",
        "outputId": "355dc99a-6a1f-42d6-a4ac-39a3701d6a42"
      },
      "execution_count": 92,
      "outputs": [
        {
          "output_type": "execute_result",
          "data": {
            "text/plain": [
              "Index(['Squad', 'Possession', 'Min', '90s', 'Goals', 'xG', 'xA', 'npxG',\n",
              "       'Pressures', '% succ pressures', 'Progressive passes', 'Shots',\n",
              "       'Shots on target', 'Shots on target %', 'npxG/Shot', '% Duels won'],\n",
              "      dtype='object')"
            ]
          },
          "metadata": {},
          "execution_count": 92
        }
      ]
    },
    {
      "cell_type": "code",
      "source": [
        "df = df[['Squad', 'Possession', 'Goals', 'xG','npxG',\n",
        "       'Pressures', '% succ pressures', 'Progressive passes', 'Shots',\n",
        "       'Shots on target', 'npxG/Shot', '% Duels won']]"
      ],
      "metadata": {
        "id": "nlL9_H6WDMC4"
      },
      "execution_count": 93,
      "outputs": []
    },
    {
      "cell_type": "code",
      "source": [
        "df_normalised = normalize(df)"
      ],
      "metadata": {
        "id": "hJFh6Qd8DVzJ"
      },
      "execution_count": 94,
      "outputs": []
    },
    {
      "cell_type": "code",
      "source": [
        "# Dendrogram\n",
        "\n",
        "plt.figure(figsize=(14,8))\n",
        "\n",
        "plt.title(\"Hierarchal Clustering Dendrogram\",fontsize=21,fontfamily='serif')\n",
        "plt.xlabel(\"La Liga Teams\",fontsize=14)\n",
        "plt.ylabel(\"Distance (Ward)\")\n",
        "\n",
        "dendrogram = sch.dendrogram(sch.linkage(df, method = 'ward'))\n",
        "\n",
        "plt.annotate('Real Madrid\\n      and  \\n Barcelona',fontsize=13,fontfamily='serif',color ='black',xy=(119, 53), xytext=(93.5, 95),\n",
        "             arrowprops=dict(facecolor='red', shrink=0.01),\n",
        "             )\n",
        "\n",
        "plt.savefig('laliga_3rd_round_dendogram.png',dpi=500,bbox_inches = 'tight',facecolor='white')"
      ],
      "metadata": {
        "colab": {
          "base_uri": "https://localhost:8080/",
          "height": 525
        },
        "id": "ObtMS8_wDYy4",
        "outputId": "cc822054-0d77-437b-dd84-26652ad8a83c"
      },
      "execution_count": 95,
      "outputs": [
        {
          "output_type": "display_data",
          "data": {
            "text/plain": [
              "<Figure size 1008x576 with 1 Axes>"
            ],
            "image/png": "[encoded data removed]"
          },
          "metadata": {
            "needs_background": "light"
          }
        }
      ]
    },
    {
      "cell_type": "markdown",
      "source": [
        "0 - Almeria  /  1 - Athletic Club\n",
        "\n",
        "2 - Atletico Madrid / 3 - Barcelona\n",
        "\n",
        "4 - Betis / 5 - Cadiz\n",
        "\n",
        "6 - Celta Vigo / 7 - Elche\n",
        "\n",
        "8 - Espanyol / 9 - Getafe\n",
        "\n",
        "10 - Girona / 11 - Mallorca\n",
        "\n",
        "12 - Osasuna\n",
        " / 13 - Rayo Vallecano\n",
        "\n",
        "14 - Real Madrid\n",
        "/ 15 - Real Sociedad\n",
        "\n",
        "16 - Sevilla\n",
        "/ 17 - Valencia\n",
        "\n",
        "18 - Valladolid\n",
        "/ 19 - Villarreal    \n",
        "\n",
        "\n",
        "\n",
        "\n",
        "\n",
        "\n"
      ],
      "metadata": {
        "id": "0eXzEmWwO329"
      }
    },
    {
      "cell_type": "markdown",
      "source": [
        "**Silhouette** refers to a method of interpretation and validation of consistency within clusters of data. The technique provides a succinct graphical representation of how well each object has been classified.\n",
        "\n",
        "The silhouette value is a measure of how similar an object is to its own cluster (cohesion) compared to other clusters (separation). The silhouette ranges from −1 to +1, where a high value indicates that the object is well matched to its own cluster and poorly matched to neighboring clusters."
      ],
      "metadata": {
        "id": "zOGurBkiGgYm"
      }
    },
    {
      "cell_type": "code",
      "source": [
        "# perform hierarchal clustering on unnormalised data\n",
        "\n",
        "hc = AgglomerativeClustering(n_clusters=5,affinity='euclidean', linkage='ward')\n",
        "\n",
        "\n",
        "y_pred = hc.fit_predict(df)\n",
        "\n",
        "silhouette_score(df,y_pred)"
      ],
      "metadata": {
        "colab": {
          "base_uri": "https://localhost:8080/"
        },
        "id": "jE9kyzB2Dsy9",
        "outputId": "5ae5802c-0284-47f6-a6b4-6ed06311be23"
      },
      "execution_count": 18,
      "outputs": [
        {
          "output_type": "execute_result",
          "data": {
            "text/plain": [
              "0.4544644930482583"
            ]
          },
          "metadata": {},
          "execution_count": 18
        }
      ]
    }
  ]
}